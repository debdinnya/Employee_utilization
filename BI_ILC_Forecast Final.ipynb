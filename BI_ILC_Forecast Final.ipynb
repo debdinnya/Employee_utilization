{
 "cells": [
  {
   "cell_type": "markdown",
   "metadata": {},
   "source": [
    "# Employee Utilization Prediction Model"
   ]
  },
  {
   "cell_type": "markdown",
   "metadata": {},
   "source": [
    "## Problem Description"
   ]
  },
  {
   "cell_type": "markdown",
   "metadata": {},
   "source": [
    "Every organization wants to keep a track of the available employee utilization in advance. This helps in proper planning of resource allocation to different projects and also helps to forecast the revenue of the organization. As a result, employee utilization forecast needs to be shared with different sectors in the organization for a few quarters in advance. Forecasts are usually generated manually considering vacation and holiday calendars. The process is quite cumbersome involving huge amount of manual effort and time. Also it has been observed that the forecasted figures rarely comes out to be close to the actual utilization figures."
   ]
  },
  {
   "cell_type": "markdown",
   "metadata": {},
   "source": [
    "## Model used "
   ]
  },
  {
   "cell_type": "markdown",
   "metadata": {},
   "source": [
    "Seasonal ARIMA model has been used in Python to solve the problem and create a model which has given close to 98% accuracy while comparing actual vs predicted employee utilization."
   ]
  },
  {
   "cell_type": "markdown",
   "metadata": {},
   "source": [
    "## Python Code"
   ]
  },
  {
   "cell_type": "code",
   "execution_count": 1,
   "metadata": {},
   "outputs": [
    {
     "data": {
      "text/html": [
       "        <script type=\"text/javascript\">\n",
       "        window.PlotlyConfig = {MathJaxConfig: 'local'};\n",
       "        if (window.MathJax) {MathJax.Hub.Config({SVG: {font: \"STIX-Web\"}});}\n",
       "        if (typeof require !== 'undefined') {\n",
       "        require.undef(\"plotly\");\n",
       "        requirejs.config({\n",
       "            paths: {\n",
       "                'plotly': ['https://cdn.plot.ly/plotly-latest.min']\n",
       "            }\n",
       "        });\n",
       "        require(['plotly'], function(Plotly) {\n",
       "            window._Plotly = Plotly;\n",
       "        });\n",
       "        }\n",
       "        </script>\n",
       "        "
      ]
     },
     "metadata": {},
     "output_type": "display_data"
    }
   ],
   "source": [
    "# first import the essential libraries\n",
    "\n",
    "import numpy as np\n",
    "import pandas as pd\n",
    "import itertools\n",
    "import statsmodels.api as sm\n",
    "import matplotlib.pyplot as plt\n",
    "%matplotlib inline\n",
    "import plotly\n",
    "import cufflinks as cf\n",
    "cf.go_offline()\n",
    "import warnings\n",
    "import datetime as dt"
   ]
  },
  {
   "cell_type": "code",
   "execution_count": 3,
   "metadata": {},
   "outputs": [
    {
     "data": {
      "text/html": [
       "<div>\n",
       "<style scoped>\n",
       "    .dataframe tbody tr th:only-of-type {\n",
       "        vertical-align: middle;\n",
       "    }\n",
       "\n",
       "    .dataframe tbody tr th {\n",
       "        vertical-align: top;\n",
       "    }\n",
       "\n",
       "    .dataframe thead th {\n",
       "        text-align: right;\n",
       "    }\n",
       "</style>\n",
       "<table border=\"1\" class=\"dataframe\">\n",
       "  <thead>\n",
       "    <tr style=\"text-align: right;\">\n",
       "      <th></th>\n",
       "      <th>Weekending Date</th>\n",
       "      <th>Mean hours</th>\n",
       "      <th>Chargeable hours</th>\n",
       "      <th>Actual Util%</th>\n",
       "      <th>Head Count</th>\n",
       "      <th>Available hours</th>\n",
       "      <th>Holiday</th>\n",
       "    </tr>\n",
       "  </thead>\n",
       "  <tbody>\n",
       "    <tr>\n",
       "      <th>0</th>\n",
       "      <td>2017-12-29</td>\n",
       "      <td>36.227397</td>\n",
       "      <td>2644.6</td>\n",
       "      <td>90.568493</td>\n",
       "      <td>73</td>\n",
       "      <td>2920.0</td>\n",
       "      <td>0.00</td>\n",
       "    </tr>\n",
       "    <tr>\n",
       "      <th>1</th>\n",
       "      <td>2018-01-05</td>\n",
       "      <td>42.251899</td>\n",
       "      <td>3337.9</td>\n",
       "      <td>105.629747</td>\n",
       "      <td>79</td>\n",
       "      <td>3160.0</td>\n",
       "      <td>0.00</td>\n",
       "    </tr>\n",
       "    <tr>\n",
       "      <th>2</th>\n",
       "      <td>2018-01-12</td>\n",
       "      <td>43.544304</td>\n",
       "      <td>3440.0</td>\n",
       "      <td>108.860759</td>\n",
       "      <td>79</td>\n",
       "      <td>3160.0</td>\n",
       "      <td>0.00</td>\n",
       "    </tr>\n",
       "    <tr>\n",
       "      <th>3</th>\n",
       "      <td>2018-01-19</td>\n",
       "      <td>41.341772</td>\n",
       "      <td>3266.0</td>\n",
       "      <td>103.354430</td>\n",
       "      <td>79</td>\n",
       "      <td>3160.0</td>\n",
       "      <td>0.00</td>\n",
       "    </tr>\n",
       "    <tr>\n",
       "      <th>4</th>\n",
       "      <td>2018-01-26</td>\n",
       "      <td>30.132911</td>\n",
       "      <td>2380.5</td>\n",
       "      <td>75.332278</td>\n",
       "      <td>79</td>\n",
       "      <td>3160.0</td>\n",
       "      <td>1.75</td>\n",
       "    </tr>\n",
       "    <tr>\n",
       "      <th>...</th>\n",
       "      <td>...</td>\n",
       "      <td>...</td>\n",
       "      <td>...</td>\n",
       "      <td>...</td>\n",
       "      <td>...</td>\n",
       "      <td>...</td>\n",
       "      <td>...</td>\n",
       "    </tr>\n",
       "    <tr>\n",
       "      <th>152</th>\n",
       "      <td>2020-11-27</td>\n",
       "      <td>NaN</td>\n",
       "      <td>NaN</td>\n",
       "      <td>NaN</td>\n",
       "      <td>83</td>\n",
       "      <td>NaN</td>\n",
       "      <td>0.00</td>\n",
       "    </tr>\n",
       "    <tr>\n",
       "      <th>153</th>\n",
       "      <td>2020-12-04</td>\n",
       "      <td>NaN</td>\n",
       "      <td>NaN</td>\n",
       "      <td>NaN</td>\n",
       "      <td>83</td>\n",
       "      <td>NaN</td>\n",
       "      <td>0.00</td>\n",
       "    </tr>\n",
       "    <tr>\n",
       "      <th>154</th>\n",
       "      <td>2020-12-11</td>\n",
       "      <td>NaN</td>\n",
       "      <td>NaN</td>\n",
       "      <td>NaN</td>\n",
       "      <td>83</td>\n",
       "      <td>NaN</td>\n",
       "      <td>0.00</td>\n",
       "    </tr>\n",
       "    <tr>\n",
       "      <th>155</th>\n",
       "      <td>2020-12-18</td>\n",
       "      <td>NaN</td>\n",
       "      <td>NaN</td>\n",
       "      <td>NaN</td>\n",
       "      <td>83</td>\n",
       "      <td>NaN</td>\n",
       "      <td>0.00</td>\n",
       "    </tr>\n",
       "    <tr>\n",
       "      <th>156</th>\n",
       "      <td>2020-12-25</td>\n",
       "      <td>NaN</td>\n",
       "      <td>NaN</td>\n",
       "      <td>NaN</td>\n",
       "      <td>83</td>\n",
       "      <td>NaN</td>\n",
       "      <td>1.00</td>\n",
       "    </tr>\n",
       "  </tbody>\n",
       "</table>\n",
       "<p>157 rows × 7 columns</p>\n",
       "</div>"
      ],
      "text/plain": [
       "    Weekending Date  Mean hours  Chargeable hours  Actual Util%  Head Count  \\\n",
       "0        2017-12-29   36.227397            2644.6     90.568493          73   \n",
       "1        2018-01-05   42.251899            3337.9    105.629747          79   \n",
       "2        2018-01-12   43.544304            3440.0    108.860759          79   \n",
       "3        2018-01-19   41.341772            3266.0    103.354430          79   \n",
       "4        2018-01-26   30.132911            2380.5     75.332278          79   \n",
       "..              ...         ...               ...           ...         ...   \n",
       "152      2020-11-27         NaN               NaN           NaN          83   \n",
       "153      2020-12-04         NaN               NaN           NaN          83   \n",
       "154      2020-12-11         NaN               NaN           NaN          83   \n",
       "155      2020-12-18         NaN               NaN           NaN          83   \n",
       "156      2020-12-25         NaN               NaN           NaN          83   \n",
       "\n",
       "     Available hours  Holiday  \n",
       "0             2920.0     0.00  \n",
       "1             3160.0     0.00  \n",
       "2             3160.0     0.00  \n",
       "3             3160.0     0.00  \n",
       "4             3160.0     1.75  \n",
       "..               ...      ...  \n",
       "152              NaN     0.00  \n",
       "153              NaN     0.00  \n",
       "154              NaN     0.00  \n",
       "155              NaN     0.00  \n",
       "156              NaN     1.00  \n",
       "\n",
       "[157 rows x 7 columns]"
      ]
     },
     "execution_count": 3,
     "metadata": {},
     "output_type": "execute_result"
    }
   ],
   "source": [
    "# import the input data\n",
    "\n",
    "df_ilc_holidays = pd.read_excel(r'C:\\Users\\DebdinnyaBanerjee\\ILC Forecast\\Input Files\\CleanedData_BI_20200806.xlsx')\n",
    "df_ilc_holidays"
   ]
  },
  {
   "cell_type": "code",
   "execution_count": 4,
   "metadata": {},
   "outputs": [
    {
     "data": {
      "text/plain": [
       "'2020-01-03'"
      ]
     },
     "execution_count": 4,
     "metadata": {},
     "output_type": "execute_result"
    }
   ],
   "source": [
    "# first index for current year\n",
    "curr_year = dt.date.today().year\n",
    "first_day_cur_year = dt.date(curr_year,1,1).strftime('%Y-%m-%d')\n",
    "first_index_cur_year = df_ilc_holidays[df_ilc_holidays['Weekending Date']>first_day_cur_year]['Weekending Date'].head(1).item()\n",
    "first_index_cur_year"
   ]
  },
  {
   "cell_type": "code",
   "execution_count": 5,
   "metadata": {},
   "outputs": [
    {
     "data": {
      "text/html": [
       "<div>\n",
       "<style scoped>\n",
       "    .dataframe tbody tr th:only-of-type {\n",
       "        vertical-align: middle;\n",
       "    }\n",
       "\n",
       "    .dataframe tbody tr th {\n",
       "        vertical-align: top;\n",
       "    }\n",
       "\n",
       "    .dataframe thead th {\n",
       "        text-align: right;\n",
       "    }\n",
       "</style>\n",
       "<table border=\"1\" class=\"dataframe\">\n",
       "  <thead>\n",
       "    <tr style=\"text-align: right;\">\n",
       "      <th></th>\n",
       "      <th>Mean hours</th>\n",
       "      <th>Chargeable hours</th>\n",
       "      <th>Actual Util%</th>\n",
       "      <th>Head Count</th>\n",
       "      <th>Available hours</th>\n",
       "      <th>Holiday</th>\n",
       "    </tr>\n",
       "    <tr>\n",
       "      <th>Weekending Date</th>\n",
       "      <th></th>\n",
       "      <th></th>\n",
       "      <th></th>\n",
       "      <th></th>\n",
       "      <th></th>\n",
       "      <th></th>\n",
       "    </tr>\n",
       "  </thead>\n",
       "  <tbody>\n",
       "    <tr>\n",
       "      <th>2017-12-29</th>\n",
       "      <td>36.227397</td>\n",
       "      <td>2644.6</td>\n",
       "      <td>90.568493</td>\n",
       "      <td>73</td>\n",
       "      <td>2920.0</td>\n",
       "      <td>0.00</td>\n",
       "    </tr>\n",
       "    <tr>\n",
       "      <th>2018-01-05</th>\n",
       "      <td>42.251899</td>\n",
       "      <td>3337.9</td>\n",
       "      <td>105.629747</td>\n",
       "      <td>79</td>\n",
       "      <td>3160.0</td>\n",
       "      <td>0.00</td>\n",
       "    </tr>\n",
       "    <tr>\n",
       "      <th>2018-01-12</th>\n",
       "      <td>43.544304</td>\n",
       "      <td>3440.0</td>\n",
       "      <td>108.860759</td>\n",
       "      <td>79</td>\n",
       "      <td>3160.0</td>\n",
       "      <td>0.00</td>\n",
       "    </tr>\n",
       "    <tr>\n",
       "      <th>2018-01-19</th>\n",
       "      <td>41.341772</td>\n",
       "      <td>3266.0</td>\n",
       "      <td>103.354430</td>\n",
       "      <td>79</td>\n",
       "      <td>3160.0</td>\n",
       "      <td>0.00</td>\n",
       "    </tr>\n",
       "    <tr>\n",
       "      <th>2018-01-26</th>\n",
       "      <td>30.132911</td>\n",
       "      <td>2380.5</td>\n",
       "      <td>75.332278</td>\n",
       "      <td>79</td>\n",
       "      <td>3160.0</td>\n",
       "      <td>1.75</td>\n",
       "    </tr>\n",
       "    <tr>\n",
       "      <th>...</th>\n",
       "      <td>...</td>\n",
       "      <td>...</td>\n",
       "      <td>...</td>\n",
       "      <td>...</td>\n",
       "      <td>...</td>\n",
       "      <td>...</td>\n",
       "    </tr>\n",
       "    <tr>\n",
       "      <th>2020-11-27</th>\n",
       "      <td>NaN</td>\n",
       "      <td>NaN</td>\n",
       "      <td>NaN</td>\n",
       "      <td>83</td>\n",
       "      <td>NaN</td>\n",
       "      <td>0.00</td>\n",
       "    </tr>\n",
       "    <tr>\n",
       "      <th>2020-12-04</th>\n",
       "      <td>NaN</td>\n",
       "      <td>NaN</td>\n",
       "      <td>NaN</td>\n",
       "      <td>83</td>\n",
       "      <td>NaN</td>\n",
       "      <td>0.00</td>\n",
       "    </tr>\n",
       "    <tr>\n",
       "      <th>2020-12-11</th>\n",
       "      <td>NaN</td>\n",
       "      <td>NaN</td>\n",
       "      <td>NaN</td>\n",
       "      <td>83</td>\n",
       "      <td>NaN</td>\n",
       "      <td>0.00</td>\n",
       "    </tr>\n",
       "    <tr>\n",
       "      <th>2020-12-18</th>\n",
       "      <td>NaN</td>\n",
       "      <td>NaN</td>\n",
       "      <td>NaN</td>\n",
       "      <td>83</td>\n",
       "      <td>NaN</td>\n",
       "      <td>0.00</td>\n",
       "    </tr>\n",
       "    <tr>\n",
       "      <th>2020-12-25</th>\n",
       "      <td>NaN</td>\n",
       "      <td>NaN</td>\n",
       "      <td>NaN</td>\n",
       "      <td>83</td>\n",
       "      <td>NaN</td>\n",
       "      <td>1.00</td>\n",
       "    </tr>\n",
       "  </tbody>\n",
       "</table>\n",
       "<p>157 rows × 6 columns</p>\n",
       "</div>"
      ],
      "text/plain": [
       "                 Mean hours  Chargeable hours  Actual Util%  Head Count  \\\n",
       "Weekending Date                                                           \n",
       "2017-12-29        36.227397            2644.6     90.568493          73   \n",
       "2018-01-05        42.251899            3337.9    105.629747          79   \n",
       "2018-01-12        43.544304            3440.0    108.860759          79   \n",
       "2018-01-19        41.341772            3266.0    103.354430          79   \n",
       "2018-01-26        30.132911            2380.5     75.332278          79   \n",
       "...                     ...               ...           ...         ...   \n",
       "2020-11-27              NaN               NaN           NaN          83   \n",
       "2020-12-04              NaN               NaN           NaN          83   \n",
       "2020-12-11              NaN               NaN           NaN          83   \n",
       "2020-12-18              NaN               NaN           NaN          83   \n",
       "2020-12-25              NaN               NaN           NaN          83   \n",
       "\n",
       "                 Available hours  Holiday  \n",
       "Weekending Date                            \n",
       "2017-12-29                2920.0     0.00  \n",
       "2018-01-05                3160.0     0.00  \n",
       "2018-01-12                3160.0     0.00  \n",
       "2018-01-19                3160.0     0.00  \n",
       "2018-01-26                3160.0     1.75  \n",
       "...                          ...      ...  \n",
       "2020-11-27                   NaN     0.00  \n",
       "2020-12-04                   NaN     0.00  \n",
       "2020-12-11                   NaN     0.00  \n",
       "2020-12-18                   NaN     0.00  \n",
       "2020-12-25                   NaN     1.00  \n",
       "\n",
       "[157 rows x 6 columns]"
      ]
     },
     "execution_count": 5,
     "metadata": {},
     "output_type": "execute_result"
    }
   ],
   "source": [
    "# set the Weekending Date as the index\n",
    "\n",
    "df_ilc_holidays.set_index('Weekending Date',inplace=True)\n",
    "df_ilc_holidays"
   ]
  },
  {
   "cell_type": "markdown",
   "metadata": {},
   "source": [
    "In this dataset, we will come across some records where the Mean hours has been given. This is the actual utilization data. While for some others, the mean hours has been set to null and employee headcount and holiday factor has been given. These will be used for the forecast data."
   ]
  },
  {
   "cell_type": "code",
   "execution_count": 8,
   "metadata": {},
   "outputs": [
    {
     "data": {
      "text/plain": [
       "'2017-12-29'"
      ]
     },
     "execution_count": 8,
     "metadata": {},
     "output_type": "execute_result"
    }
   ],
   "source": [
    "# find out first and last weeks for actual hours for entire dataset\n",
    "df_actuals_first_index = df_ilc_holidays[df_ilc_holidays['Mean hours'].notna()]['Mean hours'].first_valid_index()\n",
    "df_actuals_first_index"
   ]
  },
  {
   "cell_type": "code",
   "execution_count": 9,
   "metadata": {},
   "outputs": [
    {
     "data": {
      "text/plain": [
       "'2020-07-31'"
      ]
     },
     "execution_count": 9,
     "metadata": {},
     "output_type": "execute_result"
    }
   ],
   "source": [
    "df_actuals_last_index = df_ilc_holidays[df_ilc_holidays['Mean hours'].notna()]['Mean hours'].last_valid_index()\n",
    "df_actuals_last_index"
   ]
  },
  {
   "cell_type": "code",
   "execution_count": 10,
   "metadata": {},
   "outputs": [
    {
     "data": {
      "text/plain": [
       "'2020-08-07'"
      ]
     },
     "execution_count": 10,
     "metadata": {},
     "output_type": "execute_result"
    }
   ],
   "source": [
    "# similarly find out first and last week for prediction data\n",
    "df_predictions_first_index = df_ilc_holidays[df_ilc_holidays['Mean hours'].isna()]['Holiday'].first_valid_index()\n",
    "df_predictions_first_index"
   ]
  },
  {
   "cell_type": "code",
   "execution_count": 11,
   "metadata": {},
   "outputs": [
    {
     "data": {
      "text/plain": [
       "'2020-12-25'"
      ]
     },
     "execution_count": 11,
     "metadata": {},
     "output_type": "execute_result"
    }
   ],
   "source": [
    "df_predictions_last_index = df_ilc_holidays[df_ilc_holidays['Mean hours'].isna()]['Holiday'].last_valid_index()\n",
    "df_predictions_last_index"
   ]
  },
  {
   "cell_type": "code",
   "execution_count": 12,
   "metadata": {},
   "outputs": [
    {
     "data": {
      "application/vnd.plotly.v1+json": {
       "config": {
        "linkText": "Export to plot.ly",
        "plotlyServerURL": "https://plot.ly",
        "showLink": true
       },
       "data": [
        {
         "line": {
          "color": "rgba(255, 153, 51, 1.0)",
          "dash": "solid",
          "shape": "linear",
          "width": 1.3
         },
         "mode": "lines",
         "name": "Mean hours",
         "text": "",
         "type": "scatter",
         "x": [
          "2017-12-29",
          "2018-01-05",
          "2018-01-12",
          "2018-01-19",
          "2018-01-26",
          "2018-02-02",
          "2018-02-09",
          "2018-02-16",
          "2018-02-23",
          "2018-03-02",
          "2018-03-09",
          "2018-03-16",
          "2018-03-23",
          "2018-03-30",
          "2018-04-06",
          "2018-04-13",
          "2018-04-20",
          "2018-04-27",
          "2018-05-04",
          "2018-05-11",
          "2018-05-18",
          "2018-05-25",
          "2018-06-01",
          "2018-06-08",
          "2018-06-15",
          "2018-06-22",
          "2018-06-29",
          "2018-07-06",
          "2018-07-13",
          "2018-07-20",
          "2018-07-27",
          "2018-08-03",
          "2018-08-10",
          "2018-08-17",
          "2018-08-24",
          "2018-08-31",
          "2018-09-07",
          "2018-09-14",
          "2018-09-21",
          "2018-09-28",
          "2018-10-05",
          "2018-10-12",
          "2018-10-19",
          "2018-10-26",
          "2018-11-02",
          "2018-11-09",
          "2018-11-16",
          "2018-11-23",
          "2018-11-30",
          "2018-12-07",
          "2018-12-14",
          "2018-12-21",
          "2018-12-28",
          "2019-01-04",
          "2019-01-11",
          "2019-01-18",
          "2019-01-25",
          "2019-02-01",
          "2019-02-08",
          "2019-02-15",
          "2019-02-22",
          "2019-03-01",
          "2019-03-08",
          "2019-03-15",
          "2019-03-22",
          "2019-03-29",
          "2019-04-05",
          "2019-04-12",
          "2019-04-19",
          "2019-04-26",
          "2019-05-03",
          "2019-05-10",
          "2019-05-17",
          "2019-05-24",
          "2019-05-31",
          "2019-06-07",
          "2019-06-14",
          "2019-06-21",
          "2019-06-28",
          "2019-07-05",
          "2019-07-12",
          "2019-07-19",
          "2019-07-26",
          "2019-08-02",
          "2019-08-09",
          "2019-08-16",
          "2019-08-23",
          "2019-08-30",
          "2019-09-06",
          "2019-09-13",
          "2019-09-20",
          "2019-09-27",
          "2019-10-04",
          "2019-10-11",
          "2019-10-18",
          "2019-10-25",
          "2019-11-01",
          "2019-11-08",
          "2019-11-15",
          "2019-11-22",
          "2019-11-29",
          "2019-12-06",
          "2019-12-13",
          "2019-12-20",
          "2019-12-27",
          "2020-01-03",
          "2020-01-10",
          "2020-01-17",
          "2020-01-24",
          "2020-01-31",
          "2020-02-07",
          "2020-02-14",
          "2020-02-21",
          "2020-02-28",
          "2020-03-06",
          "2020-03-13",
          "2020-03-20",
          "2020-03-27",
          "2020-04-03",
          "2020-04-10",
          "2020-04-17",
          "2020-04-24",
          "2020-05-01",
          "2020-05-08",
          "2020-05-15",
          "2020-05-22",
          "2020-05-29",
          "2020-06-05",
          "2020-06-12",
          "2020-06-19",
          "2020-06-26",
          "2020-07-03",
          "2020-07-10",
          "2020-07-17",
          "2020-07-24",
          "2020-07-31"
         ],
         "y": [
          36.22739726027397,
          42.25189873417722,
          43.54430379746835,
          41.34177215189873,
          30.13291139240506,
          43.1566265060241,
          44.60493827160494,
          44.46428571428572,
          45.23809523809524,
          38.53703703703704,
          42.09638554216868,
          44.79878048780488,
          44.15476190476191,
          43.80952380952381,
          44.53048780487805,
          44.22560975609756,
          43.81481481481482,
          44.24691358024691,
          34.72093023255814,
          43.92261904761905,
          43.67261904761905,
          43.02469135802469,
          43.90123456790123,
          44.36144578313253,
          42.37349397590361,
          42.95180722891566,
          41.75,
          42.83333333333334,
          42.83734939759036,
          43.75301204819277,
          43.2289156626506,
          44.76506024096386,
          44.10975609756098,
          35.73493975903614,
          35.46987951807229,
          42.75294117647059,
          43.32530120481928,
          43.03529411764706,
          43.30588235294118,
          43.22941176470588,
          35.88095238095238,
          42.18072289156626,
          32.7875,
          40.84567901234568,
          40.95,
          33.07333333333333,
          42.75657894736842,
          43.48051948051948,
          43.84,
          43.35810810810811,
          44.37837837837838,
          44.26666666666667,
          35.10416666666666,
          40.42465753424658,
          44.16438356164384,
          41.91666666666666,
          39.36111111111111,
          42.64383561643836,
          43.58333333333334,
          42.63513513513514,
          42.7027027027027,
          43.78666666666667,
          44.05128205128205,
          44.86875,
          37.17307692307692,
          42.225,
          43.9240506329114,
          44.20625,
          40.66666666666666,
          43.36538461538461,
          36.43835616438356,
          42.89285714285715,
          44.42142857142857,
          42.78169014084507,
          42.22857142857143,
          34.27142857142857,
          41.54929577464789,
          41.34027777777778,
          43.05479452054794,
          43.42857142857143,
          43.71014492753623,
          43.68055555555556,
          43.1875,
          43.24285714285714,
          43.4,
          34.33823529411764,
          42.80555555555556,
          43.16901408450704,
          41.77397260273973,
          43.73972602739726,
          44.25675675675676,
          43.80821917808219,
          34.56338028169014,
          28.89705882352941,
          42.75342465753425,
          42.8961038961039,
          32.51388888888889,
          43.85333333333333,
          44.22727272727273,
          42.31481481481482,
          42.17283950617284,
          41.55625,
          42.81481481481482,
          42.5925925925926,
          34.32911392405063,
          40.625,
          44.30487804878049,
          39.11111111111111,
          37.39506172839506,
          42.7125,
          44,
          42.20987654320987,
          43.925,
          44.1358024691358,
          43.36585365853659,
          36.15060240963855,
          43,
          41.65714285714286,
          43.03571428571428,
          37.63414634146341,
          43.51898734177215,
          43.48837209302326,
          37.16279069767442,
          42.8,
          43.95294117647059,
          36.98235294117647,
          32.575,
          42.16470588235294,
          42.82142857142857,
          43.41764705882353,
          43.17261904761905,
          42.8433734939759,
          42.51807228915663,
          43.13414634146341,
          43.80952380952381,
          45.01204819277108
         ]
        }
       ],
       "layout": {
        "legend": {
         "bgcolor": "#F5F6F9",
         "font": {
          "color": "#4D5663"
         }
        },
        "paper_bgcolor": "#F5F6F9",
        "plot_bgcolor": "#F5F6F9",
        "template": {
         "data": {
          "bar": [
           {
            "error_x": {
             "color": "#2a3f5f"
            },
            "error_y": {
             "color": "#2a3f5f"
            },
            "marker": {
             "line": {
              "color": "#E5ECF6",
              "width": 0.5
             }
            },
            "type": "bar"
           }
          ],
          "barpolar": [
           {
            "marker": {
             "line": {
              "color": "#E5ECF6",
              "width": 0.5
             }
            },
            "type": "barpolar"
           }
          ],
          "carpet": [
           {
            "aaxis": {
             "endlinecolor": "#2a3f5f",
             "gridcolor": "white",
             "linecolor": "white",
             "minorgridcolor": "white",
             "startlinecolor": "#2a3f5f"
            },
            "baxis": {
             "endlinecolor": "#2a3f5f",
             "gridcolor": "white",
             "linecolor": "white",
             "minorgridcolor": "white",
             "startlinecolor": "#2a3f5f"
            },
            "type": "carpet"
           }
          ],
          "choropleth": [
           {
            "colorbar": {
             "outlinewidth": 0,
             "ticks": ""
            },
            "type": "choropleth"
           }
          ],
          "contour": [
           {
            "colorbar": {
             "outlinewidth": 0,
             "ticks": ""
            },
            "colorscale": [
             [
              0,
              "#0d0887"
             ],
             [
              0.1111111111111111,
              "#46039f"
             ],
             [
              0.2222222222222222,
              "#7201a8"
             ],
             [
              0.3333333333333333,
              "#9c179e"
             ],
             [
              0.4444444444444444,
              "#bd3786"
             ],
             [
              0.5555555555555556,
              "#d8576b"
             ],
             [
              0.6666666666666666,
              "#ed7953"
             ],
             [
              0.7777777777777778,
              "#fb9f3a"
             ],
             [
              0.8888888888888888,
              "#fdca26"
             ],
             [
              1,
              "#f0f921"
             ]
            ],
            "type": "contour"
           }
          ],
          "contourcarpet": [
           {
            "colorbar": {
             "outlinewidth": 0,
             "ticks": ""
            },
            "type": "contourcarpet"
           }
          ],
          "heatmap": [
           {
            "colorbar": {
             "outlinewidth": 0,
             "ticks": ""
            },
            "colorscale": [
             [
              0,
              "#0d0887"
             ],
             [
              0.1111111111111111,
              "#46039f"
             ],
             [
              0.2222222222222222,
              "#7201a8"
             ],
             [
              0.3333333333333333,
              "#9c179e"
             ],
             [
              0.4444444444444444,
              "#bd3786"
             ],
             [
              0.5555555555555556,
              "#d8576b"
             ],
             [
              0.6666666666666666,
              "#ed7953"
             ],
             [
              0.7777777777777778,
              "#fb9f3a"
             ],
             [
              0.8888888888888888,
              "#fdca26"
             ],
             [
              1,
              "#f0f921"
             ]
            ],
            "type": "heatmap"
           }
          ],
          "heatmapgl": [
           {
            "colorbar": {
             "outlinewidth": 0,
             "ticks": ""
            },
            "colorscale": [
             [
              0,
              "#0d0887"
             ],
             [
              0.1111111111111111,
              "#46039f"
             ],
             [
              0.2222222222222222,
              "#7201a8"
             ],
             [
              0.3333333333333333,
              "#9c179e"
             ],
             [
              0.4444444444444444,
              "#bd3786"
             ],
             [
              0.5555555555555556,
              "#d8576b"
             ],
             [
              0.6666666666666666,
              "#ed7953"
             ],
             [
              0.7777777777777778,
              "#fb9f3a"
             ],
             [
              0.8888888888888888,
              "#fdca26"
             ],
             [
              1,
              "#f0f921"
             ]
            ],
            "type": "heatmapgl"
           }
          ],
          "histogram": [
           {
            "marker": {
             "colorbar": {
              "outlinewidth": 0,
              "ticks": ""
             }
            },
            "type": "histogram"
           }
          ],
          "histogram2d": [
           {
            "colorbar": {
             "outlinewidth": 0,
             "ticks": ""
            },
            "colorscale": [
             [
              0,
              "#0d0887"
             ],
             [
              0.1111111111111111,
              "#46039f"
             ],
             [
              0.2222222222222222,
              "#7201a8"
             ],
             [
              0.3333333333333333,
              "#9c179e"
             ],
             [
              0.4444444444444444,
              "#bd3786"
             ],
             [
              0.5555555555555556,
              "#d8576b"
             ],
             [
              0.6666666666666666,
              "#ed7953"
             ],
             [
              0.7777777777777778,
              "#fb9f3a"
             ],
             [
              0.8888888888888888,
              "#fdca26"
             ],
             [
              1,
              "#f0f921"
             ]
            ],
            "type": "histogram2d"
           }
          ],
          "histogram2dcontour": [
           {
            "colorbar": {
             "outlinewidth": 0,
             "ticks": ""
            },
            "colorscale": [
             [
              0,
              "#0d0887"
             ],
             [
              0.1111111111111111,
              "#46039f"
             ],
             [
              0.2222222222222222,
              "#7201a8"
             ],
             [
              0.3333333333333333,
              "#9c179e"
             ],
             [
              0.4444444444444444,
              "#bd3786"
             ],
             [
              0.5555555555555556,
              "#d8576b"
             ],
             [
              0.6666666666666666,
              "#ed7953"
             ],
             [
              0.7777777777777778,
              "#fb9f3a"
             ],
             [
              0.8888888888888888,
              "#fdca26"
             ],
             [
              1,
              "#f0f921"
             ]
            ],
            "type": "histogram2dcontour"
           }
          ],
          "mesh3d": [
           {
            "colorbar": {
             "outlinewidth": 0,
             "ticks": ""
            },
            "type": "mesh3d"
           }
          ],
          "parcoords": [
           {
            "line": {
             "colorbar": {
              "outlinewidth": 0,
              "ticks": ""
             }
            },
            "type": "parcoords"
           }
          ],
          "pie": [
           {
            "automargin": true,
            "type": "pie"
           }
          ],
          "scatter": [
           {
            "marker": {
             "colorbar": {
              "outlinewidth": 0,
              "ticks": ""
             }
            },
            "type": "scatter"
           }
          ],
          "scatter3d": [
           {
            "line": {
             "colorbar": {
              "outlinewidth": 0,
              "ticks": ""
             }
            },
            "marker": {
             "colorbar": {
              "outlinewidth": 0,
              "ticks": ""
             }
            },
            "type": "scatter3d"
           }
          ],
          "scattercarpet": [
           {
            "marker": {
             "colorbar": {
              "outlinewidth": 0,
              "ticks": ""
             }
            },
            "type": "scattercarpet"
           }
          ],
          "scattergeo": [
           {
            "marker": {
             "colorbar": {
              "outlinewidth": 0,
              "ticks": ""
             }
            },
            "type": "scattergeo"
           }
          ],
          "scattergl": [
           {
            "marker": {
             "colorbar": {
              "outlinewidth": 0,
              "ticks": ""
             }
            },
            "type": "scattergl"
           }
          ],
          "scattermapbox": [
           {
            "marker": {
             "colorbar": {
              "outlinewidth": 0,
              "ticks": ""
             }
            },
            "type": "scattermapbox"
           }
          ],
          "scatterpolar": [
           {
            "marker": {
             "colorbar": {
              "outlinewidth": 0,
              "ticks": ""
             }
            },
            "type": "scatterpolar"
           }
          ],
          "scatterpolargl": [
           {
            "marker": {
             "colorbar": {
              "outlinewidth": 0,
              "ticks": ""
             }
            },
            "type": "scatterpolargl"
           }
          ],
          "scatterternary": [
           {
            "marker": {
             "colorbar": {
              "outlinewidth": 0,
              "ticks": ""
             }
            },
            "type": "scatterternary"
           }
          ],
          "surface": [
           {
            "colorbar": {
             "outlinewidth": 0,
             "ticks": ""
            },
            "colorscale": [
             [
              0,
              "#0d0887"
             ],
             [
              0.1111111111111111,
              "#46039f"
             ],
             [
              0.2222222222222222,
              "#7201a8"
             ],
             [
              0.3333333333333333,
              "#9c179e"
             ],
             [
              0.4444444444444444,
              "#bd3786"
             ],
             [
              0.5555555555555556,
              "#d8576b"
             ],
             [
              0.6666666666666666,
              "#ed7953"
             ],
             [
              0.7777777777777778,
              "#fb9f3a"
             ],
             [
              0.8888888888888888,
              "#fdca26"
             ],
             [
              1,
              "#f0f921"
             ]
            ],
            "type": "surface"
           }
          ],
          "table": [
           {
            "cells": {
             "fill": {
              "color": "#EBF0F8"
             },
             "line": {
              "color": "white"
             }
            },
            "header": {
             "fill": {
              "color": "#C8D4E3"
             },
             "line": {
              "color": "white"
             }
            },
            "type": "table"
           }
          ]
         },
         "layout": {
          "annotationdefaults": {
           "arrowcolor": "#2a3f5f",
           "arrowhead": 0,
           "arrowwidth": 1
          },
          "coloraxis": {
           "colorbar": {
            "outlinewidth": 0,
            "ticks": ""
           }
          },
          "colorscale": {
           "diverging": [
            [
             0,
             "#8e0152"
            ],
            [
             0.1,
             "#c51b7d"
            ],
            [
             0.2,
             "#de77ae"
            ],
            [
             0.3,
             "#f1b6da"
            ],
            [
             0.4,
             "#fde0ef"
            ],
            [
             0.5,
             "#f7f7f7"
            ],
            [
             0.6,
             "#e6f5d0"
            ],
            [
             0.7,
             "#b8e186"
            ],
            [
             0.8,
             "#7fbc41"
            ],
            [
             0.9,
             "#4d9221"
            ],
            [
             1,
             "#276419"
            ]
           ],
           "sequential": [
            [
             0,
             "#0d0887"
            ],
            [
             0.1111111111111111,
             "#46039f"
            ],
            [
             0.2222222222222222,
             "#7201a8"
            ],
            [
             0.3333333333333333,
             "#9c179e"
            ],
            [
             0.4444444444444444,
             "#bd3786"
            ],
            [
             0.5555555555555556,
             "#d8576b"
            ],
            [
             0.6666666666666666,
             "#ed7953"
            ],
            [
             0.7777777777777778,
             "#fb9f3a"
            ],
            [
             0.8888888888888888,
             "#fdca26"
            ],
            [
             1,
             "#f0f921"
            ]
           ],
           "sequentialminus": [
            [
             0,
             "#0d0887"
            ],
            [
             0.1111111111111111,
             "#46039f"
            ],
            [
             0.2222222222222222,
             "#7201a8"
            ],
            [
             0.3333333333333333,
             "#9c179e"
            ],
            [
             0.4444444444444444,
             "#bd3786"
            ],
            [
             0.5555555555555556,
             "#d8576b"
            ],
            [
             0.6666666666666666,
             "#ed7953"
            ],
            [
             0.7777777777777778,
             "#fb9f3a"
            ],
            [
             0.8888888888888888,
             "#fdca26"
            ],
            [
             1,
             "#f0f921"
            ]
           ]
          },
          "colorway": [
           "#636efa",
           "#EF553B",
           "#00cc96",
           "#ab63fa",
           "#FFA15A",
           "#19d3f3",
           "#FF6692",
           "#B6E880",
           "#FF97FF",
           "#FECB52"
          ],
          "font": {
           "color": "#2a3f5f"
          },
          "geo": {
           "bgcolor": "white",
           "lakecolor": "white",
           "landcolor": "#E5ECF6",
           "showlakes": true,
           "showland": true,
           "subunitcolor": "white"
          },
          "hoverlabel": {
           "align": "left"
          },
          "hovermode": "closest",
          "mapbox": {
           "style": "light"
          },
          "paper_bgcolor": "white",
          "plot_bgcolor": "#E5ECF6",
          "polar": {
           "angularaxis": {
            "gridcolor": "white",
            "linecolor": "white",
            "ticks": ""
           },
           "bgcolor": "#E5ECF6",
           "radialaxis": {
            "gridcolor": "white",
            "linecolor": "white",
            "ticks": ""
           }
          },
          "scene": {
           "xaxis": {
            "backgroundcolor": "#E5ECF6",
            "gridcolor": "white",
            "gridwidth": 2,
            "linecolor": "white",
            "showbackground": true,
            "ticks": "",
            "zerolinecolor": "white"
           },
           "yaxis": {
            "backgroundcolor": "#E5ECF6",
            "gridcolor": "white",
            "gridwidth": 2,
            "linecolor": "white",
            "showbackground": true,
            "ticks": "",
            "zerolinecolor": "white"
           },
           "zaxis": {
            "backgroundcolor": "#E5ECF6",
            "gridcolor": "white",
            "gridwidth": 2,
            "linecolor": "white",
            "showbackground": true,
            "ticks": "",
            "zerolinecolor": "white"
           }
          },
          "shapedefaults": {
           "line": {
            "color": "#2a3f5f"
           }
          },
          "ternary": {
           "aaxis": {
            "gridcolor": "white",
            "linecolor": "white",
            "ticks": ""
           },
           "baxis": {
            "gridcolor": "white",
            "linecolor": "white",
            "ticks": ""
           },
           "bgcolor": "#E5ECF6",
           "caxis": {
            "gridcolor": "white",
            "linecolor": "white",
            "ticks": ""
           }
          },
          "title": {
           "x": 0.05
          },
          "xaxis": {
           "automargin": true,
           "gridcolor": "white",
           "linecolor": "white",
           "ticks": "",
           "title": {
            "standoff": 15
           },
           "zerolinecolor": "white",
           "zerolinewidth": 2
          },
          "yaxis": {
           "automargin": true,
           "gridcolor": "white",
           "linecolor": "white",
           "ticks": "",
           "title": {
            "standoff": 15
           },
           "zerolinecolor": "white",
           "zerolinewidth": 2
          }
         }
        },
        "title": {
         "font": {
          "color": "#4D5663"
         },
         "text": "ILC Claimed per week"
        },
        "xaxis": {
         "gridcolor": "#E1E5ED",
         "showgrid": true,
         "tickfont": {
          "color": "#4D5663"
         },
         "title": {
          "font": {
           "color": "#4D5663"
          },
          "text": "Week"
         },
         "zerolinecolor": "#E1E5ED"
        },
        "yaxis": {
         "gridcolor": "#E1E5ED",
         "showgrid": true,
         "tickfont": {
          "color": "#4D5663"
         },
         "title": {
          "font": {
           "color": "#4D5663"
          },
          "text": "Efforts in hours"
         },
         "zerolinecolor": "#E1E5ED"
        }
       }
      },
      "text/html": [
       "<div>\n",
       "        \n",
       "        \n",
       "            <div id=\"d22eb33e-1be6-4014-ae80-0ac6218d93a9\" class=\"plotly-graph-div\" style=\"height:525px; width:100%;\"></div>\n",
       "            <script type=\"text/javascript\">\n",
       "                require([\"plotly\"], function(Plotly) {\n",
       "                    window.PLOTLYENV=window.PLOTLYENV || {};\n",
       "                    window.PLOTLYENV.BASE_URL='https://plot.ly';\n",
       "                    \n",
       "                if (document.getElementById(\"d22eb33e-1be6-4014-ae80-0ac6218d93a9\")) {\n",
       "                    Plotly.newPlot(\n",
       "                        'd22eb33e-1be6-4014-ae80-0ac6218d93a9',\n",
       "                        [{\"line\": {\"color\": \"rgba(255, 153, 51, 1.0)\", \"dash\": \"solid\", \"shape\": \"linear\", \"width\": 1.3}, \"mode\": \"lines\", \"name\": \"Mean hours\", \"text\": \"\", \"type\": \"scatter\", \"x\": [\"2017-12-29\", \"2018-01-05\", \"2018-01-12\", \"2018-01-19\", \"2018-01-26\", \"2018-02-02\", \"2018-02-09\", \"2018-02-16\", \"2018-02-23\", \"2018-03-02\", \"2018-03-09\", \"2018-03-16\", \"2018-03-23\", \"2018-03-30\", \"2018-04-06\", \"2018-04-13\", \"2018-04-20\", \"2018-04-27\", \"2018-05-04\", \"2018-05-11\", \"2018-05-18\", \"2018-05-25\", \"2018-06-01\", \"2018-06-08\", \"2018-06-15\", \"2018-06-22\", \"2018-06-29\", \"2018-07-06\", \"2018-07-13\", \"2018-07-20\", \"2018-07-27\", \"2018-08-03\", \"2018-08-10\", \"2018-08-17\", \"2018-08-24\", \"2018-08-31\", \"2018-09-07\", \"2018-09-14\", \"2018-09-21\", \"2018-09-28\", \"2018-10-05\", \"2018-10-12\", \"2018-10-19\", \"2018-10-26\", \"2018-11-02\", \"2018-11-09\", \"2018-11-16\", \"2018-11-23\", \"2018-11-30\", \"2018-12-07\", \"2018-12-14\", \"2018-12-21\", \"2018-12-28\", \"2019-01-04\", \"2019-01-11\", \"2019-01-18\", \"2019-01-25\", \"2019-02-01\", \"2019-02-08\", \"2019-02-15\", \"2019-02-22\", \"2019-03-01\", \"2019-03-08\", \"2019-03-15\", \"2019-03-22\", \"2019-03-29\", \"2019-04-05\", \"2019-04-12\", \"2019-04-19\", \"2019-04-26\", \"2019-05-03\", \"2019-05-10\", \"2019-05-17\", \"2019-05-24\", \"2019-05-31\", \"2019-06-07\", \"2019-06-14\", \"2019-06-21\", \"2019-06-28\", \"2019-07-05\", \"2019-07-12\", \"2019-07-19\", \"2019-07-26\", \"2019-08-02\", \"2019-08-09\", \"2019-08-16\", \"2019-08-23\", \"2019-08-30\", \"2019-09-06\", \"2019-09-13\", \"2019-09-20\", \"2019-09-27\", \"2019-10-04\", \"2019-10-11\", \"2019-10-18\", \"2019-10-25\", \"2019-11-01\", \"2019-11-08\", \"2019-11-15\", \"2019-11-22\", \"2019-11-29\", \"2019-12-06\", \"2019-12-13\", \"2019-12-20\", \"2019-12-27\", \"2020-01-03\", \"2020-01-10\", \"2020-01-17\", \"2020-01-24\", \"2020-01-31\", \"2020-02-07\", \"2020-02-14\", \"2020-02-21\", \"2020-02-28\", \"2020-03-06\", \"2020-03-13\", \"2020-03-20\", \"2020-03-27\", \"2020-04-03\", \"2020-04-10\", \"2020-04-17\", \"2020-04-24\", \"2020-05-01\", \"2020-05-08\", \"2020-05-15\", \"2020-05-22\", \"2020-05-29\", \"2020-06-05\", \"2020-06-12\", \"2020-06-19\", \"2020-06-26\", \"2020-07-03\", \"2020-07-10\", \"2020-07-17\", \"2020-07-24\", \"2020-07-31\"], \"y\": [36.22739726027397, 42.25189873417722, 43.54430379746835, 41.34177215189873, 30.13291139240506, 43.1566265060241, 44.60493827160494, 44.46428571428572, 45.23809523809524, 38.53703703703704, 42.09638554216868, 44.79878048780488, 44.15476190476191, 43.80952380952381, 44.53048780487805, 44.22560975609756, 43.81481481481482, 44.24691358024691, 34.72093023255814, 43.92261904761905, 43.67261904761905, 43.02469135802469, 43.90123456790123, 44.36144578313253, 42.37349397590361, 42.95180722891566, 41.75, 42.83333333333334, 42.83734939759036, 43.75301204819277, 43.2289156626506, 44.76506024096386, 44.10975609756098, 35.73493975903614, 35.46987951807229, 42.75294117647059, 43.32530120481928, 43.03529411764706, 43.30588235294118, 43.22941176470588, 35.88095238095238, 42.18072289156626, 32.7875, 40.84567901234568, 40.95, 33.07333333333333, 42.75657894736842, 43.48051948051948, 43.84, 43.35810810810811, 44.37837837837838, 44.26666666666667, 35.10416666666666, 40.42465753424658, 44.16438356164384, 41.91666666666666, 39.36111111111111, 42.64383561643836, 43.58333333333334, 42.63513513513514, 42.7027027027027, 43.78666666666667, 44.05128205128205, 44.86875, 37.17307692307692, 42.225, 43.9240506329114, 44.20625, 40.66666666666666, 43.36538461538461, 36.43835616438356, 42.89285714285715, 44.42142857142857, 42.78169014084507, 42.22857142857143, 34.27142857142857, 41.54929577464789, 41.34027777777778, 43.05479452054794, 43.42857142857143, 43.71014492753623, 43.68055555555556, 43.1875, 43.24285714285714, 43.4, 34.33823529411764, 42.80555555555556, 43.16901408450704, 41.77397260273973, 43.73972602739726, 44.25675675675676, 43.80821917808219, 34.56338028169014, 28.89705882352941, 42.75342465753425, 42.8961038961039, 32.51388888888889, 43.85333333333333, 44.22727272727273, 42.31481481481482, 42.17283950617284, 41.55625, 42.81481481481482, 42.5925925925926, 34.32911392405063, 40.625, 44.30487804878049, 39.11111111111111, 37.39506172839506, 42.7125, 44.0, 42.20987654320987, 43.925, 44.1358024691358, 43.36585365853659, 36.15060240963855, 43.0, 41.65714285714286, 43.03571428571428, 37.63414634146341, 43.51898734177215, 43.48837209302326, 37.16279069767442, 42.8, 43.95294117647059, 36.98235294117647, 32.575, 42.16470588235294, 42.82142857142857, 43.41764705882353, 43.17261904761905, 42.8433734939759, 42.51807228915663, 43.13414634146341, 43.80952380952381, 45.01204819277108]}],\n",
       "                        {\"legend\": {\"bgcolor\": \"#F5F6F9\", \"font\": {\"color\": \"#4D5663\"}}, \"paper_bgcolor\": \"#F5F6F9\", \"plot_bgcolor\": \"#F5F6F9\", \"template\": {\"data\": {\"bar\": [{\"error_x\": {\"color\": \"#2a3f5f\"}, \"error_y\": {\"color\": \"#2a3f5f\"}, \"marker\": {\"line\": {\"color\": \"#E5ECF6\", \"width\": 0.5}}, \"type\": \"bar\"}], \"barpolar\": [{\"marker\": {\"line\": {\"color\": \"#E5ECF6\", \"width\": 0.5}}, \"type\": \"barpolar\"}], \"carpet\": [{\"aaxis\": {\"endlinecolor\": \"#2a3f5f\", \"gridcolor\": \"white\", \"linecolor\": \"white\", \"minorgridcolor\": \"white\", \"startlinecolor\": \"#2a3f5f\"}, \"baxis\": {\"endlinecolor\": \"#2a3f5f\", \"gridcolor\": \"white\", \"linecolor\": \"white\", \"minorgridcolor\": \"white\", \"startlinecolor\": \"#2a3f5f\"}, \"type\": \"carpet\"}], \"choropleth\": [{\"colorbar\": {\"outlinewidth\": 0, \"ticks\": \"\"}, \"type\": \"choropleth\"}], \"contour\": [{\"colorbar\": {\"outlinewidth\": 0, \"ticks\": \"\"}, \"colorscale\": [[0.0, \"#0d0887\"], [0.1111111111111111, \"#46039f\"], [0.2222222222222222, \"#7201a8\"], [0.3333333333333333, \"#9c179e\"], [0.4444444444444444, \"#bd3786\"], [0.5555555555555556, \"#d8576b\"], [0.6666666666666666, \"#ed7953\"], [0.7777777777777778, \"#fb9f3a\"], [0.8888888888888888, \"#fdca26\"], [1.0, \"#f0f921\"]], \"type\": \"contour\"}], \"contourcarpet\": [{\"colorbar\": {\"outlinewidth\": 0, \"ticks\": \"\"}, \"type\": \"contourcarpet\"}], \"heatmap\": [{\"colorbar\": {\"outlinewidth\": 0, \"ticks\": \"\"}, \"colorscale\": [[0.0, \"#0d0887\"], [0.1111111111111111, \"#46039f\"], [0.2222222222222222, \"#7201a8\"], [0.3333333333333333, \"#9c179e\"], [0.4444444444444444, \"#bd3786\"], [0.5555555555555556, \"#d8576b\"], [0.6666666666666666, \"#ed7953\"], [0.7777777777777778, \"#fb9f3a\"], [0.8888888888888888, \"#fdca26\"], [1.0, \"#f0f921\"]], \"type\": \"heatmap\"}], \"heatmapgl\": [{\"colorbar\": {\"outlinewidth\": 0, \"ticks\": \"\"}, \"colorscale\": [[0.0, \"#0d0887\"], [0.1111111111111111, \"#46039f\"], [0.2222222222222222, \"#7201a8\"], [0.3333333333333333, \"#9c179e\"], [0.4444444444444444, \"#bd3786\"], [0.5555555555555556, \"#d8576b\"], [0.6666666666666666, \"#ed7953\"], [0.7777777777777778, \"#fb9f3a\"], [0.8888888888888888, \"#fdca26\"], [1.0, \"#f0f921\"]], \"type\": \"heatmapgl\"}], \"histogram\": [{\"marker\": {\"colorbar\": {\"outlinewidth\": 0, \"ticks\": \"\"}}, \"type\": \"histogram\"}], \"histogram2d\": [{\"colorbar\": {\"outlinewidth\": 0, \"ticks\": \"\"}, \"colorscale\": [[0.0, \"#0d0887\"], [0.1111111111111111, \"#46039f\"], [0.2222222222222222, \"#7201a8\"], [0.3333333333333333, \"#9c179e\"], [0.4444444444444444, \"#bd3786\"], [0.5555555555555556, \"#d8576b\"], [0.6666666666666666, \"#ed7953\"], [0.7777777777777778, \"#fb9f3a\"], [0.8888888888888888, \"#fdca26\"], [1.0, \"#f0f921\"]], \"type\": \"histogram2d\"}], \"histogram2dcontour\": [{\"colorbar\": {\"outlinewidth\": 0, \"ticks\": \"\"}, \"colorscale\": [[0.0, \"#0d0887\"], [0.1111111111111111, \"#46039f\"], [0.2222222222222222, \"#7201a8\"], [0.3333333333333333, \"#9c179e\"], [0.4444444444444444, \"#bd3786\"], [0.5555555555555556, \"#d8576b\"], [0.6666666666666666, \"#ed7953\"], [0.7777777777777778, \"#fb9f3a\"], [0.8888888888888888, \"#fdca26\"], [1.0, \"#f0f921\"]], \"type\": \"histogram2dcontour\"}], \"mesh3d\": [{\"colorbar\": {\"outlinewidth\": 0, \"ticks\": \"\"}, \"type\": \"mesh3d\"}], \"parcoords\": [{\"line\": {\"colorbar\": {\"outlinewidth\": 0, \"ticks\": \"\"}}, \"type\": \"parcoords\"}], \"pie\": [{\"automargin\": true, \"type\": \"pie\"}], \"scatter\": [{\"marker\": {\"colorbar\": {\"outlinewidth\": 0, \"ticks\": \"\"}}, \"type\": \"scatter\"}], \"scatter3d\": [{\"line\": {\"colorbar\": {\"outlinewidth\": 0, \"ticks\": \"\"}}, \"marker\": {\"colorbar\": {\"outlinewidth\": 0, \"ticks\": \"\"}}, \"type\": \"scatter3d\"}], \"scattercarpet\": [{\"marker\": {\"colorbar\": {\"outlinewidth\": 0, \"ticks\": \"\"}}, \"type\": \"scattercarpet\"}], \"scattergeo\": [{\"marker\": {\"colorbar\": {\"outlinewidth\": 0, \"ticks\": \"\"}}, \"type\": \"scattergeo\"}], \"scattergl\": [{\"marker\": {\"colorbar\": {\"outlinewidth\": 0, \"ticks\": \"\"}}, \"type\": \"scattergl\"}], \"scattermapbox\": [{\"marker\": {\"colorbar\": {\"outlinewidth\": 0, \"ticks\": \"\"}}, \"type\": \"scattermapbox\"}], \"scatterpolar\": [{\"marker\": {\"colorbar\": {\"outlinewidth\": 0, \"ticks\": \"\"}}, \"type\": \"scatterpolar\"}], \"scatterpolargl\": [{\"marker\": {\"colorbar\": {\"outlinewidth\": 0, \"ticks\": \"\"}}, \"type\": \"scatterpolargl\"}], \"scatterternary\": [{\"marker\": {\"colorbar\": {\"outlinewidth\": 0, \"ticks\": \"\"}}, \"type\": \"scatterternary\"}], \"surface\": [{\"colorbar\": {\"outlinewidth\": 0, \"ticks\": \"\"}, \"colorscale\": [[0.0, \"#0d0887\"], [0.1111111111111111, \"#46039f\"], [0.2222222222222222, \"#7201a8\"], [0.3333333333333333, \"#9c179e\"], [0.4444444444444444, \"#bd3786\"], [0.5555555555555556, \"#d8576b\"], [0.6666666666666666, \"#ed7953\"], [0.7777777777777778, \"#fb9f3a\"], [0.8888888888888888, \"#fdca26\"], [1.0, \"#f0f921\"]], \"type\": \"surface\"}], \"table\": [{\"cells\": {\"fill\": {\"color\": \"#EBF0F8\"}, \"line\": {\"color\": \"white\"}}, \"header\": {\"fill\": {\"color\": \"#C8D4E3\"}, \"line\": {\"color\": \"white\"}}, \"type\": \"table\"}]}, \"layout\": {\"annotationdefaults\": {\"arrowcolor\": \"#2a3f5f\", \"arrowhead\": 0, \"arrowwidth\": 1}, \"coloraxis\": {\"colorbar\": {\"outlinewidth\": 0, \"ticks\": \"\"}}, \"colorscale\": {\"diverging\": [[0, \"#8e0152\"], [0.1, \"#c51b7d\"], [0.2, \"#de77ae\"], [0.3, \"#f1b6da\"], [0.4, \"#fde0ef\"], [0.5, \"#f7f7f7\"], [0.6, \"#e6f5d0\"], [0.7, \"#b8e186\"], [0.8, \"#7fbc41\"], [0.9, \"#4d9221\"], [1, \"#276419\"]], \"sequential\": [[0.0, \"#0d0887\"], [0.1111111111111111, \"#46039f\"], [0.2222222222222222, \"#7201a8\"], [0.3333333333333333, \"#9c179e\"], [0.4444444444444444, \"#bd3786\"], [0.5555555555555556, \"#d8576b\"], [0.6666666666666666, \"#ed7953\"], [0.7777777777777778, \"#fb9f3a\"], [0.8888888888888888, \"#fdca26\"], [1.0, \"#f0f921\"]], \"sequentialminus\": [[0.0, \"#0d0887\"], [0.1111111111111111, \"#46039f\"], [0.2222222222222222, \"#7201a8\"], [0.3333333333333333, \"#9c179e\"], [0.4444444444444444, \"#bd3786\"], [0.5555555555555556, \"#d8576b\"], [0.6666666666666666, \"#ed7953\"], [0.7777777777777778, \"#fb9f3a\"], [0.8888888888888888, \"#fdca26\"], [1.0, \"#f0f921\"]]}, \"colorway\": [\"#636efa\", \"#EF553B\", \"#00cc96\", \"#ab63fa\", \"#FFA15A\", \"#19d3f3\", \"#FF6692\", \"#B6E880\", \"#FF97FF\", \"#FECB52\"], \"font\": {\"color\": \"#2a3f5f\"}, \"geo\": {\"bgcolor\": \"white\", \"lakecolor\": \"white\", \"landcolor\": \"#E5ECF6\", \"showlakes\": true, \"showland\": true, \"subunitcolor\": \"white\"}, \"hoverlabel\": {\"align\": \"left\"}, \"hovermode\": \"closest\", \"mapbox\": {\"style\": \"light\"}, \"paper_bgcolor\": \"white\", \"plot_bgcolor\": \"#E5ECF6\", \"polar\": {\"angularaxis\": {\"gridcolor\": \"white\", \"linecolor\": \"white\", \"ticks\": \"\"}, \"bgcolor\": \"#E5ECF6\", \"radialaxis\": {\"gridcolor\": \"white\", \"linecolor\": \"white\", \"ticks\": \"\"}}, \"scene\": {\"xaxis\": {\"backgroundcolor\": \"#E5ECF6\", \"gridcolor\": \"white\", \"gridwidth\": 2, \"linecolor\": \"white\", \"showbackground\": true, \"ticks\": \"\", \"zerolinecolor\": \"white\"}, \"yaxis\": {\"backgroundcolor\": \"#E5ECF6\", \"gridcolor\": \"white\", \"gridwidth\": 2, \"linecolor\": \"white\", \"showbackground\": true, \"ticks\": \"\", \"zerolinecolor\": \"white\"}, \"zaxis\": {\"backgroundcolor\": \"#E5ECF6\", \"gridcolor\": \"white\", \"gridwidth\": 2, \"linecolor\": \"white\", \"showbackground\": true, \"ticks\": \"\", \"zerolinecolor\": \"white\"}}, \"shapedefaults\": {\"line\": {\"color\": \"#2a3f5f\"}}, \"ternary\": {\"aaxis\": {\"gridcolor\": \"white\", \"linecolor\": \"white\", \"ticks\": \"\"}, \"baxis\": {\"gridcolor\": \"white\", \"linecolor\": \"white\", \"ticks\": \"\"}, \"bgcolor\": \"#E5ECF6\", \"caxis\": {\"gridcolor\": \"white\", \"linecolor\": \"white\", \"ticks\": \"\"}}, \"title\": {\"x\": 0.05}, \"xaxis\": {\"automargin\": true, \"gridcolor\": \"white\", \"linecolor\": \"white\", \"ticks\": \"\", \"title\": {\"standoff\": 15}, \"zerolinecolor\": \"white\", \"zerolinewidth\": 2}, \"yaxis\": {\"automargin\": true, \"gridcolor\": \"white\", \"linecolor\": \"white\", \"ticks\": \"\", \"title\": {\"standoff\": 15}, \"zerolinecolor\": \"white\", \"zerolinewidth\": 2}}}, \"title\": {\"font\": {\"color\": \"#4D5663\"}, \"text\": \"ILC Claimed per week\"}, \"xaxis\": {\"gridcolor\": \"#E1E5ED\", \"showgrid\": true, \"tickfont\": {\"color\": \"#4D5663\"}, \"title\": {\"font\": {\"color\": \"#4D5663\"}, \"text\": \"Week\"}, \"zerolinecolor\": \"#E1E5ED\"}, \"yaxis\": {\"gridcolor\": \"#E1E5ED\", \"showgrid\": true, \"tickfont\": {\"color\": \"#4D5663\"}, \"title\": {\"font\": {\"color\": \"#4D5663\"}, \"text\": \"Efforts in hours\"}, \"zerolinecolor\": \"#E1E5ED\"}},\n",
       "                        {\"showLink\": true, \"linkText\": \"Export to plot.ly\", \"plotlyServerURL\": \"https://plot.ly\", \"responsive\": true}\n",
       "                    ).then(function(){\n",
       "                            \n",
       "var gd = document.getElementById('d22eb33e-1be6-4014-ae80-0ac6218d93a9');\n",
       "var x = new MutationObserver(function (mutations, observer) {{\n",
       "        var display = window.getComputedStyle(gd).display;\n",
       "        if (!display || display === 'none') {{\n",
       "            console.log([gd, 'removed!']);\n",
       "            Plotly.purge(gd);\n",
       "            observer.disconnect();\n",
       "        }}\n",
       "}});\n",
       "\n",
       "// Listen for the removal of the full notebook cells\n",
       "var notebookContainer = gd.closest('#notebook-container');\n",
       "if (notebookContainer) {{\n",
       "    x.observe(notebookContainer, {childList: true});\n",
       "}}\n",
       "\n",
       "// Listen for the clearing of the current output cell\n",
       "var outputEl = gd.closest('.output');\n",
       "if (outputEl) {{\n",
       "    x.observe(outputEl, {childList: true});\n",
       "}}\n",
       "\n",
       "                        })\n",
       "                };\n",
       "                });\n",
       "            </script>\n",
       "        </div>"
      ]
     },
     "metadata": {},
     "output_type": "display_data"
    }
   ],
   "source": [
    "# plot the graph for every actual data\n",
    "df_ilc_holidays.loc[df_actuals_first_index:df_actuals_last_index]['Mean hours'].iplot(title='ILC Claimed per week',xTitle='Week',yTitle='Efforts in hours')"
   ]
  },
  {
   "cell_type": "code",
   "execution_count": 13,
   "metadata": {},
   "outputs": [
    {
     "data": {
      "text/plain": [
       "[(0, 0, 0),\n",
       " (0, 0, 1),\n",
       " (0, 1, 0),\n",
       " (0, 1, 1),\n",
       " (1, 0, 0),\n",
       " (1, 0, 1),\n",
       " (1, 1, 0),\n",
       " (1, 1, 1)]"
      ]
     },
     "execution_count": 13,
     "metadata": {},
     "output_type": "execute_result"
    }
   ],
   "source": [
    "# find out the parameters for the SARIMAX model\n",
    "p = d = q = range(0,2)\n",
    "pdq = list(itertools.product(p,d,q))\n",
    "pdq"
   ]
  },
  {
   "cell_type": "code",
   "execution_count": 14,
   "metadata": {},
   "outputs": [
    {
     "data": {
      "text/plain": [
       "[(0, 0, 0, 12),\n",
       " (0, 0, 1, 12),\n",
       " (0, 1, 0, 12),\n",
       " (0, 1, 1, 12),\n",
       " (1, 0, 0, 12),\n",
       " (1, 0, 1, 12),\n",
       " (1, 1, 0, 12),\n",
       " (1, 1, 1, 12)]"
      ]
     },
     "execution_count": 14,
     "metadata": {},
     "output_type": "execute_result"
    }
   ],
   "source": [
    "seasonal_pdq = [(x[0], x[1], x[2], 12) for x in list(itertools.product(p, d, q))]\n",
    "seasonal_pdq"
   ]
  },
  {
   "cell_type": "code",
   "execution_count": 15,
   "metadata": {},
   "outputs": [
    {
     "name": "stdout",
     "output_type": "stream",
     "text": [
      "SARIMAX(0, 0, 0)x(0, 0, 0, 12)12 - AIC 1377.3769472318659\n",
      "SARIMAX(0, 0, 0)x(0, 0, 1, 12)12 - AIC 1147.2726961185729\n",
      "SARIMAX(0, 0, 0)x(0, 1, 0, 12)12 - AIC 481.54878313535454\n",
      "SARIMAX(0, 0, 0)x(0, 1, 1, 12)12 - AIC 380.68991792502953\n",
      "SARIMAX(0, 0, 0)x(1, 0, 0, 12)12 - AIC 506.64298598286376\n",
      "SARIMAX(0, 0, 0)x(1, 0, 1, 12)12 - AIC 422.2382661735097\n",
      "SARIMAX(0, 0, 0)x(1, 1, 0, 12)12 - AIC 397.81697419623686\n",
      "SARIMAX(0, 0, 0)x(1, 1, 1, 12)12 - AIC 376.7816547752031\n",
      "SARIMAX(0, 0, 1)x(0, 0, 0, 12)12 - AIC 1217.3893714542655\n",
      "SARIMAX(0, 0, 1)x(0, 0, 1, 12)12 - AIC 988.1744109582526\n",
      "SARIMAX(0, 0, 1)x(0, 1, 0, 12)12 - AIC 471.3685933681163\n",
      "SARIMAX(0, 0, 1)x(0, 1, 1, 12)12 - AIC 375.46407028356043\n",
      "SARIMAX(0, 0, 1)x(1, 0, 0, 12)12 - AIC 499.6464437177582\n",
      "SARIMAX(0, 0, 1)x(1, 0, 1, 12)12 - AIC 419.44466254440226\n",
      "SARIMAX(0, 0, 1)x(1, 1, 0, 12)12 - AIC 397.95517000440697\n",
      "SARIMAX(0, 0, 1)x(1, 1, 1, 12)12 - AIC 373.5831865018198\n",
      "SARIMAX(0, 1, 0)x(0, 0, 0, 12)12 - AIC 485.43168916825664\n",
      "SARIMAX(0, 1, 0)x(0, 0, 1, 12)12 - AIC 443.37123000459\n",
      "SARIMAX(0, 1, 0)x(0, 1, 0, 12)12 - AIC 518.6101967545363\n",
      "SARIMAX(0, 1, 0)x(0, 1, 1, 12)12 - AIC 426.3462553520196\n",
      "SARIMAX(0, 1, 0)x(1, 0, 0, 12)12 - AIC 445.9331376650469\n",
      "SARIMAX(0, 1, 0)x(1, 0, 1, 12)12 - AIC 445.3347512203659\n",
      "SARIMAX(0, 1, 0)x(1, 1, 0, 12)12 - AIC 448.63452492928616\n",
      "SARIMAX(0, 1, 0)x(1, 1, 1, 12)12 - AIC 426.82713529400695\n",
      "SARIMAX(0, 1, 1)x(0, 0, 0, 12)12 - AIC 431.5799080910905\n",
      "SARIMAX(0, 1, 1)x(0, 0, 1, 12)12 - AIC 392.06634767376255\n",
      "SARIMAX(0, 1, 1)x(0, 1, 0, 12)12 - AIC 487.87589622248095\n",
      "SARIMAX(0, 1, 1)x(0, 1, 1, 12)12 - AIC 375.7467357511499\n",
      "SARIMAX(0, 1, 1)x(1, 0, 0, 12)12 - AIC 396.4853994927607\n",
      "SARIMAX(0, 1, 1)x(1, 0, 1, 12)12 - AIC 392.75468559518015\n",
      "SARIMAX(0, 1, 1)x(1, 1, 0, 12)12 - AIC 401.4018730388795\n",
      "SARIMAX(0, 1, 1)x(1, 1, 1, 12)12 - AIC 374.57208191691865\n",
      "SARIMAX(1, 0, 0)x(0, 0, 0, 12)12 - AIC 506.1347568911744\n",
      "SARIMAX(1, 0, 0)x(0, 0, 1, 12)12 - AIC 448.98395073819086\n",
      "SARIMAX(1, 0, 0)x(0, 1, 0, 12)12 - AIC 471.98578190978935\n",
      "SARIMAX(1, 0, 0)x(0, 1, 1, 12)12 - AIC 376.53139538520014\n",
      "SARIMAX(1, 0, 0)x(1, 0, 0, 12)12 - AIC 447.92620117437315\n",
      "SARIMAX(1, 0, 0)x(1, 0, 1, 12)12 - AIC 469.95516359030466\n",
      "SARIMAX(1, 0, 0)x(1, 1, 0, 12)12 - AIC 391.2056213257555\n",
      "SARIMAX(1, 0, 0)x(1, 1, 1, 12)12 - AIC 375.65910397275997\n",
      "SARIMAX(1, 0, 1)x(0, 0, 0, 12)12 - AIC 470.19465211668717\n",
      "SARIMAX(1, 0, 1)x(0, 0, 1, 12)12 - AIC 423.1068154771589\n",
      "SARIMAX(1, 0, 1)x(0, 1, 0, 12)12 - AIC 470.35798181931744\n",
      "SARIMAX(1, 0, 1)x(0, 1, 1, 12)12 - AIC 375.2758730742533\n",
      "SARIMAX(1, 0, 1)x(1, 0, 0, 12)12 - AIC 475.21534890106534\n",
      "SARIMAX(1, 0, 1)x(1, 0, 1, 12)12 - AIC 956.2293920180837\n",
      "SARIMAX(1, 0, 1)x(1, 1, 0, 12)12 - AIC 393.03940757196983\n",
      "SARIMAX(1, 0, 1)x(1, 1, 1, 12)12 - AIC 373.9984326663683\n",
      "SARIMAX(1, 1, 0)x(0, 0, 0, 12)12 - AIC 465.03240625646674\n",
      "SARIMAX(1, 1, 0)x(0, 0, 1, 12)12 - AIC 417.8524914969265\n",
      "SARIMAX(1, 1, 0)x(0, 1, 0, 12)12 - AIC 502.6958240214129\n",
      "SARIMAX(1, 1, 0)x(0, 1, 1, 12)12 - AIC 403.5131686905377\n",
      "SARIMAX(1, 1, 0)x(1, 0, 0, 12)12 - AIC 417.80706178746425\n",
      "SARIMAX(1, 1, 0)x(1, 0, 1, 12)12 - AIC 419.74085893793523\n",
      "SARIMAX(1, 1, 0)x(1, 1, 0, 12)12 - AIC 424.4756076572001\n",
      "SARIMAX(1, 1, 0)x(1, 1, 1, 12)12 - AIC 401.1171742178514\n",
      "SARIMAX(1, 1, 1)x(0, 0, 0, 12)12 - AIC 428.1248328836581\n",
      "SARIMAX(1, 1, 1)x(0, 0, 1, 12)12 - AIC 390.06981196563515\n",
      "SARIMAX(1, 1, 1)x(0, 1, 0, 12)12 - AIC 480.6864579561901\n",
      "SARIMAX(1, 1, 1)x(0, 1, 1, 12)12 - AIC 373.2955705652238\n",
      "SARIMAX(1, 1, 1)x(1, 0, 0, 12)12 - AIC 392.81634993713976\n",
      "SARIMAX(1, 1, 1)x(1, 0, 1, 12)12 - AIC 391.77354909302096\n",
      "SARIMAX(1, 1, 1)x(1, 1, 0, 12)12 - AIC 396.13711829978706\n",
      "SARIMAX(1, 1, 1)x(1, 1, 1, 12)12 - AIC 374.6552091779375\n"
     ]
    }
   ],
   "source": [
    "# find out the best fit model\n",
    "# the model with the lowest AIC value is the best fit model\n",
    "warnings.filterwarnings(\"ignore\")\n",
    "for param in pdq:\n",
    "    for param_seasonal in seasonal_pdq:\n",
    "        mod = sm.tsa.SARIMAX(endog=df_ilc_holidays.loc[df_actuals_first_index:df_actuals_last_index]['Mean hours'],exog=df_ilc_holidays.loc[df_actuals_first_index:df_actuals_last_index]['Holiday'],order=param,seasonal_order=param_seasonal,enforce_stationarity=False,enforce_invertibility=False)\n",
    "        results = mod.fit()\n",
    "        print('SARIMAX{}x{}12 - AIC {}'.format(param,param_seasonal,results.aic))"
   ]
  },
  {
   "cell_type": "code",
   "execution_count": 16,
   "metadata": {},
   "outputs": [
    {
     "name": "stdout",
     "output_type": "stream",
     "text": [
      "                                     SARIMAX Results                                      \n",
      "==========================================================================================\n",
      "Dep. Variable:                         Mean hours   No. Observations:                  136\n",
      "Model:             SARIMAX(1, 1, 1)x(0, 1, 1, 12)   Log Likelihood                -181.648\n",
      "Date:                            Wed, 09 Sep 2020   AIC                            373.296\n",
      "Time:                                    18:25:38   BIC                            386.752\n",
      "Sample:                                12-29-2017   HQIC                           378.753\n",
      "                                     - 07-31-2020                                         \n",
      "Covariance Type:                              opg                                         \n",
      "==============================================================================\n",
      "                 coef    std err          z      P>|z|      [0.025      0.975]\n",
      "------------------------------------------------------------------------------\n",
      "Holiday       -7.9535      0.302    -26.302      0.000      -8.546      -7.361\n",
      "ar.L1          0.1919      0.092      2.091      0.037       0.012       0.372\n",
      "ma.L1         -1.0000    328.675     -0.003      0.998    -645.191     643.191\n",
      "ma.S.L12      -1.0000    597.949     -0.002      0.999   -1172.959    1170.959\n",
      "sigma2         1.3047    970.516      0.001      0.999   -1900.871    1903.481\n",
      "===================================================================================\n",
      "Ljung-Box (Q):                       27.45   Jarque-Bera (JB):                86.23\n",
      "Prob(Q):                              0.93   Prob(JB):                         0.00\n",
      "Heteroskedasticity (H):               1.71   Skew:                            -1.09\n",
      "Prob(H) (two-sided):                  0.11   Kurtosis:                         6.77\n",
      "===================================================================================\n",
      "\n",
      "Warnings:\n",
      "[1] Covariance matrix calculated using the outer product of gradients (complex-step).\n"
     ]
    }
   ],
   "source": [
    "# SARIMAX(1, 1, 1)x(0, 1, 1, 12)12 - AIC 373.2955705652238\n",
    "mod = sm.tsa.SARIMAX(endog=df_ilc_holidays.loc[df_actuals_first_index:df_actuals_last_index]['Mean hours'],exog=df_ilc_holidays.loc[df_actuals_first_index:df_actuals_last_index]['Holiday'],order=(1,1,1),seasonal_order=(0,1,1,12),enforce_invertibility=False,enforce_stationarity=False)\n",
    "results = mod.fit()\n",
    "print(results.summary())"
   ]
  },
  {
   "cell_type": "code",
   "execution_count": 17,
   "metadata": {},
   "outputs": [
    {
     "data": {
      "image/png": "[encoded data removed]",
      "text/plain": [
       "<Figure size 1080x864 with 4 Axes>"
      ]
     },
     "metadata": {
      "needs_background": "light"
     },
     "output_type": "display_data"
    }
   ],
   "source": [
    "results.plot_diagnostics(figsize=(15,12))\n",
    "plt.show()"
   ]
  },
  {
   "cell_type": "markdown",
   "metadata": {},
   "source": [
    "### Test the model using in-sample data"
   ]
  },
  {
   "cell_type": "code",
   "execution_count": 18,
   "metadata": {},
   "outputs": [],
   "source": [
    "# make ILC predictions for 2019 using in-sample data\n",
    "pred_2019 = results.get_prediction(start='2019-01-04',end='2019-12-27')\n",
    "pred_ci = pred_2019.conf_int()"
   ]
  },
  {
   "cell_type": "code",
   "execution_count": 19,
   "metadata": {},
   "outputs": [
    {
     "data": {
      "text/html": [
       "<div>\n",
       "<style scoped>\n",
       "    .dataframe tbody tr th:only-of-type {\n",
       "        vertical-align: middle;\n",
       "    }\n",
       "\n",
       "    .dataframe tbody tr th {\n",
       "        vertical-align: top;\n",
       "    }\n",
       "\n",
       "    .dataframe thead th {\n",
       "        text-align: right;\n",
       "    }\n",
       "</style>\n",
       "<table border=\"1\" class=\"dataframe\">\n",
       "  <thead>\n",
       "    <tr style=\"text-align: right;\">\n",
       "      <th></th>\n",
       "      <th>lower Mean hours</th>\n",
       "      <th>upper Mean hours</th>\n",
       "    </tr>\n",
       "  </thead>\n",
       "  <tbody>\n",
       "    <tr>\n",
       "      <th>2019-01-04</th>\n",
       "      <td>40.155867</td>\n",
       "      <td>45.316083</td>\n",
       "    </tr>\n",
       "    <tr>\n",
       "      <th>2019-01-11</th>\n",
       "      <td>39.054782</td>\n",
       "      <td>44.206062</td>\n",
       "    </tr>\n",
       "    <tr>\n",
       "      <th>2019-01-18</th>\n",
       "      <td>38.715951</td>\n",
       "      <td>43.859276</td>\n",
       "    </tr>\n",
       "    <tr>\n",
       "      <th>2019-01-25</th>\n",
       "      <td>35.084567</td>\n",
       "      <td>40.220762</td>\n",
       "    </tr>\n",
       "    <tr>\n",
       "      <th>2019-02-01</th>\n",
       "      <td>40.387808</td>\n",
       "      <td>45.517580</td>\n",
       "    </tr>\n",
       "    <tr>\n",
       "      <th>2019-02-08</th>\n",
       "      <td>40.023449</td>\n",
       "      <td>45.147401</td>\n",
       "    </tr>\n",
       "    <tr>\n",
       "      <th>2019-02-15</th>\n",
       "      <td>41.058839</td>\n",
       "      <td>46.177494</td>\n",
       "    </tr>\n",
       "    <tr>\n",
       "      <th>2019-02-22</th>\n",
       "      <td>40.257284</td>\n",
       "      <td>45.371099</td>\n",
       "    </tr>\n",
       "    <tr>\n",
       "      <th>2019-03-01</th>\n",
       "      <td>40.631635</td>\n",
       "      <td>45.687593</td>\n",
       "    </tr>\n",
       "    <tr>\n",
       "      <th>2019-03-08</th>\n",
       "      <td>40.616874</td>\n",
       "      <td>45.664077</td>\n",
       "    </tr>\n",
       "    <tr>\n",
       "      <th>2019-03-15</th>\n",
       "      <td>40.395318</td>\n",
       "      <td>45.434726</td>\n",
       "    </tr>\n",
       "    <tr>\n",
       "      <th>2019-03-22</th>\n",
       "      <td>35.095042</td>\n",
       "      <td>40.127465</td>\n",
       "    </tr>\n",
       "    <tr>\n",
       "      <th>2019-03-29</th>\n",
       "      <td>39.877375</td>\n",
       "      <td>44.903504</td>\n",
       "    </tr>\n",
       "    <tr>\n",
       "      <th>2019-04-05</th>\n",
       "      <td>40.174612</td>\n",
       "      <td>45.195039</td>\n",
       "    </tr>\n",
       "    <tr>\n",
       "      <th>2019-04-12</th>\n",
       "      <td>40.993948</td>\n",
       "      <td>46.009186</td>\n",
       "    </tr>\n",
       "    <tr>\n",
       "      <th>2019-04-19</th>\n",
       "      <td>41.662073</td>\n",
       "      <td>46.672569</td>\n",
       "    </tr>\n",
       "    <tr>\n",
       "      <th>2019-04-26</th>\n",
       "      <td>39.429610</td>\n",
       "      <td>44.435754</td>\n",
       "    </tr>\n",
       "    <tr>\n",
       "      <th>2019-05-03</th>\n",
       "      <td>32.473758</td>\n",
       "      <td>37.475895</td>\n",
       "    </tr>\n",
       "    <tr>\n",
       "      <th>2019-05-10</th>\n",
       "      <td>41.102389</td>\n",
       "      <td>46.100825</td>\n",
       "    </tr>\n",
       "    <tr>\n",
       "      <th>2019-05-17</th>\n",
       "      <td>40.376688</td>\n",
       "      <td>45.371695</td>\n",
       "    </tr>\n",
       "    <tr>\n",
       "      <th>2019-05-24</th>\n",
       "      <td>41.248519</td>\n",
       "      <td>46.204350</td>\n",
       "    </tr>\n",
       "    <tr>\n",
       "      <th>2019-05-31</th>\n",
       "      <td>40.681143</td>\n",
       "      <td>45.631351</td>\n",
       "    </tr>\n",
       "    <tr>\n",
       "      <th>2019-06-07</th>\n",
       "      <td>32.437298</td>\n",
       "      <td>37.382390</td>\n",
       "    </tr>\n",
       "    <tr>\n",
       "      <th>2019-06-14</th>\n",
       "      <td>40.384903</td>\n",
       "      <td>45.325318</td>\n",
       "    </tr>\n",
       "    <tr>\n",
       "      <th>2019-06-21</th>\n",
       "      <td>39.412794</td>\n",
       "      <td>44.348919</td>\n",
       "    </tr>\n",
       "    <tr>\n",
       "      <th>2019-06-28</th>\n",
       "      <td>40.063329</td>\n",
       "      <td>44.995503</td>\n",
       "    </tr>\n",
       "    <tr>\n",
       "      <th>2019-07-05</th>\n",
       "      <td>40.769039</td>\n",
       "      <td>45.697564</td>\n",
       "    </tr>\n",
       "    <tr>\n",
       "      <th>2019-07-12</th>\n",
       "      <td>40.734867</td>\n",
       "      <td>45.660010</td>\n",
       "    </tr>\n",
       "    <tr>\n",
       "      <th>2019-07-19</th>\n",
       "      <td>40.197078</td>\n",
       "      <td>45.119079</td>\n",
       "    </tr>\n",
       "    <tr>\n",
       "      <th>2019-07-26</th>\n",
       "      <td>40.663356</td>\n",
       "      <td>45.582430</td>\n",
       "    </tr>\n",
       "    <tr>\n",
       "      <th>2019-08-02</th>\n",
       "      <td>40.639604</td>\n",
       "      <td>45.555944</td>\n",
       "    </tr>\n",
       "    <tr>\n",
       "      <th>2019-08-09</th>\n",
       "      <td>40.614271</td>\n",
       "      <td>45.528053</td>\n",
       "    </tr>\n",
       "    <tr>\n",
       "      <th>2019-08-16</th>\n",
       "      <td>32.822111</td>\n",
       "      <td>37.707608</td>\n",
       "    </tr>\n",
       "    <tr>\n",
       "      <th>2019-08-23</th>\n",
       "      <td>40.313327</td>\n",
       "      <td>45.194913</td>\n",
       "    </tr>\n",
       "    <tr>\n",
       "      <th>2019-08-30</th>\n",
       "      <td>40.306420</td>\n",
       "      <td>45.184395</td>\n",
       "    </tr>\n",
       "    <tr>\n",
       "      <th>2019-09-06</th>\n",
       "      <td>38.326018</td>\n",
       "      <td>43.200645</td>\n",
       "    </tr>\n",
       "    <tr>\n",
       "      <th>2019-09-13</th>\n",
       "      <td>39.777244</td>\n",
       "      <td>44.648762</td>\n",
       "    </tr>\n",
       "    <tr>\n",
       "      <th>2019-09-20</th>\n",
       "      <td>40.686475</td>\n",
       "      <td>45.555096</td>\n",
       "    </tr>\n",
       "    <tr>\n",
       "      <th>2019-09-27</th>\n",
       "      <td>41.135330</td>\n",
       "      <td>46.001246</td>\n",
       "    </tr>\n",
       "    <tr>\n",
       "      <th>2019-10-04</th>\n",
       "      <td>33.036308</td>\n",
       "      <td>37.899691</td>\n",
       "    </tr>\n",
       "    <tr>\n",
       "      <th>2019-10-11</th>\n",
       "      <td>26.260048</td>\n",
       "      <td>31.121056</td>\n",
       "    </tr>\n",
       "    <tr>\n",
       "      <th>2019-10-18</th>\n",
       "      <td>40.546871</td>\n",
       "      <td>45.405647</td>\n",
       "    </tr>\n",
       "    <tr>\n",
       "      <th>2019-10-25</th>\n",
       "      <td>40.608550</td>\n",
       "      <td>45.465223</td>\n",
       "    </tr>\n",
       "    <tr>\n",
       "      <th>2019-11-01</th>\n",
       "      <td>30.675988</td>\n",
       "      <td>35.530678</td>\n",
       "    </tr>\n",
       "    <tr>\n",
       "      <th>2019-11-08</th>\n",
       "      <td>40.481445</td>\n",
       "      <td>45.314755</td>\n",
       "    </tr>\n",
       "    <tr>\n",
       "      <th>2019-11-15</th>\n",
       "      <td>40.687040</td>\n",
       "      <td>45.517475</td>\n",
       "    </tr>\n",
       "    <tr>\n",
       "      <th>2019-11-22</th>\n",
       "      <td>40.735126</td>\n",
       "      <td>45.562877</td>\n",
       "    </tr>\n",
       "    <tr>\n",
       "      <th>2019-11-29</th>\n",
       "      <td>40.338735</td>\n",
       "      <td>45.163973</td>\n",
       "    </tr>\n",
       "    <tr>\n",
       "      <th>2019-12-06</th>\n",
       "      <td>39.674961</td>\n",
       "      <td>44.497843</td>\n",
       "    </tr>\n",
       "    <tr>\n",
       "      <th>2019-12-13</th>\n",
       "      <td>40.358910</td>\n",
       "      <td>45.179576</td>\n",
       "    </tr>\n",
       "    <tr>\n",
       "      <th>2019-12-20</th>\n",
       "      <td>40.805941</td>\n",
       "      <td>45.624522</td>\n",
       "    </tr>\n",
       "    <tr>\n",
       "      <th>2019-12-27</th>\n",
       "      <td>32.582430</td>\n",
       "      <td>37.399045</td>\n",
       "    </tr>\n",
       "  </tbody>\n",
       "</table>\n",
       "</div>"
      ],
      "text/plain": [
       "            lower Mean hours  upper Mean hours\n",
       "2019-01-04         40.155867         45.316083\n",
       "2019-01-11         39.054782         44.206062\n",
       "2019-01-18         38.715951         43.859276\n",
       "2019-01-25         35.084567         40.220762\n",
       "2019-02-01         40.387808         45.517580\n",
       "2019-02-08         40.023449         45.147401\n",
       "2019-02-15         41.058839         46.177494\n",
       "2019-02-22         40.257284         45.371099\n",
       "2019-03-01         40.631635         45.687593\n",
       "2019-03-08         40.616874         45.664077\n",
       "2019-03-15         40.395318         45.434726\n",
       "2019-03-22         35.095042         40.127465\n",
       "2019-03-29         39.877375         44.903504\n",
       "2019-04-05         40.174612         45.195039\n",
       "2019-04-12         40.993948         46.009186\n",
       "2019-04-19         41.662073         46.672569\n",
       "2019-04-26         39.429610         44.435754\n",
       "2019-05-03         32.473758         37.475895\n",
       "2019-05-10         41.102389         46.100825\n",
       "2019-05-17         40.376688         45.371695\n",
       "2019-05-24         41.248519         46.204350\n",
       "2019-05-31         40.681143         45.631351\n",
       "2019-06-07         32.437298         37.382390\n",
       "2019-06-14         40.384903         45.325318\n",
       "2019-06-21         39.412794         44.348919\n",
       "2019-06-28         40.063329         44.995503\n",
       "2019-07-05         40.769039         45.697564\n",
       "2019-07-12         40.734867         45.660010\n",
       "2019-07-19         40.197078         45.119079\n",
       "2019-07-26         40.663356         45.582430\n",
       "2019-08-02         40.639604         45.555944\n",
       "2019-08-09         40.614271         45.528053\n",
       "2019-08-16         32.822111         37.707608\n",
       "2019-08-23         40.313327         45.194913\n",
       "2019-08-30         40.306420         45.184395\n",
       "2019-09-06         38.326018         43.200645\n",
       "2019-09-13         39.777244         44.648762\n",
       "2019-09-20         40.686475         45.555096\n",
       "2019-09-27         41.135330         46.001246\n",
       "2019-10-04         33.036308         37.899691\n",
       "2019-10-11         26.260048         31.121056\n",
       "2019-10-18         40.546871         45.405647\n",
       "2019-10-25         40.608550         45.465223\n",
       "2019-11-01         30.675988         35.530678\n",
       "2019-11-08         40.481445         45.314755\n",
       "2019-11-15         40.687040         45.517475\n",
       "2019-11-22         40.735126         45.562877\n",
       "2019-11-29         40.338735         45.163973\n",
       "2019-12-06         39.674961         44.497843\n",
       "2019-12-13         40.358910         45.179576\n",
       "2019-12-20         40.805941         45.624522\n",
       "2019-12-27         32.582430         37.399045"
      ]
     },
     "execution_count": 19,
     "metadata": {},
     "output_type": "execute_result"
    }
   ],
   "source": [
    "pred_ci"
   ]
  },
  {
   "cell_type": "code",
   "execution_count": 21,
   "metadata": {},
   "outputs": [
    {
     "data": {
      "text/html": [
       "<div>\n",
       "<style scoped>\n",
       "    .dataframe tbody tr th:only-of-type {\n",
       "        vertical-align: middle;\n",
       "    }\n",
       "\n",
       "    .dataframe tbody tr th {\n",
       "        vertical-align: top;\n",
       "    }\n",
       "\n",
       "    .dataframe thead th {\n",
       "        text-align: right;\n",
       "    }\n",
       "</style>\n",
       "<table border=\"1\" class=\"dataframe\">\n",
       "  <thead>\n",
       "    <tr style=\"text-align: right;\">\n",
       "      <th></th>\n",
       "      <th>Actual</th>\n",
       "      <th>Mean Predictions</th>\n",
       "      <th>Deviations</th>\n",
       "      <th>Lower Predicted Hours</th>\n",
       "      <th>Upper Predicted Hours</th>\n",
       "      <th>Root mean square err 2019 (Mean Weekly ILC)</th>\n",
       "    </tr>\n",
       "    <tr>\n",
       "      <th>Weekending Date</th>\n",
       "      <th></th>\n",
       "      <th></th>\n",
       "      <th></th>\n",
       "      <th></th>\n",
       "      <th></th>\n",
       "      <th></th>\n",
       "    </tr>\n",
       "  </thead>\n",
       "  <tbody>\n",
       "    <tr>\n",
       "      <th>2019-01-04</th>\n",
       "      <td>40.424658</td>\n",
       "      <td>42.735975</td>\n",
       "      <td>2.311317</td>\n",
       "      <td>40.155867</td>\n",
       "      <td>45.316083</td>\n",
       "      <td>1.083393</td>\n",
       "    </tr>\n",
       "    <tr>\n",
       "      <th>2019-01-11</th>\n",
       "      <td>44.164384</td>\n",
       "      <td>41.630422</td>\n",
       "      <td>2.533961</td>\n",
       "      <td>39.054782</td>\n",
       "      <td>44.206062</td>\n",
       "      <td>1.083393</td>\n",
       "    </tr>\n",
       "    <tr>\n",
       "      <th>2019-01-18</th>\n",
       "      <td>41.916667</td>\n",
       "      <td>41.287614</td>\n",
       "      <td>0.629053</td>\n",
       "      <td>38.715951</td>\n",
       "      <td>43.859276</td>\n",
       "      <td>1.083393</td>\n",
       "    </tr>\n",
       "    <tr>\n",
       "      <th>2019-01-25</th>\n",
       "      <td>39.361111</td>\n",
       "      <td>37.652664</td>\n",
       "      <td>1.708447</td>\n",
       "      <td>35.084567</td>\n",
       "      <td>40.220762</td>\n",
       "      <td>1.083393</td>\n",
       "    </tr>\n",
       "    <tr>\n",
       "      <th>2019-02-01</th>\n",
       "      <td>42.643836</td>\n",
       "      <td>42.952694</td>\n",
       "      <td>0.308859</td>\n",
       "      <td>40.387808</td>\n",
       "      <td>45.517580</td>\n",
       "      <td>1.083393</td>\n",
       "    </tr>\n",
       "    <tr>\n",
       "      <th>2019-02-08</th>\n",
       "      <td>43.583333</td>\n",
       "      <td>42.585425</td>\n",
       "      <td>0.997908</td>\n",
       "      <td>40.023449</td>\n",
       "      <td>45.147401</td>\n",
       "      <td>1.083393</td>\n",
       "    </tr>\n",
       "    <tr>\n",
       "      <th>2019-02-15</th>\n",
       "      <td>42.635135</td>\n",
       "      <td>43.618167</td>\n",
       "      <td>0.983031</td>\n",
       "      <td>41.058839</td>\n",
       "      <td>46.177494</td>\n",
       "      <td>1.083393</td>\n",
       "    </tr>\n",
       "    <tr>\n",
       "      <th>2019-02-22</th>\n",
       "      <td>42.702703</td>\n",
       "      <td>42.814192</td>\n",
       "      <td>0.111489</td>\n",
       "      <td>40.257284</td>\n",
       "      <td>45.371099</td>\n",
       "      <td>1.083393</td>\n",
       "    </tr>\n",
       "    <tr>\n",
       "      <th>2019-03-01</th>\n",
       "      <td>43.786667</td>\n",
       "      <td>43.159614</td>\n",
       "      <td>0.627053</td>\n",
       "      <td>40.631635</td>\n",
       "      <td>45.687593</td>\n",
       "      <td>1.083393</td>\n",
       "    </tr>\n",
       "    <tr>\n",
       "      <th>2019-03-08</th>\n",
       "      <td>44.051282</td>\n",
       "      <td>43.140475</td>\n",
       "      <td>0.910807</td>\n",
       "      <td>40.616874</td>\n",
       "      <td>45.664077</td>\n",
       "      <td>1.083393</td>\n",
       "    </tr>\n",
       "    <tr>\n",
       "      <th>2019-03-15</th>\n",
       "      <td>44.868750</td>\n",
       "      <td>42.915022</td>\n",
       "      <td>1.953728</td>\n",
       "      <td>40.395318</td>\n",
       "      <td>45.434726</td>\n",
       "      <td>1.083393</td>\n",
       "    </tr>\n",
       "    <tr>\n",
       "      <th>2019-03-22</th>\n",
       "      <td>37.173077</td>\n",
       "      <td>37.611254</td>\n",
       "      <td>0.438177</td>\n",
       "      <td>35.095042</td>\n",
       "      <td>40.127465</td>\n",
       "      <td>1.083393</td>\n",
       "    </tr>\n",
       "    <tr>\n",
       "      <th>2019-03-29</th>\n",
       "      <td>42.225000</td>\n",
       "      <td>42.390440</td>\n",
       "      <td>0.165440</td>\n",
       "      <td>39.877375</td>\n",
       "      <td>44.903504</td>\n",
       "      <td>1.083393</td>\n",
       "    </tr>\n",
       "    <tr>\n",
       "      <th>2019-04-05</th>\n",
       "      <td>43.924051</td>\n",
       "      <td>42.684825</td>\n",
       "      <td>1.239225</td>\n",
       "      <td>40.174612</td>\n",
       "      <td>45.195039</td>\n",
       "      <td>1.083393</td>\n",
       "    </tr>\n",
       "    <tr>\n",
       "      <th>2019-04-12</th>\n",
       "      <td>44.206250</td>\n",
       "      <td>43.501567</td>\n",
       "      <td>0.704683</td>\n",
       "      <td>40.993948</td>\n",
       "      <td>46.009186</td>\n",
       "      <td>1.083393</td>\n",
       "    </tr>\n",
       "    <tr>\n",
       "      <th>2019-04-19</th>\n",
       "      <td>40.666667</td>\n",
       "      <td>44.167321</td>\n",
       "      <td>3.500655</td>\n",
       "      <td>41.662073</td>\n",
       "      <td>46.672569</td>\n",
       "      <td>1.083393</td>\n",
       "    </tr>\n",
       "    <tr>\n",
       "      <th>2019-04-26</th>\n",
       "      <td>43.365385</td>\n",
       "      <td>41.932682</td>\n",
       "      <td>1.432703</td>\n",
       "      <td>39.429610</td>\n",
       "      <td>44.435754</td>\n",
       "      <td>1.083393</td>\n",
       "    </tr>\n",
       "    <tr>\n",
       "      <th>2019-05-03</th>\n",
       "      <td>36.438356</td>\n",
       "      <td>34.974827</td>\n",
       "      <td>1.463530</td>\n",
       "      <td>32.473758</td>\n",
       "      <td>37.475895</td>\n",
       "      <td>1.083393</td>\n",
       "    </tr>\n",
       "    <tr>\n",
       "      <th>2019-05-10</th>\n",
       "      <td>42.892857</td>\n",
       "      <td>43.601607</td>\n",
       "      <td>0.708750</td>\n",
       "      <td>41.102389</td>\n",
       "      <td>46.100825</td>\n",
       "      <td>1.083393</td>\n",
       "    </tr>\n",
       "    <tr>\n",
       "      <th>2019-05-17</th>\n",
       "      <td>44.421429</td>\n",
       "      <td>42.874191</td>\n",
       "      <td>1.547237</td>\n",
       "      <td>40.376688</td>\n",
       "      <td>45.371695</td>\n",
       "      <td>1.083393</td>\n",
       "    </tr>\n",
       "    <tr>\n",
       "      <th>2019-05-24</th>\n",
       "      <td>42.781690</td>\n",
       "      <td>43.726434</td>\n",
       "      <td>0.944744</td>\n",
       "      <td>41.248519</td>\n",
       "      <td>46.204350</td>\n",
       "      <td>1.083393</td>\n",
       "    </tr>\n",
       "    <tr>\n",
       "      <th>2019-05-31</th>\n",
       "      <td>42.228571</td>\n",
       "      <td>43.156247</td>\n",
       "      <td>0.927675</td>\n",
       "      <td>40.681143</td>\n",
       "      <td>45.631351</td>\n",
       "      <td>1.083393</td>\n",
       "    </tr>\n",
       "    <tr>\n",
       "      <th>2019-06-07</th>\n",
       "      <td>34.271429</td>\n",
       "      <td>34.909844</td>\n",
       "      <td>0.638415</td>\n",
       "      <td>32.437298</td>\n",
       "      <td>37.382390</td>\n",
       "      <td>1.083393</td>\n",
       "    </tr>\n",
       "    <tr>\n",
       "      <th>2019-06-14</th>\n",
       "      <td>41.549296</td>\n",
       "      <td>42.855110</td>\n",
       "      <td>1.305815</td>\n",
       "      <td>40.384903</td>\n",
       "      <td>45.325318</td>\n",
       "      <td>1.083393</td>\n",
       "    </tr>\n",
       "    <tr>\n",
       "      <th>2019-06-21</th>\n",
       "      <td>41.340278</td>\n",
       "      <td>41.880857</td>\n",
       "      <td>0.540579</td>\n",
       "      <td>39.412794</td>\n",
       "      <td>44.348919</td>\n",
       "      <td>1.083393</td>\n",
       "    </tr>\n",
       "    <tr>\n",
       "      <th>2019-06-28</th>\n",
       "      <td>43.054795</td>\n",
       "      <td>42.529416</td>\n",
       "      <td>0.525378</td>\n",
       "      <td>40.063329</td>\n",
       "      <td>44.995503</td>\n",
       "      <td>1.083393</td>\n",
       "    </tr>\n",
       "    <tr>\n",
       "      <th>2019-07-05</th>\n",
       "      <td>43.428571</td>\n",
       "      <td>43.233301</td>\n",
       "      <td>0.195270</td>\n",
       "      <td>40.769039</td>\n",
       "      <td>45.697564</td>\n",
       "      <td>1.083393</td>\n",
       "    </tr>\n",
       "    <tr>\n",
       "      <th>2019-07-12</th>\n",
       "      <td>43.710145</td>\n",
       "      <td>43.197438</td>\n",
       "      <td>0.512707</td>\n",
       "      <td>40.734867</td>\n",
       "      <td>45.660010</td>\n",
       "      <td>1.083393</td>\n",
       "    </tr>\n",
       "    <tr>\n",
       "      <th>2019-07-19</th>\n",
       "      <td>43.680556</td>\n",
       "      <td>42.658078</td>\n",
       "      <td>1.022477</td>\n",
       "      <td>40.197078</td>\n",
       "      <td>45.119079</td>\n",
       "      <td>1.083393</td>\n",
       "    </tr>\n",
       "    <tr>\n",
       "      <th>2019-07-26</th>\n",
       "      <td>43.187500</td>\n",
       "      <td>43.122893</td>\n",
       "      <td>0.064607</td>\n",
       "      <td>40.663356</td>\n",
       "      <td>45.582430</td>\n",
       "      <td>1.083393</td>\n",
       "    </tr>\n",
       "    <tr>\n",
       "      <th>2019-08-02</th>\n",
       "      <td>43.242857</td>\n",
       "      <td>43.097774</td>\n",
       "      <td>0.145083</td>\n",
       "      <td>40.639604</td>\n",
       "      <td>45.555944</td>\n",
       "      <td>1.083393</td>\n",
       "    </tr>\n",
       "    <tr>\n",
       "      <th>2019-08-09</th>\n",
       "      <td>43.400000</td>\n",
       "      <td>43.071162</td>\n",
       "      <td>0.328838</td>\n",
       "      <td>40.614271</td>\n",
       "      <td>45.528053</td>\n",
       "      <td>1.083393</td>\n",
       "    </tr>\n",
       "    <tr>\n",
       "      <th>2019-08-16</th>\n",
       "      <td>34.338235</td>\n",
       "      <td>35.264859</td>\n",
       "      <td>0.926624</td>\n",
       "      <td>32.822111</td>\n",
       "      <td>37.707608</td>\n",
       "      <td>1.083393</td>\n",
       "    </tr>\n",
       "    <tr>\n",
       "      <th>2019-08-23</th>\n",
       "      <td>42.805556</td>\n",
       "      <td>42.754120</td>\n",
       "      <td>0.051435</td>\n",
       "      <td>40.313327</td>\n",
       "      <td>45.194913</td>\n",
       "      <td>1.083393</td>\n",
       "    </tr>\n",
       "    <tr>\n",
       "      <th>2019-08-30</th>\n",
       "      <td>43.169014</td>\n",
       "      <td>42.745408</td>\n",
       "      <td>0.423607</td>\n",
       "      <td>40.306420</td>\n",
       "      <td>45.184395</td>\n",
       "      <td>1.083393</td>\n",
       "    </tr>\n",
       "    <tr>\n",
       "      <th>2019-09-06</th>\n",
       "      <td>41.773973</td>\n",
       "      <td>40.763331</td>\n",
       "      <td>1.010641</td>\n",
       "      <td>38.326018</td>\n",
       "      <td>43.200645</td>\n",
       "      <td>1.083393</td>\n",
       "    </tr>\n",
       "    <tr>\n",
       "      <th>2019-09-13</th>\n",
       "      <td>43.739726</td>\n",
       "      <td>42.213003</td>\n",
       "      <td>1.526723</td>\n",
       "      <td>39.777244</td>\n",
       "      <td>44.648762</td>\n",
       "      <td>1.083393</td>\n",
       "    </tr>\n",
       "    <tr>\n",
       "      <th>2019-09-20</th>\n",
       "      <td>44.256757</td>\n",
       "      <td>43.120785</td>\n",
       "      <td>1.135971</td>\n",
       "      <td>40.686475</td>\n",
       "      <td>45.555096</td>\n",
       "      <td>1.083393</td>\n",
       "    </tr>\n",
       "    <tr>\n",
       "      <th>2019-09-27</th>\n",
       "      <td>43.808219</td>\n",
       "      <td>43.568288</td>\n",
       "      <td>0.239931</td>\n",
       "      <td>41.135330</td>\n",
       "      <td>46.001246</td>\n",
       "      <td>1.083393</td>\n",
       "    </tr>\n",
       "    <tr>\n",
       "      <th>2019-10-04</th>\n",
       "      <td>34.563380</td>\n",
       "      <td>35.468000</td>\n",
       "      <td>0.904620</td>\n",
       "      <td>33.036308</td>\n",
       "      <td>37.899691</td>\n",
       "      <td>1.083393</td>\n",
       "    </tr>\n",
       "    <tr>\n",
       "      <th>2019-10-11</th>\n",
       "      <td>28.897059</td>\n",
       "      <td>28.690552</td>\n",
       "      <td>0.206507</td>\n",
       "      <td>26.260048</td>\n",
       "      <td>31.121056</td>\n",
       "      <td>1.083393</td>\n",
       "    </tr>\n",
       "    <tr>\n",
       "      <th>2019-10-18</th>\n",
       "      <td>42.753425</td>\n",
       "      <td>42.976259</td>\n",
       "      <td>0.222834</td>\n",
       "      <td>40.546871</td>\n",
       "      <td>45.405647</td>\n",
       "      <td>1.083393</td>\n",
       "    </tr>\n",
       "    <tr>\n",
       "      <th>2019-10-25</th>\n",
       "      <td>42.896104</td>\n",
       "      <td>43.036886</td>\n",
       "      <td>0.140782</td>\n",
       "      <td>40.608550</td>\n",
       "      <td>45.465223</td>\n",
       "      <td>1.083393</td>\n",
       "    </tr>\n",
       "    <tr>\n",
       "      <th>2019-11-01</th>\n",
       "      <td>32.513889</td>\n",
       "      <td>33.103333</td>\n",
       "      <td>0.589444</td>\n",
       "      <td>30.675988</td>\n",
       "      <td>35.530678</td>\n",
       "      <td>1.083393</td>\n",
       "    </tr>\n",
       "    <tr>\n",
       "      <th>2019-11-08</th>\n",
       "      <td>43.853333</td>\n",
       "      <td>42.898100</td>\n",
       "      <td>0.955233</td>\n",
       "      <td>40.481445</td>\n",
       "      <td>45.314755</td>\n",
       "      <td>1.083393</td>\n",
       "    </tr>\n",
       "    <tr>\n",
       "      <th>2019-11-15</th>\n",
       "      <td>44.227273</td>\n",
       "      <td>43.102257</td>\n",
       "      <td>1.125015</td>\n",
       "      <td>40.687040</td>\n",
       "      <td>45.517475</td>\n",
       "      <td>1.083393</td>\n",
       "    </tr>\n",
       "    <tr>\n",
       "      <th>2019-11-22</th>\n",
       "      <td>42.314815</td>\n",
       "      <td>43.149002</td>\n",
       "      <td>0.834187</td>\n",
       "      <td>40.735126</td>\n",
       "      <td>45.562877</td>\n",
       "      <td>1.083393</td>\n",
       "    </tr>\n",
       "    <tr>\n",
       "      <th>2019-11-29</th>\n",
       "      <td>42.172840</td>\n",
       "      <td>42.751354</td>\n",
       "      <td>0.578515</td>\n",
       "      <td>40.338735</td>\n",
       "      <td>45.163973</td>\n",
       "      <td>1.083393</td>\n",
       "    </tr>\n",
       "    <tr>\n",
       "      <th>2019-12-06</th>\n",
       "      <td>41.556250</td>\n",
       "      <td>42.086402</td>\n",
       "      <td>0.530152</td>\n",
       "      <td>39.674961</td>\n",
       "      <td>44.497843</td>\n",
       "      <td>1.083393</td>\n",
       "    </tr>\n",
       "    <tr>\n",
       "      <th>2019-12-13</th>\n",
       "      <td>42.814815</td>\n",
       "      <td>42.769243</td>\n",
       "      <td>0.045572</td>\n",
       "      <td>40.358910</td>\n",
       "      <td>45.179576</td>\n",
       "      <td>1.083393</td>\n",
       "    </tr>\n",
       "    <tr>\n",
       "      <th>2019-12-20</th>\n",
       "      <td>42.592593</td>\n",
       "      <td>43.215232</td>\n",
       "      <td>0.622639</td>\n",
       "      <td>40.805941</td>\n",
       "      <td>45.624522</td>\n",
       "      <td>1.083393</td>\n",
       "    </tr>\n",
       "    <tr>\n",
       "      <th>2019-12-27</th>\n",
       "      <td>34.329114</td>\n",
       "      <td>34.990738</td>\n",
       "      <td>0.661624</td>\n",
       "      <td>32.582430</td>\n",
       "      <td>37.399045</td>\n",
       "      <td>1.083393</td>\n",
       "    </tr>\n",
       "  </tbody>\n",
       "</table>\n",
       "</div>"
      ],
      "text/plain": [
       "                    Actual  Mean Predictions  Deviations  \\\n",
       "Weekending Date                                            \n",
       "2019-01-04       40.424658         42.735975    2.311317   \n",
       "2019-01-11       44.164384         41.630422    2.533961   \n",
       "2019-01-18       41.916667         41.287614    0.629053   \n",
       "2019-01-25       39.361111         37.652664    1.708447   \n",
       "2019-02-01       42.643836         42.952694    0.308859   \n",
       "2019-02-08       43.583333         42.585425    0.997908   \n",
       "2019-02-15       42.635135         43.618167    0.983031   \n",
       "2019-02-22       42.702703         42.814192    0.111489   \n",
       "2019-03-01       43.786667         43.159614    0.627053   \n",
       "2019-03-08       44.051282         43.140475    0.910807   \n",
       "2019-03-15       44.868750         42.915022    1.953728   \n",
       "2019-03-22       37.173077         37.611254    0.438177   \n",
       "2019-03-29       42.225000         42.390440    0.165440   \n",
       "2019-04-05       43.924051         42.684825    1.239225   \n",
       "2019-04-12       44.206250         43.501567    0.704683   \n",
       "2019-04-19       40.666667         44.167321    3.500655   \n",
       "2019-04-26       43.365385         41.932682    1.432703   \n",
       "2019-05-03       36.438356         34.974827    1.463530   \n",
       "2019-05-10       42.892857         43.601607    0.708750   \n",
       "2019-05-17       44.421429         42.874191    1.547237   \n",
       "2019-05-24       42.781690         43.726434    0.944744   \n",
       "2019-05-31       42.228571         43.156247    0.927675   \n",
       "2019-06-07       34.271429         34.909844    0.638415   \n",
       "2019-06-14       41.549296         42.855110    1.305815   \n",
       "2019-06-21       41.340278         41.880857    0.540579   \n",
       "2019-06-28       43.054795         42.529416    0.525378   \n",
       "2019-07-05       43.428571         43.233301    0.195270   \n",
       "2019-07-12       43.710145         43.197438    0.512707   \n",
       "2019-07-19       43.680556         42.658078    1.022477   \n",
       "2019-07-26       43.187500         43.122893    0.064607   \n",
       "2019-08-02       43.242857         43.097774    0.145083   \n",
       "2019-08-09       43.400000         43.071162    0.328838   \n",
       "2019-08-16       34.338235         35.264859    0.926624   \n",
       "2019-08-23       42.805556         42.754120    0.051435   \n",
       "2019-08-30       43.169014         42.745408    0.423607   \n",
       "2019-09-06       41.773973         40.763331    1.010641   \n",
       "2019-09-13       43.739726         42.213003    1.526723   \n",
       "2019-09-20       44.256757         43.120785    1.135971   \n",
       "2019-09-27       43.808219         43.568288    0.239931   \n",
       "2019-10-04       34.563380         35.468000    0.904620   \n",
       "2019-10-11       28.897059         28.690552    0.206507   \n",
       "2019-10-18       42.753425         42.976259    0.222834   \n",
       "2019-10-25       42.896104         43.036886    0.140782   \n",
       "2019-11-01       32.513889         33.103333    0.589444   \n",
       "2019-11-08       43.853333         42.898100    0.955233   \n",
       "2019-11-15       44.227273         43.102257    1.125015   \n",
       "2019-11-22       42.314815         43.149002    0.834187   \n",
       "2019-11-29       42.172840         42.751354    0.578515   \n",
       "2019-12-06       41.556250         42.086402    0.530152   \n",
       "2019-12-13       42.814815         42.769243    0.045572   \n",
       "2019-12-20       42.592593         43.215232    0.622639   \n",
       "2019-12-27       34.329114         34.990738    0.661624   \n",
       "\n",
       "                 Lower Predicted Hours  Upper Predicted Hours  \\\n",
       "Weekending Date                                                 \n",
       "2019-01-04                   40.155867              45.316083   \n",
       "2019-01-11                   39.054782              44.206062   \n",
       "2019-01-18                   38.715951              43.859276   \n",
       "2019-01-25                   35.084567              40.220762   \n",
       "2019-02-01                   40.387808              45.517580   \n",
       "2019-02-08                   40.023449              45.147401   \n",
       "2019-02-15                   41.058839              46.177494   \n",
       "2019-02-22                   40.257284              45.371099   \n",
       "2019-03-01                   40.631635              45.687593   \n",
       "2019-03-08                   40.616874              45.664077   \n",
       "2019-03-15                   40.395318              45.434726   \n",
       "2019-03-22                   35.095042              40.127465   \n",
       "2019-03-29                   39.877375              44.903504   \n",
       "2019-04-05                   40.174612              45.195039   \n",
       "2019-04-12                   40.993948              46.009186   \n",
       "2019-04-19                   41.662073              46.672569   \n",
       "2019-04-26                   39.429610              44.435754   \n",
       "2019-05-03                   32.473758              37.475895   \n",
       "2019-05-10                   41.102389              46.100825   \n",
       "2019-05-17                   40.376688              45.371695   \n",
       "2019-05-24                   41.248519              46.204350   \n",
       "2019-05-31                   40.681143              45.631351   \n",
       "2019-06-07                   32.437298              37.382390   \n",
       "2019-06-14                   40.384903              45.325318   \n",
       "2019-06-21                   39.412794              44.348919   \n",
       "2019-06-28                   40.063329              44.995503   \n",
       "2019-07-05                   40.769039              45.697564   \n",
       "2019-07-12                   40.734867              45.660010   \n",
       "2019-07-19                   40.197078              45.119079   \n",
       "2019-07-26                   40.663356              45.582430   \n",
       "2019-08-02                   40.639604              45.555944   \n",
       "2019-08-09                   40.614271              45.528053   \n",
       "2019-08-16                   32.822111              37.707608   \n",
       "2019-08-23                   40.313327              45.194913   \n",
       "2019-08-30                   40.306420              45.184395   \n",
       "2019-09-06                   38.326018              43.200645   \n",
       "2019-09-13                   39.777244              44.648762   \n",
       "2019-09-20                   40.686475              45.555096   \n",
       "2019-09-27                   41.135330              46.001246   \n",
       "2019-10-04                   33.036308              37.899691   \n",
       "2019-10-11                   26.260048              31.121056   \n",
       "2019-10-18                   40.546871              45.405647   \n",
       "2019-10-25                   40.608550              45.465223   \n",
       "2019-11-01                   30.675988              35.530678   \n",
       "2019-11-08                   40.481445              45.314755   \n",
       "2019-11-15                   40.687040              45.517475   \n",
       "2019-11-22                   40.735126              45.562877   \n",
       "2019-11-29                   40.338735              45.163973   \n",
       "2019-12-06                   39.674961              44.497843   \n",
       "2019-12-13                   40.358910              45.179576   \n",
       "2019-12-20                   40.805941              45.624522   \n",
       "2019-12-27                   32.582430              37.399045   \n",
       "\n",
       "                 Root mean square err 2019 (Mean Weekly ILC)  \n",
       "Weekending Date                                               \n",
       "2019-01-04                                          1.083393  \n",
       "2019-01-11                                          1.083393  \n",
       "2019-01-18                                          1.083393  \n",
       "2019-01-25                                          1.083393  \n",
       "2019-02-01                                          1.083393  \n",
       "2019-02-08                                          1.083393  \n",
       "2019-02-15                                          1.083393  \n",
       "2019-02-22                                          1.083393  \n",
       "2019-03-01                                          1.083393  \n",
       "2019-03-08                                          1.083393  \n",
       "2019-03-15                                          1.083393  \n",
       "2019-03-22                                          1.083393  \n",
       "2019-03-29                                          1.083393  \n",
       "2019-04-05                                          1.083393  \n",
       "2019-04-12                                          1.083393  \n",
       "2019-04-19                                          1.083393  \n",
       "2019-04-26                                          1.083393  \n",
       "2019-05-03                                          1.083393  \n",
       "2019-05-10                                          1.083393  \n",
       "2019-05-17                                          1.083393  \n",
       "2019-05-24                                          1.083393  \n",
       "2019-05-31                                          1.083393  \n",
       "2019-06-07                                          1.083393  \n",
       "2019-06-14                                          1.083393  \n",
       "2019-06-21                                          1.083393  \n",
       "2019-06-28                                          1.083393  \n",
       "2019-07-05                                          1.083393  \n",
       "2019-07-12                                          1.083393  \n",
       "2019-07-19                                          1.083393  \n",
       "2019-07-26                                          1.083393  \n",
       "2019-08-02                                          1.083393  \n",
       "2019-08-09                                          1.083393  \n",
       "2019-08-16                                          1.083393  \n",
       "2019-08-23                                          1.083393  \n",
       "2019-08-30                                          1.083393  \n",
       "2019-09-06                                          1.083393  \n",
       "2019-09-13                                          1.083393  \n",
       "2019-09-20                                          1.083393  \n",
       "2019-09-27                                          1.083393  \n",
       "2019-10-04                                          1.083393  \n",
       "2019-10-11                                          1.083393  \n",
       "2019-10-18                                          1.083393  \n",
       "2019-10-25                                          1.083393  \n",
       "2019-11-01                                          1.083393  \n",
       "2019-11-08                                          1.083393  \n",
       "2019-11-15                                          1.083393  \n",
       "2019-11-22                                          1.083393  \n",
       "2019-11-29                                          1.083393  \n",
       "2019-12-06                                          1.083393  \n",
       "2019-12-13                                          1.083393  \n",
       "2019-12-20                                          1.083393  \n",
       "2019-12-27                                          1.083393  "
      ]
     },
     "execution_count": 21,
     "metadata": {},
     "output_type": "execute_result"
    }
   ],
   "source": [
    "df_ilc_2019 = pd.DataFrame()\n",
    "df_ilc_2019['Actual'] = df_ilc_holidays.loc['2019-01-04':'2019-12-27']['Mean hours']\n",
    "df_ilc_2019['Mean Predictions'] = pred_2019.predicted_mean\n",
    "df_ilc_2019['Deviations'] = np.abs(df_ilc_2019['Actual']-df_ilc_2019['Mean Predictions'])\n",
    "df_ilc_2019['Lower Predicted Hours'] = pred_ci['lower Mean hours']\n",
    "df_ilc_2019['Upper Predicted Hours'] = pred_ci['upper Mean hours']\n",
    "df_ilc_2019['Root mean square err 2019 (Mean Weekly ILC)'] = np.sqrt((df_ilc_2019['Deviations']**2).mean())\n",
    "df_ilc_2019"
   ]
  },
  {
   "cell_type": "markdown",
   "metadata": {},
   "source": [
    "Out of 45 hours that we consider for employee timesheet every week, RMSE is only 1.08. It means the error is very less. Our model is making very close predictions."
   ]
  },
  {
   "cell_type": "code",
   "execution_count": 22,
   "metadata": {},
   "outputs": [
    {
     "data": {
      "application/vnd.plotly.v1+json": {
       "config": {
        "linkText": "Export to plot.ly",
        "plotlyServerURL": "https://plot.ly",
        "showLink": true
       },
       "data": [
        {
         "line": {
          "color": "rgba(255, 153, 51, 1.0)",
          "dash": "solid",
          "shape": "linear",
          "width": 1.3
         },
         "mode": "lines",
         "name": "Actual",
         "text": "",
         "type": "scatter",
         "x": [
          "2019-01-04",
          "2019-01-11",
          "2019-01-18",
          "2019-01-25",
          "2019-02-01",
          "2019-02-08",
          "2019-02-15",
          "2019-02-22",
          "2019-03-01",
          "2019-03-08",
          "2019-03-15",
          "2019-03-22",
          "2019-03-29",
          "2019-04-05",
          "2019-04-12",
          "2019-04-19",
          "2019-04-26",
          "2019-05-03",
          "2019-05-10",
          "2019-05-17",
          "2019-05-24",
          "2019-05-31",
          "2019-06-07",
          "2019-06-14",
          "2019-06-21",
          "2019-06-28",
          "2019-07-05",
          "2019-07-12",
          "2019-07-19",
          "2019-07-26",
          "2019-08-02",
          "2019-08-09",
          "2019-08-16",
          "2019-08-23",
          "2019-08-30",
          "2019-09-06",
          "2019-09-13",
          "2019-09-20",
          "2019-09-27",
          "2019-10-04",
          "2019-10-11",
          "2019-10-18",
          "2019-10-25",
          "2019-11-01",
          "2019-11-08",
          "2019-11-15",
          "2019-11-22",
          "2019-11-29",
          "2019-12-06",
          "2019-12-13",
          "2019-12-20",
          "2019-12-27"
         ],
         "y": [
          40.42465753424658,
          44.16438356164384,
          41.91666666666666,
          39.36111111111111,
          42.64383561643836,
          43.58333333333334,
          42.63513513513514,
          42.7027027027027,
          43.78666666666667,
          44.05128205128205,
          44.86875,
          37.17307692307692,
          42.225,
          43.9240506329114,
          44.20625,
          40.66666666666666,
          43.36538461538461,
          36.43835616438356,
          42.89285714285715,
          44.42142857142857,
          42.78169014084507,
          42.22857142857143,
          34.27142857142857,
          41.54929577464789,
          41.34027777777778,
          43.05479452054794,
          43.42857142857143,
          43.71014492753623,
          43.68055555555556,
          43.1875,
          43.24285714285714,
          43.4,
          34.33823529411764,
          42.80555555555556,
          43.16901408450704,
          41.77397260273973,
          43.73972602739726,
          44.25675675675676,
          43.80821917808219,
          34.56338028169014,
          28.89705882352941,
          42.75342465753425,
          42.8961038961039,
          32.51388888888889,
          43.85333333333333,
          44.22727272727273,
          42.31481481481482,
          42.17283950617284,
          41.55625,
          42.81481481481482,
          42.5925925925926,
          34.32911392405063
         ]
        },
        {
         "line": {
          "color": "rgba(55, 128, 191, 1.0)",
          "dash": "solid",
          "shape": "linear",
          "width": 1.3
         },
         "mode": "lines",
         "name": "Mean Predictions",
         "text": "",
         "type": "scatter",
         "x": [
          "2019-01-04",
          "2019-01-11",
          "2019-01-18",
          "2019-01-25",
          "2019-02-01",
          "2019-02-08",
          "2019-02-15",
          "2019-02-22",
          "2019-03-01",
          "2019-03-08",
          "2019-03-15",
          "2019-03-22",
          "2019-03-29",
          "2019-04-05",
          "2019-04-12",
          "2019-04-19",
          "2019-04-26",
          "2019-05-03",
          "2019-05-10",
          "2019-05-17",
          "2019-05-24",
          "2019-05-31",
          "2019-06-07",
          "2019-06-14",
          "2019-06-21",
          "2019-06-28",
          "2019-07-05",
          "2019-07-12",
          "2019-07-19",
          "2019-07-26",
          "2019-08-02",
          "2019-08-09",
          "2019-08-16",
          "2019-08-23",
          "2019-08-30",
          "2019-09-06",
          "2019-09-13",
          "2019-09-20",
          "2019-09-27",
          "2019-10-04",
          "2019-10-11",
          "2019-10-18",
          "2019-10-25",
          "2019-11-01",
          "2019-11-08",
          "2019-11-15",
          "2019-11-22",
          "2019-11-29",
          "2019-12-06",
          "2019-12-13",
          "2019-12-20",
          "2019-12-27"
         ],
         "y": [
          42.73597499808619,
          41.63042243125783,
          41.2876136268317,
          37.65266438693972,
          42.95269412251196,
          42.58542496484273,
          43.61816652118401,
          42.81419167008494,
          43.15961416565271,
          43.14047543621317,
          42.915021567773756,
          37.61125370322516,
          42.390439581320216,
          42.684825143129764,
          43.50156682116061,
          44.16732129783125,
          41.93268168296437,
          34.97482655997386,
          43.60160702904971,
          42.87419116711919,
          43.726434489379564,
          43.15624662607045,
          34.90984405180782,
          42.855110495127605,
          41.880856745024275,
          42.52941609023459,
          43.23330145274164,
          43.1974383334579,
          42.65807828245452,
          43.12289322274877,
          43.09777405633587,
          43.07116205833271,
          35.26485947074182,
          42.75412009826454,
          42.745407540445335,
          40.763331483504075,
          42.21300308007762,
          43.120785498453714,
          43.56828806859061,
          35.46799990203645,
          28.690552008239674,
          42.97625906748141,
          43.03688629327521,
          33.10333299796254,
          42.89810018822977,
          43.102257269942875,
          43.149001561799544,
          42.75135426266493,
          42.08640201666142,
          42.76924304535404,
          43.21523177227843,
          34.99073755175061
         ]
        }
       ],
       "layout": {
        "legend": {
         "bgcolor": "#F5F6F9",
         "font": {
          "color": "#4D5663"
         }
        },
        "paper_bgcolor": "#F5F6F9",
        "plot_bgcolor": "#F5F6F9",
        "template": {
         "data": {
          "bar": [
           {
            "error_x": {
             "color": "#2a3f5f"
            },
            "error_y": {
             "color": "#2a3f5f"
            },
            "marker": {
             "line": {
              "color": "#E5ECF6",
              "width": 0.5
             }
            },
            "type": "bar"
           }
          ],
          "barpolar": [
           {
            "marker": {
             "line": {
              "color": "#E5ECF6",
              "width": 0.5
             }
            },
            "type": "barpolar"
           }
          ],
          "carpet": [
           {
            "aaxis": {
             "endlinecolor": "#2a3f5f",
             "gridcolor": "white",
             "linecolor": "white",
             "minorgridcolor": "white",
             "startlinecolor": "#2a3f5f"
            },
            "baxis": {
             "endlinecolor": "#2a3f5f",
             "gridcolor": "white",
             "linecolor": "white",
             "minorgridcolor": "white",
             "startlinecolor": "#2a3f5f"
            },
            "type": "carpet"
           }
          ],
          "choropleth": [
           {
            "colorbar": {
             "outlinewidth": 0,
             "ticks": ""
            },
            "type": "choropleth"
           }
          ],
          "contour": [
           {
            "colorbar": {
             "outlinewidth": 0,
             "ticks": ""
            },
            "colorscale": [
             [
              0,
              "#0d0887"
             ],
             [
              0.1111111111111111,
              "#46039f"
             ],
             [
              0.2222222222222222,
              "#7201a8"
             ],
             [
              0.3333333333333333,
              "#9c179e"
             ],
             [
              0.4444444444444444,
              "#bd3786"
             ],
             [
              0.5555555555555556,
              "#d8576b"
             ],
             [
              0.6666666666666666,
              "#ed7953"
             ],
             [
              0.7777777777777778,
              "#fb9f3a"
             ],
             [
              0.8888888888888888,
              "#fdca26"
             ],
             [
              1,
              "#f0f921"
             ]
            ],
            "type": "contour"
           }
          ],
          "contourcarpet": [
           {
            "colorbar": {
             "outlinewidth": 0,
             "ticks": ""
            },
            "type": "contourcarpet"
           }
          ],
          "heatmap": [
           {
            "colorbar": {
             "outlinewidth": 0,
             "ticks": ""
            },
            "colorscale": [
             [
              0,
              "#0d0887"
             ],
             [
              0.1111111111111111,
              "#46039f"
             ],
             [
              0.2222222222222222,
              "#7201a8"
             ],
             [
              0.3333333333333333,
              "#9c179e"
             ],
             [
              0.4444444444444444,
              "#bd3786"
             ],
             [
              0.5555555555555556,
              "#d8576b"
             ],
             [
              0.6666666666666666,
              "#ed7953"
             ],
             [
              0.7777777777777778,
              "#fb9f3a"
             ],
             [
              0.8888888888888888,
              "#fdca26"
             ],
             [
              1,
              "#f0f921"
             ]
            ],
            "type": "heatmap"
           }
          ],
          "heatmapgl": [
           {
            "colorbar": {
             "outlinewidth": 0,
             "ticks": ""
            },
            "colorscale": [
             [
              0,
              "#0d0887"
             ],
             [
              0.1111111111111111,
              "#46039f"
             ],
             [
              0.2222222222222222,
              "#7201a8"
             ],
             [
              0.3333333333333333,
              "#9c179e"
             ],
             [
              0.4444444444444444,
              "#bd3786"
             ],
             [
              0.5555555555555556,
              "#d8576b"
             ],
             [
              0.6666666666666666,
              "#ed7953"
             ],
             [
              0.7777777777777778,
              "#fb9f3a"
             ],
             [
              0.8888888888888888,
              "#fdca26"
             ],
             [
              1,
              "#f0f921"
             ]
            ],
            "type": "heatmapgl"
           }
          ],
          "histogram": [
           {
            "marker": {
             "colorbar": {
              "outlinewidth": 0,
              "ticks": ""
             }
            },
            "type": "histogram"
           }
          ],
          "histogram2d": [
           {
            "colorbar": {
             "outlinewidth": 0,
             "ticks": ""
            },
            "colorscale": [
             [
              0,
              "#0d0887"
             ],
             [
              0.1111111111111111,
              "#46039f"
             ],
             [
              0.2222222222222222,
              "#7201a8"
             ],
             [
              0.3333333333333333,
              "#9c179e"
             ],
             [
              0.4444444444444444,
              "#bd3786"
             ],
             [
              0.5555555555555556,
              "#d8576b"
             ],
             [
              0.6666666666666666,
              "#ed7953"
             ],
             [
              0.7777777777777778,
              "#fb9f3a"
             ],
             [
              0.8888888888888888,
              "#fdca26"
             ],
             [
              1,
              "#f0f921"
             ]
            ],
            "type": "histogram2d"
           }
          ],
          "histogram2dcontour": [
           {
            "colorbar": {
             "outlinewidth": 0,
             "ticks": ""
            },
            "colorscale": [
             [
              0,
              "#0d0887"
             ],
             [
              0.1111111111111111,
              "#46039f"
             ],
             [
              0.2222222222222222,
              "#7201a8"
             ],
             [
              0.3333333333333333,
              "#9c179e"
             ],
             [
              0.4444444444444444,
              "#bd3786"
             ],
             [
              0.5555555555555556,
              "#d8576b"
             ],
             [
              0.6666666666666666,
              "#ed7953"
             ],
             [
              0.7777777777777778,
              "#fb9f3a"
             ],
             [
              0.8888888888888888,
              "#fdca26"
             ],
             [
              1,
              "#f0f921"
             ]
            ],
            "type": "histogram2dcontour"
           }
          ],
          "mesh3d": [
           {
            "colorbar": {
             "outlinewidth": 0,
             "ticks": ""
            },
            "type": "mesh3d"
           }
          ],
          "parcoords": [
           {
            "line": {
             "colorbar": {
              "outlinewidth": 0,
              "ticks": ""
             }
            },
            "type": "parcoords"
           }
          ],
          "pie": [
           {
            "automargin": true,
            "type": "pie"
           }
          ],
          "scatter": [
           {
            "marker": {
             "colorbar": {
              "outlinewidth": 0,
              "ticks": ""
             }
            },
            "type": "scatter"
           }
          ],
          "scatter3d": [
           {
            "line": {
             "colorbar": {
              "outlinewidth": 0,
              "ticks": ""
             }
            },
            "marker": {
             "colorbar": {
              "outlinewidth": 0,
              "ticks": ""
             }
            },
            "type": "scatter3d"
           }
          ],
          "scattercarpet": [
           {
            "marker": {
             "colorbar": {
              "outlinewidth": 0,
              "ticks": ""
             }
            },
            "type": "scattercarpet"
           }
          ],
          "scattergeo": [
           {
            "marker": {
             "colorbar": {
              "outlinewidth": 0,
              "ticks": ""
             }
            },
            "type": "scattergeo"
           }
          ],
          "scattergl": [
           {
            "marker": {
             "colorbar": {
              "outlinewidth": 0,
              "ticks": ""
             }
            },
            "type": "scattergl"
           }
          ],
          "scattermapbox": [
           {
            "marker": {
             "colorbar": {
              "outlinewidth": 0,
              "ticks": ""
             }
            },
            "type": "scattermapbox"
           }
          ],
          "scatterpolar": [
           {
            "marker": {
             "colorbar": {
              "outlinewidth": 0,
              "ticks": ""
             }
            },
            "type": "scatterpolar"
           }
          ],
          "scatterpolargl": [
           {
            "marker": {
             "colorbar": {
              "outlinewidth": 0,
              "ticks": ""
             }
            },
            "type": "scatterpolargl"
           }
          ],
          "scatterternary": [
           {
            "marker": {
             "colorbar": {
              "outlinewidth": 0,
              "ticks": ""
             }
            },
            "type": "scatterternary"
           }
          ],
          "surface": [
           {
            "colorbar": {
             "outlinewidth": 0,
             "ticks": ""
            },
            "colorscale": [
             [
              0,
              "#0d0887"
             ],
             [
              0.1111111111111111,
              "#46039f"
             ],
             [
              0.2222222222222222,
              "#7201a8"
             ],
             [
              0.3333333333333333,
              "#9c179e"
             ],
             [
              0.4444444444444444,
              "#bd3786"
             ],
             [
              0.5555555555555556,
              "#d8576b"
             ],
             [
              0.6666666666666666,
              "#ed7953"
             ],
             [
              0.7777777777777778,
              "#fb9f3a"
             ],
             [
              0.8888888888888888,
              "#fdca26"
             ],
             [
              1,
              "#f0f921"
             ]
            ],
            "type": "surface"
           }
          ],
          "table": [
           {
            "cells": {
             "fill": {
              "color": "#EBF0F8"
             },
             "line": {
              "color": "white"
             }
            },
            "header": {
             "fill": {
              "color": "#C8D4E3"
             },
             "line": {
              "color": "white"
             }
            },
            "type": "table"
           }
          ]
         },
         "layout": {
          "annotationdefaults": {
           "arrowcolor": "#2a3f5f",
           "arrowhead": 0,
           "arrowwidth": 1
          },
          "coloraxis": {
           "colorbar": {
            "outlinewidth": 0,
            "ticks": ""
           }
          },
          "colorscale": {
           "diverging": [
            [
             0,
             "#8e0152"
            ],
            [
             0.1,
             "#c51b7d"
            ],
            [
             0.2,
             "#de77ae"
            ],
            [
             0.3,
             "#f1b6da"
            ],
            [
             0.4,
             "#fde0ef"
            ],
            [
             0.5,
             "#f7f7f7"
            ],
            [
             0.6,
             "#e6f5d0"
            ],
            [
             0.7,
             "#b8e186"
            ],
            [
             0.8,
             "#7fbc41"
            ],
            [
             0.9,
             "#4d9221"
            ],
            [
             1,
             "#276419"
            ]
           ],
           "sequential": [
            [
             0,
             "#0d0887"
            ],
            [
             0.1111111111111111,
             "#46039f"
            ],
            [
             0.2222222222222222,
             "#7201a8"
            ],
            [
             0.3333333333333333,
             "#9c179e"
            ],
            [
             0.4444444444444444,
             "#bd3786"
            ],
            [
             0.5555555555555556,
             "#d8576b"
            ],
            [
             0.6666666666666666,
             "#ed7953"
            ],
            [
             0.7777777777777778,
             "#fb9f3a"
            ],
            [
             0.8888888888888888,
             "#fdca26"
            ],
            [
             1,
             "#f0f921"
            ]
           ],
           "sequentialminus": [
            [
             0,
             "#0d0887"
            ],
            [
             0.1111111111111111,
             "#46039f"
            ],
            [
             0.2222222222222222,
             "#7201a8"
            ],
            [
             0.3333333333333333,
             "#9c179e"
            ],
            [
             0.4444444444444444,
             "#bd3786"
            ],
            [
             0.5555555555555556,
             "#d8576b"
            ],
            [
             0.6666666666666666,
             "#ed7953"
            ],
            [
             0.7777777777777778,
             "#fb9f3a"
            ],
            [
             0.8888888888888888,
             "#fdca26"
            ],
            [
             1,
             "#f0f921"
            ]
           ]
          },
          "colorway": [
           "#636efa",
           "#EF553B",
           "#00cc96",
           "#ab63fa",
           "#FFA15A",
           "#19d3f3",
           "#FF6692",
           "#B6E880",
           "#FF97FF",
           "#FECB52"
          ],
          "font": {
           "color": "#2a3f5f"
          },
          "geo": {
           "bgcolor": "white",
           "lakecolor": "white",
           "landcolor": "#E5ECF6",
           "showlakes": true,
           "showland": true,
           "subunitcolor": "white"
          },
          "hoverlabel": {
           "align": "left"
          },
          "hovermode": "closest",
          "mapbox": {
           "style": "light"
          },
          "paper_bgcolor": "white",
          "plot_bgcolor": "#E5ECF6",
          "polar": {
           "angularaxis": {
            "gridcolor": "white",
            "linecolor": "white",
            "ticks": ""
           },
           "bgcolor": "#E5ECF6",
           "radialaxis": {
            "gridcolor": "white",
            "linecolor": "white",
            "ticks": ""
           }
          },
          "scene": {
           "xaxis": {
            "backgroundcolor": "#E5ECF6",
            "gridcolor": "white",
            "gridwidth": 2,
            "linecolor": "white",
            "showbackground": true,
            "ticks": "",
            "zerolinecolor": "white"
           },
           "yaxis": {
            "backgroundcolor": "#E5ECF6",
            "gridcolor": "white",
            "gridwidth": 2,
            "linecolor": "white",
            "showbackground": true,
            "ticks": "",
            "zerolinecolor": "white"
           },
           "zaxis": {
            "backgroundcolor": "#E5ECF6",
            "gridcolor": "white",
            "gridwidth": 2,
            "linecolor": "white",
            "showbackground": true,
            "ticks": "",
            "zerolinecolor": "white"
           }
          },
          "shapedefaults": {
           "line": {
            "color": "#2a3f5f"
           }
          },
          "ternary": {
           "aaxis": {
            "gridcolor": "white",
            "linecolor": "white",
            "ticks": ""
           },
           "baxis": {
            "gridcolor": "white",
            "linecolor": "white",
            "ticks": ""
           },
           "bgcolor": "#E5ECF6",
           "caxis": {
            "gridcolor": "white",
            "linecolor": "white",
            "ticks": ""
           }
          },
          "title": {
           "x": 0.05
          },
          "xaxis": {
           "automargin": true,
           "gridcolor": "white",
           "linecolor": "white",
           "ticks": "",
           "title": {
            "standoff": 15
           },
           "zerolinecolor": "white",
           "zerolinewidth": 2
          },
          "yaxis": {
           "automargin": true,
           "gridcolor": "white",
           "linecolor": "white",
           "ticks": "",
           "title": {
            "standoff": 15
           },
           "zerolinecolor": "white",
           "zerolinewidth": 2
          }
         }
        },
        "title": {
         "font": {
          "color": "#4D5663"
         },
         "text": "ILC for year 2019"
        },
        "xaxis": {
         "gridcolor": "#E1E5ED",
         "showgrid": true,
         "tickfont": {
          "color": "#4D5663"
         },
         "title": {
          "font": {
           "color": "#4D5663"
          },
          "text": "Week"
         },
         "zerolinecolor": "#E1E5ED"
        },
        "yaxis": {
         "gridcolor": "#E1E5ED",
         "showgrid": true,
         "tickfont": {
          "color": "#4D5663"
         },
         "title": {
          "font": {
           "color": "#4D5663"
          },
          "text": "Efforts in hours"
         },
         "zerolinecolor": "#E1E5ED"
        }
       }
      },
      "text/html": [
       "<div>\n",
       "        \n",
       "        \n",
       "            <div id=\"15d2f917-b8fc-46d7-a52a-3b4bbedf7e30\" class=\"plotly-graph-div\" style=\"height:525px; width:100%;\"></div>\n",
       "            <script type=\"text/javascript\">\n",
       "                require([\"plotly\"], function(Plotly) {\n",
       "                    window.PLOTLYENV=window.PLOTLYENV || {};\n",
       "                    window.PLOTLYENV.BASE_URL='https://plot.ly';\n",
       "                    \n",
       "                if (document.getElementById(\"15d2f917-b8fc-46d7-a52a-3b4bbedf7e30\")) {\n",
       "                    Plotly.newPlot(\n",
       "                        '15d2f917-b8fc-46d7-a52a-3b4bbedf7e30',\n",
       "                        [{\"line\": {\"color\": \"rgba(255, 153, 51, 1.0)\", \"dash\": \"solid\", \"shape\": \"linear\", \"width\": 1.3}, \"mode\": \"lines\", \"name\": \"Actual\", \"text\": \"\", \"type\": \"scatter\", \"x\": [\"2019-01-04\", \"2019-01-11\", \"2019-01-18\", \"2019-01-25\", \"2019-02-01\", \"2019-02-08\", \"2019-02-15\", \"2019-02-22\", \"2019-03-01\", \"2019-03-08\", \"2019-03-15\", \"2019-03-22\", \"2019-03-29\", \"2019-04-05\", \"2019-04-12\", \"2019-04-19\", \"2019-04-26\", \"2019-05-03\", \"2019-05-10\", \"2019-05-17\", \"2019-05-24\", \"2019-05-31\", \"2019-06-07\", \"2019-06-14\", \"2019-06-21\", \"2019-06-28\", \"2019-07-05\", \"2019-07-12\", \"2019-07-19\", \"2019-07-26\", \"2019-08-02\", \"2019-08-09\", \"2019-08-16\", \"2019-08-23\", \"2019-08-30\", \"2019-09-06\", \"2019-09-13\", \"2019-09-20\", \"2019-09-27\", \"2019-10-04\", \"2019-10-11\", \"2019-10-18\", \"2019-10-25\", \"2019-11-01\", \"2019-11-08\", \"2019-11-15\", \"2019-11-22\", \"2019-11-29\", \"2019-12-06\", \"2019-12-13\", \"2019-12-20\", \"2019-12-27\"], \"y\": [40.42465753424658, 44.16438356164384, 41.91666666666666, 39.36111111111111, 42.64383561643836, 43.58333333333334, 42.63513513513514, 42.7027027027027, 43.78666666666667, 44.05128205128205, 44.86875, 37.17307692307692, 42.225, 43.9240506329114, 44.20625, 40.66666666666666, 43.36538461538461, 36.43835616438356, 42.89285714285715, 44.42142857142857, 42.78169014084507, 42.22857142857143, 34.27142857142857, 41.54929577464789, 41.34027777777778, 43.05479452054794, 43.42857142857143, 43.71014492753623, 43.68055555555556, 43.1875, 43.24285714285714, 43.4, 34.33823529411764, 42.80555555555556, 43.16901408450704, 41.77397260273973, 43.73972602739726, 44.25675675675676, 43.80821917808219, 34.56338028169014, 28.89705882352941, 42.75342465753425, 42.8961038961039, 32.51388888888889, 43.85333333333333, 44.22727272727273, 42.31481481481482, 42.17283950617284, 41.55625, 42.81481481481482, 42.5925925925926, 34.32911392405063]}, {\"line\": {\"color\": \"rgba(55, 128, 191, 1.0)\", \"dash\": \"solid\", \"shape\": \"linear\", \"width\": 1.3}, \"mode\": \"lines\", \"name\": \"Mean Predictions\", \"text\": \"\", \"type\": \"scatter\", \"x\": [\"2019-01-04\", \"2019-01-11\", \"2019-01-18\", \"2019-01-25\", \"2019-02-01\", \"2019-02-08\", \"2019-02-15\", \"2019-02-22\", \"2019-03-01\", \"2019-03-08\", \"2019-03-15\", \"2019-03-22\", \"2019-03-29\", \"2019-04-05\", \"2019-04-12\", \"2019-04-19\", \"2019-04-26\", \"2019-05-03\", \"2019-05-10\", \"2019-05-17\", \"2019-05-24\", \"2019-05-31\", \"2019-06-07\", \"2019-06-14\", \"2019-06-21\", \"2019-06-28\", \"2019-07-05\", \"2019-07-12\", \"2019-07-19\", \"2019-07-26\", \"2019-08-02\", \"2019-08-09\", \"2019-08-16\", \"2019-08-23\", \"2019-08-30\", \"2019-09-06\", \"2019-09-13\", \"2019-09-20\", \"2019-09-27\", \"2019-10-04\", \"2019-10-11\", \"2019-10-18\", \"2019-10-25\", \"2019-11-01\", \"2019-11-08\", \"2019-11-15\", \"2019-11-22\", \"2019-11-29\", \"2019-12-06\", \"2019-12-13\", \"2019-12-20\", \"2019-12-27\"], \"y\": [42.73597499808619, 41.63042243125783, 41.2876136268317, 37.65266438693972, 42.95269412251196, 42.58542496484273, 43.61816652118401, 42.81419167008494, 43.15961416565271, 43.14047543621317, 42.915021567773756, 37.61125370322516, 42.390439581320216, 42.684825143129764, 43.50156682116061, 44.16732129783125, 41.93268168296437, 34.97482655997386, 43.60160702904971, 42.87419116711919, 43.726434489379564, 43.15624662607045, 34.90984405180782, 42.855110495127605, 41.880856745024275, 42.52941609023459, 43.23330145274164, 43.1974383334579, 42.65807828245452, 43.12289322274877, 43.09777405633587, 43.07116205833271, 35.26485947074182, 42.75412009826454, 42.745407540445335, 40.763331483504075, 42.21300308007762, 43.120785498453714, 43.56828806859061, 35.46799990203645, 28.690552008239674, 42.97625906748141, 43.03688629327521, 33.10333299796254, 42.89810018822977, 43.102257269942875, 43.149001561799544, 42.75135426266493, 42.08640201666142, 42.76924304535404, 43.21523177227843, 34.99073755175061]}],\n",
       "                        {\"legend\": {\"bgcolor\": \"#F5F6F9\", \"font\": {\"color\": \"#4D5663\"}}, \"paper_bgcolor\": \"#F5F6F9\", \"plot_bgcolor\": \"#F5F6F9\", \"template\": {\"data\": {\"bar\": [{\"error_x\": {\"color\": \"#2a3f5f\"}, \"error_y\": {\"color\": \"#2a3f5f\"}, \"marker\": {\"line\": {\"color\": \"#E5ECF6\", \"width\": 0.5}}, \"type\": \"bar\"}], \"barpolar\": [{\"marker\": {\"line\": {\"color\": \"#E5ECF6\", \"width\": 0.5}}, \"type\": \"barpolar\"}], \"carpet\": [{\"aaxis\": {\"endlinecolor\": \"#2a3f5f\", \"gridcolor\": \"white\", \"linecolor\": \"white\", \"minorgridcolor\": \"white\", \"startlinecolor\": \"#2a3f5f\"}, \"baxis\": {\"endlinecolor\": \"#2a3f5f\", \"gridcolor\": \"white\", \"linecolor\": \"white\", \"minorgridcolor\": \"white\", \"startlinecolor\": \"#2a3f5f\"}, \"type\": \"carpet\"}], \"choropleth\": [{\"colorbar\": {\"outlinewidth\": 0, \"ticks\": \"\"}, \"type\": \"choropleth\"}], \"contour\": [{\"colorbar\": {\"outlinewidth\": 0, \"ticks\": \"\"}, \"colorscale\": [[0.0, \"#0d0887\"], [0.1111111111111111, \"#46039f\"], [0.2222222222222222, \"#7201a8\"], [0.3333333333333333, \"#9c179e\"], [0.4444444444444444, \"#bd3786\"], [0.5555555555555556, \"#d8576b\"], [0.6666666666666666, \"#ed7953\"], [0.7777777777777778, \"#fb9f3a\"], [0.8888888888888888, \"#fdca26\"], [1.0, \"#f0f921\"]], \"type\": \"contour\"}], \"contourcarpet\": [{\"colorbar\": {\"outlinewidth\": 0, \"ticks\": \"\"}, \"type\": \"contourcarpet\"}], \"heatmap\": [{\"colorbar\": {\"outlinewidth\": 0, \"ticks\": \"\"}, \"colorscale\": [[0.0, \"#0d0887\"], [0.1111111111111111, \"#46039f\"], [0.2222222222222222, \"#7201a8\"], [0.3333333333333333, \"#9c179e\"], [0.4444444444444444, \"#bd3786\"], [0.5555555555555556, \"#d8576b\"], [0.6666666666666666, \"#ed7953\"], [0.7777777777777778, \"#fb9f3a\"], [0.8888888888888888, \"#fdca26\"], [1.0, \"#f0f921\"]], \"type\": \"heatmap\"}], \"heatmapgl\": [{\"colorbar\": {\"outlinewidth\": 0, \"ticks\": \"\"}, \"colorscale\": [[0.0, \"#0d0887\"], [0.1111111111111111, \"#46039f\"], [0.2222222222222222, \"#7201a8\"], [0.3333333333333333, \"#9c179e\"], [0.4444444444444444, \"#bd3786\"], [0.5555555555555556, \"#d8576b\"], [0.6666666666666666, \"#ed7953\"], [0.7777777777777778, \"#fb9f3a\"], [0.8888888888888888, \"#fdca26\"], [1.0, \"#f0f921\"]], \"type\": \"heatmapgl\"}], \"histogram\": [{\"marker\": {\"colorbar\": {\"outlinewidth\": 0, \"ticks\": \"\"}}, \"type\": \"histogram\"}], \"histogram2d\": [{\"colorbar\": {\"outlinewidth\": 0, \"ticks\": \"\"}, \"colorscale\": [[0.0, \"#0d0887\"], [0.1111111111111111, \"#46039f\"], [0.2222222222222222, \"#7201a8\"], [0.3333333333333333, \"#9c179e\"], [0.4444444444444444, \"#bd3786\"], [0.5555555555555556, \"#d8576b\"], [0.6666666666666666, \"#ed7953\"], [0.7777777777777778, \"#fb9f3a\"], [0.8888888888888888, \"#fdca26\"], [1.0, \"#f0f921\"]], \"type\": \"histogram2d\"}], \"histogram2dcontour\": [{\"colorbar\": {\"outlinewidth\": 0, \"ticks\": \"\"}, \"colorscale\": [[0.0, \"#0d0887\"], [0.1111111111111111, \"#46039f\"], [0.2222222222222222, \"#7201a8\"], [0.3333333333333333, \"#9c179e\"], [0.4444444444444444, \"#bd3786\"], [0.5555555555555556, \"#d8576b\"], [0.6666666666666666, \"#ed7953\"], [0.7777777777777778, \"#fb9f3a\"], [0.8888888888888888, \"#fdca26\"], [1.0, \"#f0f921\"]], \"type\": \"histogram2dcontour\"}], \"mesh3d\": [{\"colorbar\": {\"outlinewidth\": 0, \"ticks\": \"\"}, \"type\": \"mesh3d\"}], \"parcoords\": [{\"line\": {\"colorbar\": {\"outlinewidth\": 0, \"ticks\": \"\"}}, \"type\": \"parcoords\"}], \"pie\": [{\"automargin\": true, \"type\": \"pie\"}], \"scatter\": [{\"marker\": {\"colorbar\": {\"outlinewidth\": 0, \"ticks\": \"\"}}, \"type\": \"scatter\"}], \"scatter3d\": [{\"line\": {\"colorbar\": {\"outlinewidth\": 0, \"ticks\": \"\"}}, \"marker\": {\"colorbar\": {\"outlinewidth\": 0, \"ticks\": \"\"}}, \"type\": \"scatter3d\"}], \"scattercarpet\": [{\"marker\": {\"colorbar\": {\"outlinewidth\": 0, \"ticks\": \"\"}}, \"type\": \"scattercarpet\"}], \"scattergeo\": [{\"marker\": {\"colorbar\": {\"outlinewidth\": 0, \"ticks\": \"\"}}, \"type\": \"scattergeo\"}], \"scattergl\": [{\"marker\": {\"colorbar\": {\"outlinewidth\": 0, \"ticks\": \"\"}}, \"type\": \"scattergl\"}], \"scattermapbox\": [{\"marker\": {\"colorbar\": {\"outlinewidth\": 0, \"ticks\": \"\"}}, \"type\": \"scattermapbox\"}], \"scatterpolar\": [{\"marker\": {\"colorbar\": {\"outlinewidth\": 0, \"ticks\": \"\"}}, \"type\": \"scatterpolar\"}], \"scatterpolargl\": [{\"marker\": {\"colorbar\": {\"outlinewidth\": 0, \"ticks\": \"\"}}, \"type\": \"scatterpolargl\"}], \"scatterternary\": [{\"marker\": {\"colorbar\": {\"outlinewidth\": 0, \"ticks\": \"\"}}, \"type\": \"scatterternary\"}], \"surface\": [{\"colorbar\": {\"outlinewidth\": 0, \"ticks\": \"\"}, \"colorscale\": [[0.0, \"#0d0887\"], [0.1111111111111111, \"#46039f\"], [0.2222222222222222, \"#7201a8\"], [0.3333333333333333, \"#9c179e\"], [0.4444444444444444, \"#bd3786\"], [0.5555555555555556, \"#d8576b\"], [0.6666666666666666, \"#ed7953\"], [0.7777777777777778, \"#fb9f3a\"], [0.8888888888888888, \"#fdca26\"], [1.0, \"#f0f921\"]], \"type\": \"surface\"}], \"table\": [{\"cells\": {\"fill\": {\"color\": \"#EBF0F8\"}, \"line\": {\"color\": \"white\"}}, \"header\": {\"fill\": {\"color\": \"#C8D4E3\"}, \"line\": {\"color\": \"white\"}}, \"type\": \"table\"}]}, \"layout\": {\"annotationdefaults\": {\"arrowcolor\": \"#2a3f5f\", \"arrowhead\": 0, \"arrowwidth\": 1}, \"coloraxis\": {\"colorbar\": {\"outlinewidth\": 0, \"ticks\": \"\"}}, \"colorscale\": {\"diverging\": [[0, \"#8e0152\"], [0.1, \"#c51b7d\"], [0.2, \"#de77ae\"], [0.3, \"#f1b6da\"], [0.4, \"#fde0ef\"], [0.5, \"#f7f7f7\"], [0.6, \"#e6f5d0\"], [0.7, \"#b8e186\"], [0.8, \"#7fbc41\"], [0.9, \"#4d9221\"], [1, \"#276419\"]], \"sequential\": [[0.0, \"#0d0887\"], [0.1111111111111111, \"#46039f\"], [0.2222222222222222, \"#7201a8\"], [0.3333333333333333, \"#9c179e\"], [0.4444444444444444, \"#bd3786\"], [0.5555555555555556, \"#d8576b\"], [0.6666666666666666, \"#ed7953\"], [0.7777777777777778, \"#fb9f3a\"], [0.8888888888888888, \"#fdca26\"], [1.0, \"#f0f921\"]], \"sequentialminus\": [[0.0, \"#0d0887\"], [0.1111111111111111, \"#46039f\"], [0.2222222222222222, \"#7201a8\"], [0.3333333333333333, \"#9c179e\"], [0.4444444444444444, \"#bd3786\"], [0.5555555555555556, \"#d8576b\"], [0.6666666666666666, \"#ed7953\"], [0.7777777777777778, \"#fb9f3a\"], [0.8888888888888888, \"#fdca26\"], [1.0, \"#f0f921\"]]}, \"colorway\": [\"#636efa\", \"#EF553B\", \"#00cc96\", \"#ab63fa\", \"#FFA15A\", \"#19d3f3\", \"#FF6692\", \"#B6E880\", \"#FF97FF\", \"#FECB52\"], \"font\": {\"color\": \"#2a3f5f\"}, \"geo\": {\"bgcolor\": \"white\", \"lakecolor\": \"white\", \"landcolor\": \"#E5ECF6\", \"showlakes\": true, \"showland\": true, \"subunitcolor\": \"white\"}, \"hoverlabel\": {\"align\": \"left\"}, \"hovermode\": \"closest\", \"mapbox\": {\"style\": \"light\"}, \"paper_bgcolor\": \"white\", \"plot_bgcolor\": \"#E5ECF6\", \"polar\": {\"angularaxis\": {\"gridcolor\": \"white\", \"linecolor\": \"white\", \"ticks\": \"\"}, \"bgcolor\": \"#E5ECF6\", \"radialaxis\": {\"gridcolor\": \"white\", \"linecolor\": \"white\", \"ticks\": \"\"}}, \"scene\": {\"xaxis\": {\"backgroundcolor\": \"#E5ECF6\", \"gridcolor\": \"white\", \"gridwidth\": 2, \"linecolor\": \"white\", \"showbackground\": true, \"ticks\": \"\", \"zerolinecolor\": \"white\"}, \"yaxis\": {\"backgroundcolor\": \"#E5ECF6\", \"gridcolor\": \"white\", \"gridwidth\": 2, \"linecolor\": \"white\", \"showbackground\": true, \"ticks\": \"\", \"zerolinecolor\": \"white\"}, \"zaxis\": {\"backgroundcolor\": \"#E5ECF6\", \"gridcolor\": \"white\", \"gridwidth\": 2, \"linecolor\": \"white\", \"showbackground\": true, \"ticks\": \"\", \"zerolinecolor\": \"white\"}}, \"shapedefaults\": {\"line\": {\"color\": \"#2a3f5f\"}}, \"ternary\": {\"aaxis\": {\"gridcolor\": \"white\", \"linecolor\": \"white\", \"ticks\": \"\"}, \"baxis\": {\"gridcolor\": \"white\", \"linecolor\": \"white\", \"ticks\": \"\"}, \"bgcolor\": \"#E5ECF6\", \"caxis\": {\"gridcolor\": \"white\", \"linecolor\": \"white\", \"ticks\": \"\"}}, \"title\": {\"x\": 0.05}, \"xaxis\": {\"automargin\": true, \"gridcolor\": \"white\", \"linecolor\": \"white\", \"ticks\": \"\", \"title\": {\"standoff\": 15}, \"zerolinecolor\": \"white\", \"zerolinewidth\": 2}, \"yaxis\": {\"automargin\": true, \"gridcolor\": \"white\", \"linecolor\": \"white\", \"ticks\": \"\", \"title\": {\"standoff\": 15}, \"zerolinecolor\": \"white\", \"zerolinewidth\": 2}}}, \"title\": {\"font\": {\"color\": \"#4D5663\"}, \"text\": \"ILC for year 2019\"}, \"xaxis\": {\"gridcolor\": \"#E1E5ED\", \"showgrid\": true, \"tickfont\": {\"color\": \"#4D5663\"}, \"title\": {\"font\": {\"color\": \"#4D5663\"}, \"text\": \"Week\"}, \"zerolinecolor\": \"#E1E5ED\"}, \"yaxis\": {\"gridcolor\": \"#E1E5ED\", \"showgrid\": true, \"tickfont\": {\"color\": \"#4D5663\"}, \"title\": {\"font\": {\"color\": \"#4D5663\"}, \"text\": \"Efforts in hours\"}, \"zerolinecolor\": \"#E1E5ED\"}},\n",
       "                        {\"showLink\": true, \"linkText\": \"Export to plot.ly\", \"plotlyServerURL\": \"https://plot.ly\", \"responsive\": true}\n",
       "                    ).then(function(){\n",
       "                            \n",
       "var gd = document.getElementById('15d2f917-b8fc-46d7-a52a-3b4bbedf7e30');\n",
       "var x = new MutationObserver(function (mutations, observer) {{\n",
       "        var display = window.getComputedStyle(gd).display;\n",
       "        if (!display || display === 'none') {{\n",
       "            console.log([gd, 'removed!']);\n",
       "            Plotly.purge(gd);\n",
       "            observer.disconnect();\n",
       "        }}\n",
       "}});\n",
       "\n",
       "// Listen for the removal of the full notebook cells\n",
       "var notebookContainer = gd.closest('#notebook-container');\n",
       "if (notebookContainer) {{\n",
       "    x.observe(notebookContainer, {childList: true});\n",
       "}}\n",
       "\n",
       "// Listen for the clearing of the current output cell\n",
       "var outputEl = gd.closest('.output');\n",
       "if (outputEl) {{\n",
       "    x.observe(outputEl, {childList: true});\n",
       "}}\n",
       "\n",
       "                        })\n",
       "                };\n",
       "                });\n",
       "            </script>\n",
       "        </div>"
      ]
     },
     "metadata": {},
     "output_type": "display_data"
    }
   ],
   "source": [
    "# lets plot the actual vs predicted data for the entire year 2019\n",
    "\n",
    "df_ilc_2019[['Actual','Mean Predictions']].iplot(title='ILC for year 2019',xTitle='Week',yTitle='Efforts in hours')"
   ]
  },
  {
   "cell_type": "code",
   "execution_count": 23,
   "metadata": {},
   "outputs": [],
   "source": [
    "# start with the predictions for current year 2020\n",
    "# first we will try with in-sample data\n",
    "pred_2020 = results.get_prediction(start=first_index_cur_year,end=df_actuals_last_index)\n",
    "pred_ci = pred_2020.conf_int()"
   ]
  },
  {
   "cell_type": "code",
   "execution_count": 24,
   "metadata": {},
   "outputs": [
    {
     "data": {
      "text/html": [
       "<div>\n",
       "<style scoped>\n",
       "    .dataframe tbody tr th:only-of-type {\n",
       "        vertical-align: middle;\n",
       "    }\n",
       "\n",
       "    .dataframe tbody tr th {\n",
       "        vertical-align: top;\n",
       "    }\n",
       "\n",
       "    .dataframe thead th {\n",
       "        text-align: right;\n",
       "    }\n",
       "</style>\n",
       "<table border=\"1\" class=\"dataframe\">\n",
       "  <thead>\n",
       "    <tr style=\"text-align: right;\">\n",
       "      <th></th>\n",
       "      <th>lower Mean hours</th>\n",
       "      <th>upper Mean hours</th>\n",
       "    </tr>\n",
       "  </thead>\n",
       "  <tbody>\n",
       "    <tr>\n",
       "      <th>2020-01-03</th>\n",
       "      <td>40.058139</td>\n",
       "      <td>44.872894</td>\n",
       "    </tr>\n",
       "    <tr>\n",
       "      <th>2020-01-10</th>\n",
       "      <td>39.941758</td>\n",
       "      <td>44.754755</td>\n",
       "    </tr>\n",
       "    <tr>\n",
       "      <th>2020-01-17</th>\n",
       "      <td>38.800358</td>\n",
       "      <td>43.611688</td>\n",
       "    </tr>\n",
       "    <tr>\n",
       "      <th>2020-01-24</th>\n",
       "      <td>34.084048</td>\n",
       "      <td>38.893796</td>\n",
       "    </tr>\n",
       "    <tr>\n",
       "      <th>2020-01-31</th>\n",
       "      <td>40.639392</td>\n",
       "      <td>45.432410</td>\n",
       "    </tr>\n",
       "    <tr>\n",
       "      <th>2020-02-07</th>\n",
       "      <td>40.432000</td>\n",
       "      <td>45.222817</td>\n",
       "    </tr>\n",
       "    <tr>\n",
       "      <th>2020-02-14</th>\n",
       "      <td>40.438537</td>\n",
       "      <td>45.227282</td>\n",
       "    </tr>\n",
       "    <tr>\n",
       "      <th>2020-02-21</th>\n",
       "      <td>40.099867</td>\n",
       "      <td>44.886656</td>\n",
       "    </tr>\n",
       "    <tr>\n",
       "      <th>2020-02-28</th>\n",
       "      <td>39.853387</td>\n",
       "      <td>44.638329</td>\n",
       "    </tr>\n",
       "    <tr>\n",
       "      <th>2020-03-06</th>\n",
       "      <td>40.825188</td>\n",
       "      <td>45.608383</td>\n",
       "    </tr>\n",
       "    <tr>\n",
       "      <th>2020-03-13</th>\n",
       "      <td>34.846118</td>\n",
       "      <td>39.627656</td>\n",
       "    </tr>\n",
       "    <tr>\n",
       "      <th>2020-03-20</th>\n",
       "      <td>40.327490</td>\n",
       "      <td>45.107455</td>\n",
       "    </tr>\n",
       "    <tr>\n",
       "      <th>2020-03-27</th>\n",
       "      <td>37.982653</td>\n",
       "      <td>42.761125</td>\n",
       "    </tr>\n",
       "    <tr>\n",
       "      <th>2020-04-03</th>\n",
       "      <td>40.793880</td>\n",
       "      <td>45.570930</td>\n",
       "    </tr>\n",
       "    <tr>\n",
       "      <th>2020-04-10</th>\n",
       "      <td>32.364651</td>\n",
       "      <td>37.140347</td>\n",
       "    </tr>\n",
       "    <tr>\n",
       "      <th>2020-04-17</th>\n",
       "      <td>41.131407</td>\n",
       "      <td>45.905811</td>\n",
       "    </tr>\n",
       "    <tr>\n",
       "      <th>2020-04-24</th>\n",
       "      <td>40.753672</td>\n",
       "      <td>45.514630</td>\n",
       "    </tr>\n",
       "    <tr>\n",
       "      <th>2020-05-01</th>\n",
       "      <td>32.878918</td>\n",
       "      <td>37.638137</td>\n",
       "    </tr>\n",
       "    <tr>\n",
       "      <th>2020-05-08</th>\n",
       "      <td>40.743609</td>\n",
       "      <td>45.501179</td>\n",
       "    </tr>\n",
       "    <tr>\n",
       "      <th>2020-05-15</th>\n",
       "      <td>40.517009</td>\n",
       "      <td>45.273015</td>\n",
       "    </tr>\n",
       "    <tr>\n",
       "      <th>2020-05-22</th>\n",
       "      <td>40.198954</td>\n",
       "      <td>44.953474</td>\n",
       "    </tr>\n",
       "    <tr>\n",
       "      <th>2020-05-29</th>\n",
       "      <td>31.482620</td>\n",
       "      <td>36.235725</td>\n",
       "    </tr>\n",
       "    <tr>\n",
       "      <th>2020-06-05</th>\n",
       "      <td>40.092598</td>\n",
       "      <td>44.844355</td>\n",
       "    </tr>\n",
       "    <tr>\n",
       "      <th>2020-06-12</th>\n",
       "      <td>40.317373</td>\n",
       "      <td>45.067846</td>\n",
       "    </tr>\n",
       "    <tr>\n",
       "      <th>2020-06-19</th>\n",
       "      <td>40.013972</td>\n",
       "      <td>44.763218</td>\n",
       "    </tr>\n",
       "    <tr>\n",
       "      <th>2020-06-26</th>\n",
       "      <td>40.678692</td>\n",
       "      <td>45.426764</td>\n",
       "    </tr>\n",
       "    <tr>\n",
       "      <th>2020-07-03</th>\n",
       "      <td>40.581454</td>\n",
       "      <td>45.328405</td>\n",
       "    </tr>\n",
       "    <tr>\n",
       "      <th>2020-07-10</th>\n",
       "      <td>40.490919</td>\n",
       "      <td>45.236795</td>\n",
       "    </tr>\n",
       "    <tr>\n",
       "      <th>2020-07-17</th>\n",
       "      <td>40.464417</td>\n",
       "      <td>45.199249</td>\n",
       "    </tr>\n",
       "    <tr>\n",
       "      <th>2020-07-24</th>\n",
       "      <td>40.806696</td>\n",
       "      <td>45.540120</td>\n",
       "    </tr>\n",
       "    <tr>\n",
       "      <th>2020-07-31</th>\n",
       "      <td>40.302092</td>\n",
       "      <td>45.034174</td>\n",
       "    </tr>\n",
       "  </tbody>\n",
       "</table>\n",
       "</div>"
      ],
      "text/plain": [
       "            lower Mean hours  upper Mean hours\n",
       "2020-01-03         40.058139         44.872894\n",
       "2020-01-10         39.941758         44.754755\n",
       "2020-01-17         38.800358         43.611688\n",
       "2020-01-24         34.084048         38.893796\n",
       "2020-01-31         40.639392         45.432410\n",
       "2020-02-07         40.432000         45.222817\n",
       "2020-02-14         40.438537         45.227282\n",
       "2020-02-21         40.099867         44.886656\n",
       "2020-02-28         39.853387         44.638329\n",
       "2020-03-06         40.825188         45.608383\n",
       "2020-03-13         34.846118         39.627656\n",
       "2020-03-20         40.327490         45.107455\n",
       "2020-03-27         37.982653         42.761125\n",
       "2020-04-03         40.793880         45.570930\n",
       "2020-04-10         32.364651         37.140347\n",
       "2020-04-17         41.131407         45.905811\n",
       "2020-04-24         40.753672         45.514630\n",
       "2020-05-01         32.878918         37.638137\n",
       "2020-05-08         40.743609         45.501179\n",
       "2020-05-15         40.517009         45.273015\n",
       "2020-05-22         40.198954         44.953474\n",
       "2020-05-29         31.482620         36.235725\n",
       "2020-06-05         40.092598         44.844355\n",
       "2020-06-12         40.317373         45.067846\n",
       "2020-06-19         40.013972         44.763218\n",
       "2020-06-26         40.678692         45.426764\n",
       "2020-07-03         40.581454         45.328405\n",
       "2020-07-10         40.490919         45.236795\n",
       "2020-07-17         40.464417         45.199249\n",
       "2020-07-24         40.806696         45.540120\n",
       "2020-07-31         40.302092         45.034174"
      ]
     },
     "execution_count": 24,
     "metadata": {},
     "output_type": "execute_result"
    }
   ],
   "source": [
    "pred_ci"
   ]
  },
  {
   "cell_type": "code",
   "execution_count": 25,
   "metadata": {},
   "outputs": [
    {
     "data": {
      "text/html": [
       "<div>\n",
       "<style scoped>\n",
       "    .dataframe tbody tr th:only-of-type {\n",
       "        vertical-align: middle;\n",
       "    }\n",
       "\n",
       "    .dataframe tbody tr th {\n",
       "        vertical-align: top;\n",
       "    }\n",
       "\n",
       "    .dataframe thead th {\n",
       "        text-align: right;\n",
       "    }\n",
       "</style>\n",
       "<table border=\"1\" class=\"dataframe\">\n",
       "  <thead>\n",
       "    <tr style=\"text-align: right;\">\n",
       "      <th></th>\n",
       "      <th>Actual</th>\n",
       "      <th>Mean predictions</th>\n",
       "      <th>Lower Predicted Hours</th>\n",
       "      <th>Upper Predicted Hours</th>\n",
       "    </tr>\n",
       "    <tr>\n",
       "      <th>Weekending Date</th>\n",
       "      <th></th>\n",
       "      <th></th>\n",
       "      <th></th>\n",
       "      <th></th>\n",
       "    </tr>\n",
       "  </thead>\n",
       "  <tbody>\n",
       "    <tr>\n",
       "      <th>2020-01-03</th>\n",
       "      <td>40.625000</td>\n",
       "      <td>42.465517</td>\n",
       "      <td>40.058139</td>\n",
       "      <td>44.872894</td>\n",
       "    </tr>\n",
       "    <tr>\n",
       "      <th>2020-01-10</th>\n",
       "      <td>44.304878</td>\n",
       "      <td>42.348257</td>\n",
       "      <td>39.941758</td>\n",
       "      <td>44.754755</td>\n",
       "    </tr>\n",
       "    <tr>\n",
       "      <th>2020-01-17</th>\n",
       "      <td>39.111111</td>\n",
       "      <td>41.206023</td>\n",
       "      <td>38.800358</td>\n",
       "      <td>43.611688</td>\n",
       "    </tr>\n",
       "    <tr>\n",
       "      <th>2020-01-24</th>\n",
       "      <td>37.395062</td>\n",
       "      <td>36.488922</td>\n",
       "      <td>34.084048</td>\n",
       "      <td>38.893796</td>\n",
       "    </tr>\n",
       "    <tr>\n",
       "      <th>2020-01-31</th>\n",
       "      <td>42.712500</td>\n",
       "      <td>43.035901</td>\n",
       "      <td>40.639392</td>\n",
       "      <td>45.432410</td>\n",
       "    </tr>\n",
       "    <tr>\n",
       "      <th>2020-02-07</th>\n",
       "      <td>44.000000</td>\n",
       "      <td>42.827409</td>\n",
       "      <td>40.432000</td>\n",
       "      <td>45.222817</td>\n",
       "    </tr>\n",
       "    <tr>\n",
       "      <th>2020-02-14</th>\n",
       "      <td>42.209877</td>\n",
       "      <td>42.832909</td>\n",
       "      <td>40.438537</td>\n",
       "      <td>45.227282</td>\n",
       "    </tr>\n",
       "    <tr>\n",
       "      <th>2020-02-21</th>\n",
       "      <td>43.925000</td>\n",
       "      <td>42.493262</td>\n",
       "      <td>40.099867</td>\n",
       "      <td>44.886656</td>\n",
       "    </tr>\n",
       "    <tr>\n",
       "      <th>2020-02-28</th>\n",
       "      <td>44.135802</td>\n",
       "      <td>42.245858</td>\n",
       "      <td>39.853387</td>\n",
       "      <td>44.638329</td>\n",
       "    </tr>\n",
       "    <tr>\n",
       "      <th>2020-03-06</th>\n",
       "      <td>43.365854</td>\n",
       "      <td>43.216785</td>\n",
       "      <td>40.825188</td>\n",
       "      <td>45.608383</td>\n",
       "    </tr>\n",
       "    <tr>\n",
       "      <th>2020-03-13</th>\n",
       "      <td>36.150602</td>\n",
       "      <td>37.236887</td>\n",
       "      <td>34.846118</td>\n",
       "      <td>39.627656</td>\n",
       "    </tr>\n",
       "    <tr>\n",
       "      <th>2020-03-20</th>\n",
       "      <td>43.000000</td>\n",
       "      <td>42.717473</td>\n",
       "      <td>40.327490</td>\n",
       "      <td>45.107455</td>\n",
       "    </tr>\n",
       "    <tr>\n",
       "      <th>2020-03-27</th>\n",
       "      <td>41.657143</td>\n",
       "      <td>40.371889</td>\n",
       "      <td>37.982653</td>\n",
       "      <td>42.761125</td>\n",
       "    </tr>\n",
       "    <tr>\n",
       "      <th>2020-04-03</th>\n",
       "      <td>43.035714</td>\n",
       "      <td>43.182405</td>\n",
       "      <td>40.793880</td>\n",
       "      <td>45.570930</td>\n",
       "    </tr>\n",
       "    <tr>\n",
       "      <th>2020-04-10</th>\n",
       "      <td>37.634146</td>\n",
       "      <td>34.752499</td>\n",
       "      <td>32.364651</td>\n",
       "      <td>37.140347</td>\n",
       "    </tr>\n",
       "    <tr>\n",
       "      <th>2020-04-17</th>\n",
       "      <td>43.518987</td>\n",
       "      <td>43.518609</td>\n",
       "      <td>41.131407</td>\n",
       "      <td>45.905811</td>\n",
       "    </tr>\n",
       "    <tr>\n",
       "      <th>2020-04-24</th>\n",
       "      <td>43.488372</td>\n",
       "      <td>43.134151</td>\n",
       "      <td>40.753672</td>\n",
       "      <td>45.514630</td>\n",
       "    </tr>\n",
       "    <tr>\n",
       "      <th>2020-05-01</th>\n",
       "      <td>37.162791</td>\n",
       "      <td>35.258528</td>\n",
       "      <td>32.878918</td>\n",
       "      <td>37.638137</td>\n",
       "    </tr>\n",
       "    <tr>\n",
       "      <th>2020-05-08</th>\n",
       "      <td>42.800000</td>\n",
       "      <td>43.122394</td>\n",
       "      <td>40.743609</td>\n",
       "      <td>45.501179</td>\n",
       "    </tr>\n",
       "    <tr>\n",
       "      <th>2020-05-15</th>\n",
       "      <td>43.952941</td>\n",
       "      <td>42.895012</td>\n",
       "      <td>40.517009</td>\n",
       "      <td>45.273015</td>\n",
       "    </tr>\n",
       "    <tr>\n",
       "      <th>2020-05-22</th>\n",
       "      <td>36.982353</td>\n",
       "      <td>42.576214</td>\n",
       "      <td>40.198954</td>\n",
       "      <td>44.953474</td>\n",
       "    </tr>\n",
       "    <tr>\n",
       "      <th>2020-05-29</th>\n",
       "      <td>32.575000</td>\n",
       "      <td>33.859173</td>\n",
       "      <td>31.482620</td>\n",
       "      <td>36.235725</td>\n",
       "    </tr>\n",
       "    <tr>\n",
       "      <th>2020-06-05</th>\n",
       "      <td>42.164706</td>\n",
       "      <td>42.468477</td>\n",
       "      <td>40.092598</td>\n",
       "      <td>44.844355</td>\n",
       "    </tr>\n",
       "    <tr>\n",
       "      <th>2020-06-12</th>\n",
       "      <td>42.821429</td>\n",
       "      <td>42.692609</td>\n",
       "      <td>40.317373</td>\n",
       "      <td>45.067846</td>\n",
       "    </tr>\n",
       "    <tr>\n",
       "      <th>2020-06-19</th>\n",
       "      <td>43.417647</td>\n",
       "      <td>42.388595</td>\n",
       "      <td>40.013972</td>\n",
       "      <td>44.763218</td>\n",
       "    </tr>\n",
       "    <tr>\n",
       "      <th>2020-06-26</th>\n",
       "      <td>43.172619</td>\n",
       "      <td>43.052728</td>\n",
       "      <td>40.678692</td>\n",
       "      <td>45.426764</td>\n",
       "    </tr>\n",
       "    <tr>\n",
       "      <th>2020-07-03</th>\n",
       "      <td>42.843373</td>\n",
       "      <td>42.954929</td>\n",
       "      <td>40.581454</td>\n",
       "      <td>45.328405</td>\n",
       "    </tr>\n",
       "    <tr>\n",
       "      <th>2020-07-10</th>\n",
       "      <td>42.518072</td>\n",
       "      <td>42.863857</td>\n",
       "      <td>40.490919</td>\n",
       "      <td>45.236795</td>\n",
       "    </tr>\n",
       "    <tr>\n",
       "      <th>2020-07-17</th>\n",
       "      <td>43.134146</td>\n",
       "      <td>42.831833</td>\n",
       "      <td>40.464417</td>\n",
       "      <td>45.199249</td>\n",
       "    </tr>\n",
       "    <tr>\n",
       "      <th>2020-07-24</th>\n",
       "      <td>43.809524</td>\n",
       "      <td>43.173408</td>\n",
       "      <td>40.806696</td>\n",
       "      <td>45.540120</td>\n",
       "    </tr>\n",
       "    <tr>\n",
       "      <th>2020-07-31</th>\n",
       "      <td>45.012048</td>\n",
       "      <td>42.668133</td>\n",
       "      <td>40.302092</td>\n",
       "      <td>45.034174</td>\n",
       "    </tr>\n",
       "  </tbody>\n",
       "</table>\n",
       "</div>"
      ],
      "text/plain": [
       "                    Actual  Mean predictions  Lower Predicted Hours  \\\n",
       "Weekending Date                                                       \n",
       "2020-01-03       40.625000         42.465517              40.058139   \n",
       "2020-01-10       44.304878         42.348257              39.941758   \n",
       "2020-01-17       39.111111         41.206023              38.800358   \n",
       "2020-01-24       37.395062         36.488922              34.084048   \n",
       "2020-01-31       42.712500         43.035901              40.639392   \n",
       "2020-02-07       44.000000         42.827409              40.432000   \n",
       "2020-02-14       42.209877         42.832909              40.438537   \n",
       "2020-02-21       43.925000         42.493262              40.099867   \n",
       "2020-02-28       44.135802         42.245858              39.853387   \n",
       "2020-03-06       43.365854         43.216785              40.825188   \n",
       "2020-03-13       36.150602         37.236887              34.846118   \n",
       "2020-03-20       43.000000         42.717473              40.327490   \n",
       "2020-03-27       41.657143         40.371889              37.982653   \n",
       "2020-04-03       43.035714         43.182405              40.793880   \n",
       "2020-04-10       37.634146         34.752499              32.364651   \n",
       "2020-04-17       43.518987         43.518609              41.131407   \n",
       "2020-04-24       43.488372         43.134151              40.753672   \n",
       "2020-05-01       37.162791         35.258528              32.878918   \n",
       "2020-05-08       42.800000         43.122394              40.743609   \n",
       "2020-05-15       43.952941         42.895012              40.517009   \n",
       "2020-05-22       36.982353         42.576214              40.198954   \n",
       "2020-05-29       32.575000         33.859173              31.482620   \n",
       "2020-06-05       42.164706         42.468477              40.092598   \n",
       "2020-06-12       42.821429         42.692609              40.317373   \n",
       "2020-06-19       43.417647         42.388595              40.013972   \n",
       "2020-06-26       43.172619         43.052728              40.678692   \n",
       "2020-07-03       42.843373         42.954929              40.581454   \n",
       "2020-07-10       42.518072         42.863857              40.490919   \n",
       "2020-07-17       43.134146         42.831833              40.464417   \n",
       "2020-07-24       43.809524         43.173408              40.806696   \n",
       "2020-07-31       45.012048         42.668133              40.302092   \n",
       "\n",
       "                 Upper Predicted Hours  \n",
       "Weekending Date                         \n",
       "2020-01-03                   44.872894  \n",
       "2020-01-10                   44.754755  \n",
       "2020-01-17                   43.611688  \n",
       "2020-01-24                   38.893796  \n",
       "2020-01-31                   45.432410  \n",
       "2020-02-07                   45.222817  \n",
       "2020-02-14                   45.227282  \n",
       "2020-02-21                   44.886656  \n",
       "2020-02-28                   44.638329  \n",
       "2020-03-06                   45.608383  \n",
       "2020-03-13                   39.627656  \n",
       "2020-03-20                   45.107455  \n",
       "2020-03-27                   42.761125  \n",
       "2020-04-03                   45.570930  \n",
       "2020-04-10                   37.140347  \n",
       "2020-04-17                   45.905811  \n",
       "2020-04-24                   45.514630  \n",
       "2020-05-01                   37.638137  \n",
       "2020-05-08                   45.501179  \n",
       "2020-05-15                   45.273015  \n",
       "2020-05-22                   44.953474  \n",
       "2020-05-29                   36.235725  \n",
       "2020-06-05                   44.844355  \n",
       "2020-06-12                   45.067846  \n",
       "2020-06-19                   44.763218  \n",
       "2020-06-26                   45.426764  \n",
       "2020-07-03                   45.328405  \n",
       "2020-07-10                   45.236795  \n",
       "2020-07-17                   45.199249  \n",
       "2020-07-24                   45.540120  \n",
       "2020-07-31                   45.034174  "
      ]
     },
     "execution_count": 25,
     "metadata": {},
     "output_type": "execute_result"
    }
   ],
   "source": [
    "df_ilc_2020 = pd.DataFrame()\n",
    "df_ilc_2020['Actual'] = df_ilc_holidays.loc['2020-01-03':'2020-07-31']['Mean hours']\n",
    "df_ilc_2020['Mean predictions'] = pred_2020.predicted_mean\n",
    "df_ilc_2020['Lower Predicted Hours'] = pred_ci['lower Mean hours']\n",
    "df_ilc_2020['Upper Predicted Hours'] = pred_ci['upper Mean hours']\n",
    "df_ilc_2020"
   ]
  },
  {
   "cell_type": "code",
   "execution_count": 26,
   "metadata": {},
   "outputs": [
    {
     "data": {
      "text/plain": [
       "1.5698146006450886"
      ]
     },
     "execution_count": 26,
     "metadata": {},
     "output_type": "execute_result"
    }
   ],
   "source": [
    "rmse_2020 = np.sqrt(((df_ilc_2020['Actual']-df_ilc_2020['Mean predictions'])**2).mean())\n",
    "rmse_2020"
   ]
  },
  {
   "cell_type": "markdown",
   "metadata": {},
   "source": [
    "Again RMSE is only 1.56 out of actual 45 hours for 2020. So model is making close predictions."
   ]
  },
  {
   "cell_type": "code",
   "execution_count": 27,
   "metadata": {},
   "outputs": [
    {
     "data": {
      "text/plain": [
       "2020-08-07    43.303445\n",
       "2020-08-14    39.818448\n",
       "2020-08-21    42.609472\n",
       "2020-08-28    42.855747\n",
       "2020-09-04    42.858939\n",
       "2020-09-11    42.508704\n",
       "2020-09-18    42.887795\n",
       "2020-09-25    42.886340\n",
       "2020-10-02    34.885497\n",
       "2020-10-09    42.929939\n",
       "2020-10-16    43.191805\n",
       "2020-10-23    36.770472\n",
       "2020-10-30    34.853840\n",
       "2020-11-06    41.652365\n",
       "2020-11-13    42.520553\n",
       "2020-11-20    34.825874\n",
       "2020-11-27    42.785010\n",
       "2020-12-04    42.435239\n",
       "2020-12-11    42.814418\n",
       "2020-12-18    42.812981\n",
       "2020-12-25    34.812141\n",
       "Freq: W-FRI, dtype: float64"
      ]
     },
     "execution_count": 27,
     "metadata": {},
     "output_type": "execute_result"
    }
   ],
   "source": [
    "# make predictions for the remaining weeks of the year\n",
    "\n",
    "# count the number of remaining weeks for the year\n",
    "count = len(dict(df_ilc_holidays.loc[df_predictions_first_index:df_predictions_last_index]['Holiday'].items()))\n",
    "forecast_2020 = results.get_forecast(steps=count,exog=df_ilc_holidays.loc[df_predictions_first_index:df_predictions_last_index]['Holiday'])\n",
    "forecast_2020.predicted_mean"
   ]
  },
  {
   "cell_type": "code",
   "execution_count": 28,
   "metadata": {},
   "outputs": [],
   "source": [
    "pred_ci_forecast = forecast_2020.conf_int()"
   ]
  },
  {
   "cell_type": "code",
   "execution_count": 29,
   "metadata": {},
   "outputs": [
    {
     "data": {
      "text/html": [
       "<div>\n",
       "<style scoped>\n",
       "    .dataframe tbody tr th:only-of-type {\n",
       "        vertical-align: middle;\n",
       "    }\n",
       "\n",
       "    .dataframe tbody tr th {\n",
       "        vertical-align: top;\n",
       "    }\n",
       "\n",
       "    .dataframe thead th {\n",
       "        text-align: right;\n",
       "    }\n",
       "</style>\n",
       "<table border=\"1\" class=\"dataframe\">\n",
       "  <thead>\n",
       "    <tr style=\"text-align: right;\">\n",
       "      <th></th>\n",
       "      <th>Mean predictions</th>\n",
       "      <th>Lower Predicted Hours</th>\n",
       "      <th>Upper Predicted Hours</th>\n",
       "    </tr>\n",
       "  </thead>\n",
       "  <tbody>\n",
       "    <tr>\n",
       "      <th>2020-08-07</th>\n",
       "      <td>43.303445</td>\n",
       "      <td>40.938044</td>\n",
       "      <td>45.668846</td>\n",
       "    </tr>\n",
       "    <tr>\n",
       "      <th>2020-08-14</th>\n",
       "      <td>39.818448</td>\n",
       "      <td>37.399788</td>\n",
       "      <td>42.237108</td>\n",
       "    </tr>\n",
       "    <tr>\n",
       "      <th>2020-08-21</th>\n",
       "      <td>42.609472</td>\n",
       "      <td>40.186940</td>\n",
       "      <td>45.032003</td>\n",
       "    </tr>\n",
       "    <tr>\n",
       "      <th>2020-08-28</th>\n",
       "      <td>42.855747</td>\n",
       "      <td>40.432702</td>\n",
       "      <td>45.278792</td>\n",
       "    </tr>\n",
       "    <tr>\n",
       "      <th>2020-09-04</th>\n",
       "      <td>42.858939</td>\n",
       "      <td>40.435804</td>\n",
       "      <td>45.282073</td>\n",
       "    </tr>\n",
       "    <tr>\n",
       "      <th>2020-09-11</th>\n",
       "      <td>42.508704</td>\n",
       "      <td>40.085552</td>\n",
       "      <td>44.931856</td>\n",
       "    </tr>\n",
       "    <tr>\n",
       "      <th>2020-09-18</th>\n",
       "      <td>42.887795</td>\n",
       "      <td>40.464640</td>\n",
       "      <td>45.310950</td>\n",
       "    </tr>\n",
       "    <tr>\n",
       "      <th>2020-09-25</th>\n",
       "      <td>42.886340</td>\n",
       "      <td>40.463185</td>\n",
       "      <td>45.309496</td>\n",
       "    </tr>\n",
       "    <tr>\n",
       "      <th>2020-10-02</th>\n",
       "      <td>34.885497</td>\n",
       "      <td>32.462342</td>\n",
       "      <td>37.308653</td>\n",
       "    </tr>\n",
       "    <tr>\n",
       "      <th>2020-10-09</th>\n",
       "      <td>42.929939</td>\n",
       "      <td>40.509026</td>\n",
       "      <td>45.350852</td>\n",
       "    </tr>\n",
       "    <tr>\n",
       "      <th>2020-10-16</th>\n",
       "      <td>43.191805</td>\n",
       "      <td>40.770065</td>\n",
       "      <td>45.613546</td>\n",
       "    </tr>\n",
       "    <tr>\n",
       "      <th>2020-10-23</th>\n",
       "      <td>36.770472</td>\n",
       "      <td>34.348527</td>\n",
       "      <td>39.192417</td>\n",
       "    </tr>\n",
       "    <tr>\n",
       "      <th>2020-10-30</th>\n",
       "      <td>34.853840</td>\n",
       "      <td>32.418008</td>\n",
       "      <td>37.289673</td>\n",
       "    </tr>\n",
       "    <tr>\n",
       "      <th>2020-11-06</th>\n",
       "      <td>41.652365</td>\n",
       "      <td>39.215042</td>\n",
       "      <td>44.089688</td>\n",
       "    </tr>\n",
       "    <tr>\n",
       "      <th>2020-11-13</th>\n",
       "      <td>42.520553</td>\n",
       "      <td>40.082987</td>\n",
       "      <td>44.958119</td>\n",
       "    </tr>\n",
       "    <tr>\n",
       "      <th>2020-11-20</th>\n",
       "      <td>34.825874</td>\n",
       "      <td>32.388264</td>\n",
       "      <td>37.263485</td>\n",
       "    </tr>\n",
       "    <tr>\n",
       "      <th>2020-11-27</th>\n",
       "      <td>42.785010</td>\n",
       "      <td>40.347391</td>\n",
       "      <td>45.222629</td>\n",
       "    </tr>\n",
       "    <tr>\n",
       "      <th>2020-12-04</th>\n",
       "      <td>42.435239</td>\n",
       "      <td>39.997618</td>\n",
       "      <td>44.872859</td>\n",
       "    </tr>\n",
       "    <tr>\n",
       "      <th>2020-12-11</th>\n",
       "      <td>42.814418</td>\n",
       "      <td>40.376797</td>\n",
       "      <td>45.252039</td>\n",
       "    </tr>\n",
       "    <tr>\n",
       "      <th>2020-12-18</th>\n",
       "      <td>42.812981</td>\n",
       "      <td>40.375359</td>\n",
       "      <td>45.250602</td>\n",
       "    </tr>\n",
       "    <tr>\n",
       "      <th>2020-12-25</th>\n",
       "      <td>34.812141</td>\n",
       "      <td>32.374520</td>\n",
       "      <td>37.249762</td>\n",
       "    </tr>\n",
       "  </tbody>\n",
       "</table>\n",
       "</div>"
      ],
      "text/plain": [
       "            Mean predictions  Lower Predicted Hours  Upper Predicted Hours\n",
       "2020-08-07         43.303445              40.938044              45.668846\n",
       "2020-08-14         39.818448              37.399788              42.237108\n",
       "2020-08-21         42.609472              40.186940              45.032003\n",
       "2020-08-28         42.855747              40.432702              45.278792\n",
       "2020-09-04         42.858939              40.435804              45.282073\n",
       "2020-09-11         42.508704              40.085552              44.931856\n",
       "2020-09-18         42.887795              40.464640              45.310950\n",
       "2020-09-25         42.886340              40.463185              45.309496\n",
       "2020-10-02         34.885497              32.462342              37.308653\n",
       "2020-10-09         42.929939              40.509026              45.350852\n",
       "2020-10-16         43.191805              40.770065              45.613546\n",
       "2020-10-23         36.770472              34.348527              39.192417\n",
       "2020-10-30         34.853840              32.418008              37.289673\n",
       "2020-11-06         41.652365              39.215042              44.089688\n",
       "2020-11-13         42.520553              40.082987              44.958119\n",
       "2020-11-20         34.825874              32.388264              37.263485\n",
       "2020-11-27         42.785010              40.347391              45.222629\n",
       "2020-12-04         42.435239              39.997618              44.872859\n",
       "2020-12-11         42.814418              40.376797              45.252039\n",
       "2020-12-18         42.812981              40.375359              45.250602\n",
       "2020-12-25         34.812141              32.374520              37.249762"
      ]
     },
     "execution_count": 29,
     "metadata": {},
     "output_type": "execute_result"
    }
   ],
   "source": [
    "df_2020 = pd.DataFrame()\n",
    "df_2020['Mean predictions'] = forecast_2020.predicted_mean\n",
    "df_2020['Lower Predicted Hours'] = pred_ci_forecast['lower Mean hours']\n",
    "df_2020['Upper Predicted Hours'] = pred_ci_forecast['upper Mean hours']\n",
    "df_2020"
   ]
  },
  {
   "cell_type": "code",
   "execution_count": 30,
   "metadata": {},
   "outputs": [
    {
     "data": {
      "text/html": [
       "<div>\n",
       "<style scoped>\n",
       "    .dataframe tbody tr th:only-of-type {\n",
       "        vertical-align: middle;\n",
       "    }\n",
       "\n",
       "    .dataframe tbody tr th {\n",
       "        vertical-align: top;\n",
       "    }\n",
       "\n",
       "    .dataframe thead th {\n",
       "        text-align: right;\n",
       "    }\n",
       "</style>\n",
       "<table border=\"1\" class=\"dataframe\">\n",
       "  <thead>\n",
       "    <tr style=\"text-align: right;\">\n",
       "      <th></th>\n",
       "      <th>Actual</th>\n",
       "      <th>Mean predictions</th>\n",
       "      <th>Lower Predicted Hours</th>\n",
       "      <th>Upper Predicted Hours</th>\n",
       "    </tr>\n",
       "  </thead>\n",
       "  <tbody>\n",
       "    <tr>\n",
       "      <th>2020-01-03</th>\n",
       "      <td>40.625000</td>\n",
       "      <td>42.465517</td>\n",
       "      <td>40.058139</td>\n",
       "      <td>44.872894</td>\n",
       "    </tr>\n",
       "    <tr>\n",
       "      <th>2020-01-10</th>\n",
       "      <td>44.304878</td>\n",
       "      <td>42.348257</td>\n",
       "      <td>39.941758</td>\n",
       "      <td>44.754755</td>\n",
       "    </tr>\n",
       "    <tr>\n",
       "      <th>2020-01-17</th>\n",
       "      <td>39.111111</td>\n",
       "      <td>41.206023</td>\n",
       "      <td>38.800358</td>\n",
       "      <td>43.611688</td>\n",
       "    </tr>\n",
       "    <tr>\n",
       "      <th>2020-01-24</th>\n",
       "      <td>37.395062</td>\n",
       "      <td>36.488922</td>\n",
       "      <td>34.084048</td>\n",
       "      <td>38.893796</td>\n",
       "    </tr>\n",
       "    <tr>\n",
       "      <th>2020-01-31</th>\n",
       "      <td>42.712500</td>\n",
       "      <td>43.035901</td>\n",
       "      <td>40.639392</td>\n",
       "      <td>45.432410</td>\n",
       "    </tr>\n",
       "    <tr>\n",
       "      <th>2020-02-07</th>\n",
       "      <td>44.000000</td>\n",
       "      <td>42.827409</td>\n",
       "      <td>40.432000</td>\n",
       "      <td>45.222817</td>\n",
       "    </tr>\n",
       "    <tr>\n",
       "      <th>2020-02-14</th>\n",
       "      <td>42.209877</td>\n",
       "      <td>42.832909</td>\n",
       "      <td>40.438537</td>\n",
       "      <td>45.227282</td>\n",
       "    </tr>\n",
       "    <tr>\n",
       "      <th>2020-02-21</th>\n",
       "      <td>43.925000</td>\n",
       "      <td>42.493262</td>\n",
       "      <td>40.099867</td>\n",
       "      <td>44.886656</td>\n",
       "    </tr>\n",
       "    <tr>\n",
       "      <th>2020-02-28</th>\n",
       "      <td>44.135802</td>\n",
       "      <td>42.245858</td>\n",
       "      <td>39.853387</td>\n",
       "      <td>44.638329</td>\n",
       "    </tr>\n",
       "    <tr>\n",
       "      <th>2020-03-06</th>\n",
       "      <td>43.365854</td>\n",
       "      <td>43.216785</td>\n",
       "      <td>40.825188</td>\n",
       "      <td>45.608383</td>\n",
       "    </tr>\n",
       "    <tr>\n",
       "      <th>2020-03-13</th>\n",
       "      <td>36.150602</td>\n",
       "      <td>37.236887</td>\n",
       "      <td>34.846118</td>\n",
       "      <td>39.627656</td>\n",
       "    </tr>\n",
       "    <tr>\n",
       "      <th>2020-03-20</th>\n",
       "      <td>43.000000</td>\n",
       "      <td>42.717473</td>\n",
       "      <td>40.327490</td>\n",
       "      <td>45.107455</td>\n",
       "    </tr>\n",
       "    <tr>\n",
       "      <th>2020-03-27</th>\n",
       "      <td>41.657143</td>\n",
       "      <td>40.371889</td>\n",
       "      <td>37.982653</td>\n",
       "      <td>42.761125</td>\n",
       "    </tr>\n",
       "    <tr>\n",
       "      <th>2020-04-03</th>\n",
       "      <td>43.035714</td>\n",
       "      <td>43.182405</td>\n",
       "      <td>40.793880</td>\n",
       "      <td>45.570930</td>\n",
       "    </tr>\n",
       "    <tr>\n",
       "      <th>2020-04-10</th>\n",
       "      <td>37.634146</td>\n",
       "      <td>34.752499</td>\n",
       "      <td>32.364651</td>\n",
       "      <td>37.140347</td>\n",
       "    </tr>\n",
       "    <tr>\n",
       "      <th>2020-04-17</th>\n",
       "      <td>43.518987</td>\n",
       "      <td>43.518609</td>\n",
       "      <td>41.131407</td>\n",
       "      <td>45.905811</td>\n",
       "    </tr>\n",
       "    <tr>\n",
       "      <th>2020-04-24</th>\n",
       "      <td>43.488372</td>\n",
       "      <td>43.134151</td>\n",
       "      <td>40.753672</td>\n",
       "      <td>45.514630</td>\n",
       "    </tr>\n",
       "    <tr>\n",
       "      <th>2020-05-01</th>\n",
       "      <td>37.162791</td>\n",
       "      <td>35.258528</td>\n",
       "      <td>32.878918</td>\n",
       "      <td>37.638137</td>\n",
       "    </tr>\n",
       "    <tr>\n",
       "      <th>2020-05-08</th>\n",
       "      <td>42.800000</td>\n",
       "      <td>43.122394</td>\n",
       "      <td>40.743609</td>\n",
       "      <td>45.501179</td>\n",
       "    </tr>\n",
       "    <tr>\n",
       "      <th>2020-05-15</th>\n",
       "      <td>43.952941</td>\n",
       "      <td>42.895012</td>\n",
       "      <td>40.517009</td>\n",
       "      <td>45.273015</td>\n",
       "    </tr>\n",
       "    <tr>\n",
       "      <th>2020-05-22</th>\n",
       "      <td>36.982353</td>\n",
       "      <td>42.576214</td>\n",
       "      <td>40.198954</td>\n",
       "      <td>44.953474</td>\n",
       "    </tr>\n",
       "    <tr>\n",
       "      <th>2020-05-29</th>\n",
       "      <td>32.575000</td>\n",
       "      <td>33.859173</td>\n",
       "      <td>31.482620</td>\n",
       "      <td>36.235725</td>\n",
       "    </tr>\n",
       "    <tr>\n",
       "      <th>2020-06-05</th>\n",
       "      <td>42.164706</td>\n",
       "      <td>42.468477</td>\n",
       "      <td>40.092598</td>\n",
       "      <td>44.844355</td>\n",
       "    </tr>\n",
       "    <tr>\n",
       "      <th>2020-06-12</th>\n",
       "      <td>42.821429</td>\n",
       "      <td>42.692609</td>\n",
       "      <td>40.317373</td>\n",
       "      <td>45.067846</td>\n",
       "    </tr>\n",
       "    <tr>\n",
       "      <th>2020-06-19</th>\n",
       "      <td>43.417647</td>\n",
       "      <td>42.388595</td>\n",
       "      <td>40.013972</td>\n",
       "      <td>44.763218</td>\n",
       "    </tr>\n",
       "    <tr>\n",
       "      <th>2020-06-26</th>\n",
       "      <td>43.172619</td>\n",
       "      <td>43.052728</td>\n",
       "      <td>40.678692</td>\n",
       "      <td>45.426764</td>\n",
       "    </tr>\n",
       "    <tr>\n",
       "      <th>2020-07-03</th>\n",
       "      <td>42.843373</td>\n",
       "      <td>42.954929</td>\n",
       "      <td>40.581454</td>\n",
       "      <td>45.328405</td>\n",
       "    </tr>\n",
       "    <tr>\n",
       "      <th>2020-07-10</th>\n",
       "      <td>42.518072</td>\n",
       "      <td>42.863857</td>\n",
       "      <td>40.490919</td>\n",
       "      <td>45.236795</td>\n",
       "    </tr>\n",
       "    <tr>\n",
       "      <th>2020-07-17</th>\n",
       "      <td>43.134146</td>\n",
       "      <td>42.831833</td>\n",
       "      <td>40.464417</td>\n",
       "      <td>45.199249</td>\n",
       "    </tr>\n",
       "    <tr>\n",
       "      <th>2020-07-24</th>\n",
       "      <td>43.809524</td>\n",
       "      <td>43.173408</td>\n",
       "      <td>40.806696</td>\n",
       "      <td>45.540120</td>\n",
       "    </tr>\n",
       "    <tr>\n",
       "      <th>2020-07-31</th>\n",
       "      <td>45.012048</td>\n",
       "      <td>42.668133</td>\n",
       "      <td>40.302092</td>\n",
       "      <td>45.034174</td>\n",
       "    </tr>\n",
       "    <tr>\n",
       "      <th>2020-08-07 00:00:00</th>\n",
       "      <td>NaN</td>\n",
       "      <td>43.303445</td>\n",
       "      <td>40.938044</td>\n",
       "      <td>45.668846</td>\n",
       "    </tr>\n",
       "    <tr>\n",
       "      <th>2020-08-14 00:00:00</th>\n",
       "      <td>NaN</td>\n",
       "      <td>39.818448</td>\n",
       "      <td>37.399788</td>\n",
       "      <td>42.237108</td>\n",
       "    </tr>\n",
       "    <tr>\n",
       "      <th>2020-08-21 00:00:00</th>\n",
       "      <td>NaN</td>\n",
       "      <td>42.609472</td>\n",
       "      <td>40.186940</td>\n",
       "      <td>45.032003</td>\n",
       "    </tr>\n",
       "    <tr>\n",
       "      <th>2020-08-28 00:00:00</th>\n",
       "      <td>NaN</td>\n",
       "      <td>42.855747</td>\n",
       "      <td>40.432702</td>\n",
       "      <td>45.278792</td>\n",
       "    </tr>\n",
       "    <tr>\n",
       "      <th>2020-09-04 00:00:00</th>\n",
       "      <td>NaN</td>\n",
       "      <td>42.858939</td>\n",
       "      <td>40.435804</td>\n",
       "      <td>45.282073</td>\n",
       "    </tr>\n",
       "    <tr>\n",
       "      <th>2020-09-11 00:00:00</th>\n",
       "      <td>NaN</td>\n",
       "      <td>42.508704</td>\n",
       "      <td>40.085552</td>\n",
       "      <td>44.931856</td>\n",
       "    </tr>\n",
       "    <tr>\n",
       "      <th>2020-09-18 00:00:00</th>\n",
       "      <td>NaN</td>\n",
       "      <td>42.887795</td>\n",
       "      <td>40.464640</td>\n",
       "      <td>45.310950</td>\n",
       "    </tr>\n",
       "    <tr>\n",
       "      <th>2020-09-25 00:00:00</th>\n",
       "      <td>NaN</td>\n",
       "      <td>42.886340</td>\n",
       "      <td>40.463185</td>\n",
       "      <td>45.309496</td>\n",
       "    </tr>\n",
       "    <tr>\n",
       "      <th>2020-10-02 00:00:00</th>\n",
       "      <td>NaN</td>\n",
       "      <td>34.885497</td>\n",
       "      <td>32.462342</td>\n",
       "      <td>37.308653</td>\n",
       "    </tr>\n",
       "    <tr>\n",
       "      <th>2020-10-09 00:00:00</th>\n",
       "      <td>NaN</td>\n",
       "      <td>42.929939</td>\n",
       "      <td>40.509026</td>\n",
       "      <td>45.350852</td>\n",
       "    </tr>\n",
       "    <tr>\n",
       "      <th>2020-10-16 00:00:00</th>\n",
       "      <td>NaN</td>\n",
       "      <td>43.191805</td>\n",
       "      <td>40.770065</td>\n",
       "      <td>45.613546</td>\n",
       "    </tr>\n",
       "    <tr>\n",
       "      <th>2020-10-23 00:00:00</th>\n",
       "      <td>NaN</td>\n",
       "      <td>36.770472</td>\n",
       "      <td>34.348527</td>\n",
       "      <td>39.192417</td>\n",
       "    </tr>\n",
       "    <tr>\n",
       "      <th>2020-10-30 00:00:00</th>\n",
       "      <td>NaN</td>\n",
       "      <td>34.853840</td>\n",
       "      <td>32.418008</td>\n",
       "      <td>37.289673</td>\n",
       "    </tr>\n",
       "    <tr>\n",
       "      <th>2020-11-06 00:00:00</th>\n",
       "      <td>NaN</td>\n",
       "      <td>41.652365</td>\n",
       "      <td>39.215042</td>\n",
       "      <td>44.089688</td>\n",
       "    </tr>\n",
       "    <tr>\n",
       "      <th>2020-11-13 00:00:00</th>\n",
       "      <td>NaN</td>\n",
       "      <td>42.520553</td>\n",
       "      <td>40.082987</td>\n",
       "      <td>44.958119</td>\n",
       "    </tr>\n",
       "    <tr>\n",
       "      <th>2020-11-20 00:00:00</th>\n",
       "      <td>NaN</td>\n",
       "      <td>34.825874</td>\n",
       "      <td>32.388264</td>\n",
       "      <td>37.263485</td>\n",
       "    </tr>\n",
       "    <tr>\n",
       "      <th>2020-11-27 00:00:00</th>\n",
       "      <td>NaN</td>\n",
       "      <td>42.785010</td>\n",
       "      <td>40.347391</td>\n",
       "      <td>45.222629</td>\n",
       "    </tr>\n",
       "    <tr>\n",
       "      <th>2020-12-04 00:00:00</th>\n",
       "      <td>NaN</td>\n",
       "      <td>42.435239</td>\n",
       "      <td>39.997618</td>\n",
       "      <td>44.872859</td>\n",
       "    </tr>\n",
       "    <tr>\n",
       "      <th>2020-12-11 00:00:00</th>\n",
       "      <td>NaN</td>\n",
       "      <td>42.814418</td>\n",
       "      <td>40.376797</td>\n",
       "      <td>45.252039</td>\n",
       "    </tr>\n",
       "    <tr>\n",
       "      <th>2020-12-18 00:00:00</th>\n",
       "      <td>NaN</td>\n",
       "      <td>42.812981</td>\n",
       "      <td>40.375359</td>\n",
       "      <td>45.250602</td>\n",
       "    </tr>\n",
       "    <tr>\n",
       "      <th>2020-12-25 00:00:00</th>\n",
       "      <td>NaN</td>\n",
       "      <td>34.812141</td>\n",
       "      <td>32.374520</td>\n",
       "      <td>37.249762</td>\n",
       "    </tr>\n",
       "  </tbody>\n",
       "</table>\n",
       "</div>"
      ],
      "text/plain": [
       "                        Actual  Mean predictions  Lower Predicted Hours  \\\n",
       "2020-01-03           40.625000         42.465517              40.058139   \n",
       "2020-01-10           44.304878         42.348257              39.941758   \n",
       "2020-01-17           39.111111         41.206023              38.800358   \n",
       "2020-01-24           37.395062         36.488922              34.084048   \n",
       "2020-01-31           42.712500         43.035901              40.639392   \n",
       "2020-02-07           44.000000         42.827409              40.432000   \n",
       "2020-02-14           42.209877         42.832909              40.438537   \n",
       "2020-02-21           43.925000         42.493262              40.099867   \n",
       "2020-02-28           44.135802         42.245858              39.853387   \n",
       "2020-03-06           43.365854         43.216785              40.825188   \n",
       "2020-03-13           36.150602         37.236887              34.846118   \n",
       "2020-03-20           43.000000         42.717473              40.327490   \n",
       "2020-03-27           41.657143         40.371889              37.982653   \n",
       "2020-04-03           43.035714         43.182405              40.793880   \n",
       "2020-04-10           37.634146         34.752499              32.364651   \n",
       "2020-04-17           43.518987         43.518609              41.131407   \n",
       "2020-04-24           43.488372         43.134151              40.753672   \n",
       "2020-05-01           37.162791         35.258528              32.878918   \n",
       "2020-05-08           42.800000         43.122394              40.743609   \n",
       "2020-05-15           43.952941         42.895012              40.517009   \n",
       "2020-05-22           36.982353         42.576214              40.198954   \n",
       "2020-05-29           32.575000         33.859173              31.482620   \n",
       "2020-06-05           42.164706         42.468477              40.092598   \n",
       "2020-06-12           42.821429         42.692609              40.317373   \n",
       "2020-06-19           43.417647         42.388595              40.013972   \n",
       "2020-06-26           43.172619         43.052728              40.678692   \n",
       "2020-07-03           42.843373         42.954929              40.581454   \n",
       "2020-07-10           42.518072         42.863857              40.490919   \n",
       "2020-07-17           43.134146         42.831833              40.464417   \n",
       "2020-07-24           43.809524         43.173408              40.806696   \n",
       "2020-07-31           45.012048         42.668133              40.302092   \n",
       "2020-08-07 00:00:00        NaN         43.303445              40.938044   \n",
       "2020-08-14 00:00:00        NaN         39.818448              37.399788   \n",
       "2020-08-21 00:00:00        NaN         42.609472              40.186940   \n",
       "2020-08-28 00:00:00        NaN         42.855747              40.432702   \n",
       "2020-09-04 00:00:00        NaN         42.858939              40.435804   \n",
       "2020-09-11 00:00:00        NaN         42.508704              40.085552   \n",
       "2020-09-18 00:00:00        NaN         42.887795              40.464640   \n",
       "2020-09-25 00:00:00        NaN         42.886340              40.463185   \n",
       "2020-10-02 00:00:00        NaN         34.885497              32.462342   \n",
       "2020-10-09 00:00:00        NaN         42.929939              40.509026   \n",
       "2020-10-16 00:00:00        NaN         43.191805              40.770065   \n",
       "2020-10-23 00:00:00        NaN         36.770472              34.348527   \n",
       "2020-10-30 00:00:00        NaN         34.853840              32.418008   \n",
       "2020-11-06 00:00:00        NaN         41.652365              39.215042   \n",
       "2020-11-13 00:00:00        NaN         42.520553              40.082987   \n",
       "2020-11-20 00:00:00        NaN         34.825874              32.388264   \n",
       "2020-11-27 00:00:00        NaN         42.785010              40.347391   \n",
       "2020-12-04 00:00:00        NaN         42.435239              39.997618   \n",
       "2020-12-11 00:00:00        NaN         42.814418              40.376797   \n",
       "2020-12-18 00:00:00        NaN         42.812981              40.375359   \n",
       "2020-12-25 00:00:00        NaN         34.812141              32.374520   \n",
       "\n",
       "                     Upper Predicted Hours  \n",
       "2020-01-03                       44.872894  \n",
       "2020-01-10                       44.754755  \n",
       "2020-01-17                       43.611688  \n",
       "2020-01-24                       38.893796  \n",
       "2020-01-31                       45.432410  \n",
       "2020-02-07                       45.222817  \n",
       "2020-02-14                       45.227282  \n",
       "2020-02-21                       44.886656  \n",
       "2020-02-28                       44.638329  \n",
       "2020-03-06                       45.608383  \n",
       "2020-03-13                       39.627656  \n",
       "2020-03-20                       45.107455  \n",
       "2020-03-27                       42.761125  \n",
       "2020-04-03                       45.570930  \n",
       "2020-04-10                       37.140347  \n",
       "2020-04-17                       45.905811  \n",
       "2020-04-24                       45.514630  \n",
       "2020-05-01                       37.638137  \n",
       "2020-05-08                       45.501179  \n",
       "2020-05-15                       45.273015  \n",
       "2020-05-22                       44.953474  \n",
       "2020-05-29                       36.235725  \n",
       "2020-06-05                       44.844355  \n",
       "2020-06-12                       45.067846  \n",
       "2020-06-19                       44.763218  \n",
       "2020-06-26                       45.426764  \n",
       "2020-07-03                       45.328405  \n",
       "2020-07-10                       45.236795  \n",
       "2020-07-17                       45.199249  \n",
       "2020-07-24                       45.540120  \n",
       "2020-07-31                       45.034174  \n",
       "2020-08-07 00:00:00              45.668846  \n",
       "2020-08-14 00:00:00              42.237108  \n",
       "2020-08-21 00:00:00              45.032003  \n",
       "2020-08-28 00:00:00              45.278792  \n",
       "2020-09-04 00:00:00              45.282073  \n",
       "2020-09-11 00:00:00              44.931856  \n",
       "2020-09-18 00:00:00              45.310950  \n",
       "2020-09-25 00:00:00              45.309496  \n",
       "2020-10-02 00:00:00              37.308653  \n",
       "2020-10-09 00:00:00              45.350852  \n",
       "2020-10-16 00:00:00              45.613546  \n",
       "2020-10-23 00:00:00              39.192417  \n",
       "2020-10-30 00:00:00              37.289673  \n",
       "2020-11-06 00:00:00              44.089688  \n",
       "2020-11-13 00:00:00              44.958119  \n",
       "2020-11-20 00:00:00              37.263485  \n",
       "2020-11-27 00:00:00              45.222629  \n",
       "2020-12-04 00:00:00              44.872859  \n",
       "2020-12-11 00:00:00              45.252039  \n",
       "2020-12-18 00:00:00              45.250602  \n",
       "2020-12-25 00:00:00              37.249762  "
      ]
     },
     "execution_count": 30,
     "metadata": {},
     "output_type": "execute_result"
    }
   ],
   "source": [
    "# concat the 2 dataframes\n",
    "df_concat = pd.concat([df_ilc_2020,df_2020], sort=False)\n",
    "df_concat"
   ]
  },
  {
   "cell_type": "code",
   "execution_count": 31,
   "metadata": {},
   "outputs": [
    {
     "data": {
      "text/html": [
       "<div>\n",
       "<style scoped>\n",
       "    .dataframe tbody tr th:only-of-type {\n",
       "        vertical-align: middle;\n",
       "    }\n",
       "\n",
       "    .dataframe tbody tr th {\n",
       "        vertical-align: top;\n",
       "    }\n",
       "\n",
       "    .dataframe thead th {\n",
       "        text-align: right;\n",
       "    }\n",
       "</style>\n",
       "<table border=\"1\" class=\"dataframe\">\n",
       "  <thead>\n",
       "    <tr style=\"text-align: right;\">\n",
       "      <th></th>\n",
       "      <th>Actual</th>\n",
       "      <th>Mean predictions</th>\n",
       "      <th>Lower Predicted Hours</th>\n",
       "      <th>Upper Predicted Hours</th>\n",
       "    </tr>\n",
       "    <tr>\n",
       "      <th>Weekending Date</th>\n",
       "      <th></th>\n",
       "      <th></th>\n",
       "      <th></th>\n",
       "      <th></th>\n",
       "    </tr>\n",
       "  </thead>\n",
       "  <tbody>\n",
       "    <tr>\n",
       "      <th>2020-01-03</th>\n",
       "      <td>40.625000</td>\n",
       "      <td>42.465517</td>\n",
       "      <td>40.058139</td>\n",
       "      <td>44.872894</td>\n",
       "    </tr>\n",
       "    <tr>\n",
       "      <th>2020-01-10</th>\n",
       "      <td>44.304878</td>\n",
       "      <td>42.348257</td>\n",
       "      <td>39.941758</td>\n",
       "      <td>44.754755</td>\n",
       "    </tr>\n",
       "    <tr>\n",
       "      <th>2020-01-17</th>\n",
       "      <td>39.111111</td>\n",
       "      <td>41.206023</td>\n",
       "      <td>38.800358</td>\n",
       "      <td>43.611688</td>\n",
       "    </tr>\n",
       "    <tr>\n",
       "      <th>2020-01-24</th>\n",
       "      <td>37.395062</td>\n",
       "      <td>36.488922</td>\n",
       "      <td>34.084048</td>\n",
       "      <td>38.893796</td>\n",
       "    </tr>\n",
       "    <tr>\n",
       "      <th>2020-01-31</th>\n",
       "      <td>42.712500</td>\n",
       "      <td>43.035901</td>\n",
       "      <td>40.639392</td>\n",
       "      <td>45.432410</td>\n",
       "    </tr>\n",
       "    <tr>\n",
       "      <th>2020-02-07</th>\n",
       "      <td>44.000000</td>\n",
       "      <td>42.827409</td>\n",
       "      <td>40.432000</td>\n",
       "      <td>45.222817</td>\n",
       "    </tr>\n",
       "    <tr>\n",
       "      <th>2020-02-14</th>\n",
       "      <td>42.209877</td>\n",
       "      <td>42.832909</td>\n",
       "      <td>40.438537</td>\n",
       "      <td>45.227282</td>\n",
       "    </tr>\n",
       "    <tr>\n",
       "      <th>2020-02-21</th>\n",
       "      <td>43.925000</td>\n",
       "      <td>42.493262</td>\n",
       "      <td>40.099867</td>\n",
       "      <td>44.886656</td>\n",
       "    </tr>\n",
       "    <tr>\n",
       "      <th>2020-02-28</th>\n",
       "      <td>44.135802</td>\n",
       "      <td>42.245858</td>\n",
       "      <td>39.853387</td>\n",
       "      <td>44.638329</td>\n",
       "    </tr>\n",
       "    <tr>\n",
       "      <th>2020-03-06</th>\n",
       "      <td>43.365854</td>\n",
       "      <td>43.216785</td>\n",
       "      <td>40.825188</td>\n",
       "      <td>45.608383</td>\n",
       "    </tr>\n",
       "    <tr>\n",
       "      <th>2020-03-13</th>\n",
       "      <td>36.150602</td>\n",
       "      <td>37.236887</td>\n",
       "      <td>34.846118</td>\n",
       "      <td>39.627656</td>\n",
       "    </tr>\n",
       "    <tr>\n",
       "      <th>2020-03-20</th>\n",
       "      <td>43.000000</td>\n",
       "      <td>42.717473</td>\n",
       "      <td>40.327490</td>\n",
       "      <td>45.107455</td>\n",
       "    </tr>\n",
       "    <tr>\n",
       "      <th>2020-03-27</th>\n",
       "      <td>41.657143</td>\n",
       "      <td>40.371889</td>\n",
       "      <td>37.982653</td>\n",
       "      <td>42.761125</td>\n",
       "    </tr>\n",
       "    <tr>\n",
       "      <th>2020-04-03</th>\n",
       "      <td>43.035714</td>\n",
       "      <td>43.182405</td>\n",
       "      <td>40.793880</td>\n",
       "      <td>45.570930</td>\n",
       "    </tr>\n",
       "    <tr>\n",
       "      <th>2020-04-10</th>\n",
       "      <td>37.634146</td>\n",
       "      <td>34.752499</td>\n",
       "      <td>32.364651</td>\n",
       "      <td>37.140347</td>\n",
       "    </tr>\n",
       "    <tr>\n",
       "      <th>2020-04-17</th>\n",
       "      <td>43.518987</td>\n",
       "      <td>43.518609</td>\n",
       "      <td>41.131407</td>\n",
       "      <td>45.905811</td>\n",
       "    </tr>\n",
       "    <tr>\n",
       "      <th>2020-04-24</th>\n",
       "      <td>43.488372</td>\n",
       "      <td>43.134151</td>\n",
       "      <td>40.753672</td>\n",
       "      <td>45.514630</td>\n",
       "    </tr>\n",
       "    <tr>\n",
       "      <th>2020-05-01</th>\n",
       "      <td>37.162791</td>\n",
       "      <td>35.258528</td>\n",
       "      <td>32.878918</td>\n",
       "      <td>37.638137</td>\n",
       "    </tr>\n",
       "    <tr>\n",
       "      <th>2020-05-08</th>\n",
       "      <td>42.800000</td>\n",
       "      <td>43.122394</td>\n",
       "      <td>40.743609</td>\n",
       "      <td>45.501179</td>\n",
       "    </tr>\n",
       "    <tr>\n",
       "      <th>2020-05-15</th>\n",
       "      <td>43.952941</td>\n",
       "      <td>42.895012</td>\n",
       "      <td>40.517009</td>\n",
       "      <td>45.273015</td>\n",
       "    </tr>\n",
       "    <tr>\n",
       "      <th>2020-05-22</th>\n",
       "      <td>36.982353</td>\n",
       "      <td>42.576214</td>\n",
       "      <td>40.198954</td>\n",
       "      <td>44.953474</td>\n",
       "    </tr>\n",
       "    <tr>\n",
       "      <th>2020-05-29</th>\n",
       "      <td>32.575000</td>\n",
       "      <td>33.859173</td>\n",
       "      <td>31.482620</td>\n",
       "      <td>36.235725</td>\n",
       "    </tr>\n",
       "    <tr>\n",
       "      <th>2020-06-05</th>\n",
       "      <td>42.164706</td>\n",
       "      <td>42.468477</td>\n",
       "      <td>40.092598</td>\n",
       "      <td>44.844355</td>\n",
       "    </tr>\n",
       "    <tr>\n",
       "      <th>2020-06-12</th>\n",
       "      <td>42.821429</td>\n",
       "      <td>42.692609</td>\n",
       "      <td>40.317373</td>\n",
       "      <td>45.067846</td>\n",
       "    </tr>\n",
       "    <tr>\n",
       "      <th>2020-06-19</th>\n",
       "      <td>43.417647</td>\n",
       "      <td>42.388595</td>\n",
       "      <td>40.013972</td>\n",
       "      <td>44.763218</td>\n",
       "    </tr>\n",
       "    <tr>\n",
       "      <th>2020-06-26</th>\n",
       "      <td>43.172619</td>\n",
       "      <td>43.052728</td>\n",
       "      <td>40.678692</td>\n",
       "      <td>45.426764</td>\n",
       "    </tr>\n",
       "    <tr>\n",
       "      <th>2020-07-03</th>\n",
       "      <td>42.843373</td>\n",
       "      <td>42.954929</td>\n",
       "      <td>40.581454</td>\n",
       "      <td>45.328405</td>\n",
       "    </tr>\n",
       "    <tr>\n",
       "      <th>2020-07-10</th>\n",
       "      <td>42.518072</td>\n",
       "      <td>42.863857</td>\n",
       "      <td>40.490919</td>\n",
       "      <td>45.236795</td>\n",
       "    </tr>\n",
       "    <tr>\n",
       "      <th>2020-07-17</th>\n",
       "      <td>43.134146</td>\n",
       "      <td>42.831833</td>\n",
       "      <td>40.464417</td>\n",
       "      <td>45.199249</td>\n",
       "    </tr>\n",
       "    <tr>\n",
       "      <th>2020-07-24</th>\n",
       "      <td>43.809524</td>\n",
       "      <td>43.173408</td>\n",
       "      <td>40.806696</td>\n",
       "      <td>45.540120</td>\n",
       "    </tr>\n",
       "    <tr>\n",
       "      <th>2020-07-31</th>\n",
       "      <td>45.012048</td>\n",
       "      <td>42.668133</td>\n",
       "      <td>40.302092</td>\n",
       "      <td>45.034174</td>\n",
       "    </tr>\n",
       "    <tr>\n",
       "      <th>2020-08-07</th>\n",
       "      <td>NaN</td>\n",
       "      <td>43.303445</td>\n",
       "      <td>40.938044</td>\n",
       "      <td>45.668846</td>\n",
       "    </tr>\n",
       "    <tr>\n",
       "      <th>2020-08-14</th>\n",
       "      <td>NaN</td>\n",
       "      <td>39.818448</td>\n",
       "      <td>37.399788</td>\n",
       "      <td>42.237108</td>\n",
       "    </tr>\n",
       "    <tr>\n",
       "      <th>2020-08-21</th>\n",
       "      <td>NaN</td>\n",
       "      <td>42.609472</td>\n",
       "      <td>40.186940</td>\n",
       "      <td>45.032003</td>\n",
       "    </tr>\n",
       "    <tr>\n",
       "      <th>2020-08-28</th>\n",
       "      <td>NaN</td>\n",
       "      <td>42.855747</td>\n",
       "      <td>40.432702</td>\n",
       "      <td>45.278792</td>\n",
       "    </tr>\n",
       "    <tr>\n",
       "      <th>2020-09-04</th>\n",
       "      <td>NaN</td>\n",
       "      <td>42.858939</td>\n",
       "      <td>40.435804</td>\n",
       "      <td>45.282073</td>\n",
       "    </tr>\n",
       "    <tr>\n",
       "      <th>2020-09-11</th>\n",
       "      <td>NaN</td>\n",
       "      <td>42.508704</td>\n",
       "      <td>40.085552</td>\n",
       "      <td>44.931856</td>\n",
       "    </tr>\n",
       "    <tr>\n",
       "      <th>2020-09-18</th>\n",
       "      <td>NaN</td>\n",
       "      <td>42.887795</td>\n",
       "      <td>40.464640</td>\n",
       "      <td>45.310950</td>\n",
       "    </tr>\n",
       "    <tr>\n",
       "      <th>2020-09-25</th>\n",
       "      <td>NaN</td>\n",
       "      <td>42.886340</td>\n",
       "      <td>40.463185</td>\n",
       "      <td>45.309496</td>\n",
       "    </tr>\n",
       "    <tr>\n",
       "      <th>2020-10-02</th>\n",
       "      <td>NaN</td>\n",
       "      <td>34.885497</td>\n",
       "      <td>32.462342</td>\n",
       "      <td>37.308653</td>\n",
       "    </tr>\n",
       "    <tr>\n",
       "      <th>2020-10-09</th>\n",
       "      <td>NaN</td>\n",
       "      <td>42.929939</td>\n",
       "      <td>40.509026</td>\n",
       "      <td>45.350852</td>\n",
       "    </tr>\n",
       "    <tr>\n",
       "      <th>2020-10-16</th>\n",
       "      <td>NaN</td>\n",
       "      <td>43.191805</td>\n",
       "      <td>40.770065</td>\n",
       "      <td>45.613546</td>\n",
       "    </tr>\n",
       "    <tr>\n",
       "      <th>2020-10-23</th>\n",
       "      <td>NaN</td>\n",
       "      <td>36.770472</td>\n",
       "      <td>34.348527</td>\n",
       "      <td>39.192417</td>\n",
       "    </tr>\n",
       "    <tr>\n",
       "      <th>2020-10-30</th>\n",
       "      <td>NaN</td>\n",
       "      <td>34.853840</td>\n",
       "      <td>32.418008</td>\n",
       "      <td>37.289673</td>\n",
       "    </tr>\n",
       "    <tr>\n",
       "      <th>2020-11-06</th>\n",
       "      <td>NaN</td>\n",
       "      <td>41.652365</td>\n",
       "      <td>39.215042</td>\n",
       "      <td>44.089688</td>\n",
       "    </tr>\n",
       "    <tr>\n",
       "      <th>2020-11-13</th>\n",
       "      <td>NaN</td>\n",
       "      <td>42.520553</td>\n",
       "      <td>40.082987</td>\n",
       "      <td>44.958119</td>\n",
       "    </tr>\n",
       "    <tr>\n",
       "      <th>2020-11-20</th>\n",
       "      <td>NaN</td>\n",
       "      <td>34.825874</td>\n",
       "      <td>32.388264</td>\n",
       "      <td>37.263485</td>\n",
       "    </tr>\n",
       "    <tr>\n",
       "      <th>2020-11-27</th>\n",
       "      <td>NaN</td>\n",
       "      <td>42.785010</td>\n",
       "      <td>40.347391</td>\n",
       "      <td>45.222629</td>\n",
       "    </tr>\n",
       "    <tr>\n",
       "      <th>2020-12-04</th>\n",
       "      <td>NaN</td>\n",
       "      <td>42.435239</td>\n",
       "      <td>39.997618</td>\n",
       "      <td>44.872859</td>\n",
       "    </tr>\n",
       "    <tr>\n",
       "      <th>2020-12-11</th>\n",
       "      <td>NaN</td>\n",
       "      <td>42.814418</td>\n",
       "      <td>40.376797</td>\n",
       "      <td>45.252039</td>\n",
       "    </tr>\n",
       "    <tr>\n",
       "      <th>2020-12-18</th>\n",
       "      <td>NaN</td>\n",
       "      <td>42.812981</td>\n",
       "      <td>40.375359</td>\n",
       "      <td>45.250602</td>\n",
       "    </tr>\n",
       "    <tr>\n",
       "      <th>2020-12-25</th>\n",
       "      <td>NaN</td>\n",
       "      <td>34.812141</td>\n",
       "      <td>32.374520</td>\n",
       "      <td>37.249762</td>\n",
       "    </tr>\n",
       "  </tbody>\n",
       "</table>\n",
       "</div>"
      ],
      "text/plain": [
       "                    Actual  Mean predictions  Lower Predicted Hours  \\\n",
       "Weekending Date                                                       \n",
       "2020-01-03       40.625000         42.465517              40.058139   \n",
       "2020-01-10       44.304878         42.348257              39.941758   \n",
       "2020-01-17       39.111111         41.206023              38.800358   \n",
       "2020-01-24       37.395062         36.488922              34.084048   \n",
       "2020-01-31       42.712500         43.035901              40.639392   \n",
       "2020-02-07       44.000000         42.827409              40.432000   \n",
       "2020-02-14       42.209877         42.832909              40.438537   \n",
       "2020-02-21       43.925000         42.493262              40.099867   \n",
       "2020-02-28       44.135802         42.245858              39.853387   \n",
       "2020-03-06       43.365854         43.216785              40.825188   \n",
       "2020-03-13       36.150602         37.236887              34.846118   \n",
       "2020-03-20       43.000000         42.717473              40.327490   \n",
       "2020-03-27       41.657143         40.371889              37.982653   \n",
       "2020-04-03       43.035714         43.182405              40.793880   \n",
       "2020-04-10       37.634146         34.752499              32.364651   \n",
       "2020-04-17       43.518987         43.518609              41.131407   \n",
       "2020-04-24       43.488372         43.134151              40.753672   \n",
       "2020-05-01       37.162791         35.258528              32.878918   \n",
       "2020-05-08       42.800000         43.122394              40.743609   \n",
       "2020-05-15       43.952941         42.895012              40.517009   \n",
       "2020-05-22       36.982353         42.576214              40.198954   \n",
       "2020-05-29       32.575000         33.859173              31.482620   \n",
       "2020-06-05       42.164706         42.468477              40.092598   \n",
       "2020-06-12       42.821429         42.692609              40.317373   \n",
       "2020-06-19       43.417647         42.388595              40.013972   \n",
       "2020-06-26       43.172619         43.052728              40.678692   \n",
       "2020-07-03       42.843373         42.954929              40.581454   \n",
       "2020-07-10       42.518072         42.863857              40.490919   \n",
       "2020-07-17       43.134146         42.831833              40.464417   \n",
       "2020-07-24       43.809524         43.173408              40.806696   \n",
       "2020-07-31       45.012048         42.668133              40.302092   \n",
       "2020-08-07             NaN         43.303445              40.938044   \n",
       "2020-08-14             NaN         39.818448              37.399788   \n",
       "2020-08-21             NaN         42.609472              40.186940   \n",
       "2020-08-28             NaN         42.855747              40.432702   \n",
       "2020-09-04             NaN         42.858939              40.435804   \n",
       "2020-09-11             NaN         42.508704              40.085552   \n",
       "2020-09-18             NaN         42.887795              40.464640   \n",
       "2020-09-25             NaN         42.886340              40.463185   \n",
       "2020-10-02             NaN         34.885497              32.462342   \n",
       "2020-10-09             NaN         42.929939              40.509026   \n",
       "2020-10-16             NaN         43.191805              40.770065   \n",
       "2020-10-23             NaN         36.770472              34.348527   \n",
       "2020-10-30             NaN         34.853840              32.418008   \n",
       "2020-11-06             NaN         41.652365              39.215042   \n",
       "2020-11-13             NaN         42.520553              40.082987   \n",
       "2020-11-20             NaN         34.825874              32.388264   \n",
       "2020-11-27             NaN         42.785010              40.347391   \n",
       "2020-12-04             NaN         42.435239              39.997618   \n",
       "2020-12-11             NaN         42.814418              40.376797   \n",
       "2020-12-18             NaN         42.812981              40.375359   \n",
       "2020-12-25             NaN         34.812141              32.374520   \n",
       "\n",
       "                 Upper Predicted Hours  \n",
       "Weekending Date                         \n",
       "2020-01-03                   44.872894  \n",
       "2020-01-10                   44.754755  \n",
       "2020-01-17                   43.611688  \n",
       "2020-01-24                   38.893796  \n",
       "2020-01-31                   45.432410  \n",
       "2020-02-07                   45.222817  \n",
       "2020-02-14                   45.227282  \n",
       "2020-02-21                   44.886656  \n",
       "2020-02-28                   44.638329  \n",
       "2020-03-06                   45.608383  \n",
       "2020-03-13                   39.627656  \n",
       "2020-03-20                   45.107455  \n",
       "2020-03-27                   42.761125  \n",
       "2020-04-03                   45.570930  \n",
       "2020-04-10                   37.140347  \n",
       "2020-04-17                   45.905811  \n",
       "2020-04-24                   45.514630  \n",
       "2020-05-01                   37.638137  \n",
       "2020-05-08                   45.501179  \n",
       "2020-05-15                   45.273015  \n",
       "2020-05-22                   44.953474  \n",
       "2020-05-29                   36.235725  \n",
       "2020-06-05                   44.844355  \n",
       "2020-06-12                   45.067846  \n",
       "2020-06-19                   44.763218  \n",
       "2020-06-26                   45.426764  \n",
       "2020-07-03                   45.328405  \n",
       "2020-07-10                   45.236795  \n",
       "2020-07-17                   45.199249  \n",
       "2020-07-24                   45.540120  \n",
       "2020-07-31                   45.034174  \n",
       "2020-08-07                   45.668846  \n",
       "2020-08-14                   42.237108  \n",
       "2020-08-21                   45.032003  \n",
       "2020-08-28                   45.278792  \n",
       "2020-09-04                   45.282073  \n",
       "2020-09-11                   44.931856  \n",
       "2020-09-18                   45.310950  \n",
       "2020-09-25                   45.309496  \n",
       "2020-10-02                   37.308653  \n",
       "2020-10-09                   45.350852  \n",
       "2020-10-16                   45.613546  \n",
       "2020-10-23                   39.192417  \n",
       "2020-10-30                   37.289673  \n",
       "2020-11-06                   44.089688  \n",
       "2020-11-13                   44.958119  \n",
       "2020-11-20                   37.263485  \n",
       "2020-11-27                   45.222629  \n",
       "2020-12-04                   44.872859  \n",
       "2020-12-11                   45.252039  \n",
       "2020-12-18                   45.250602  \n",
       "2020-12-25                   37.249762  "
      ]
     },
     "execution_count": 31,
     "metadata": {},
     "output_type": "execute_result"
    }
   ],
   "source": [
    "# as we see some index as Dates while some others as DateTime, we will convert it into date\n",
    "df_concat.index = pd.to_datetime(df_concat.index)\n",
    "df_concat.index.name = 'Weekending Date'\n",
    "df_concat"
   ]
  },
  {
   "cell_type": "code",
   "execution_count": 32,
   "metadata": {},
   "outputs": [
    {
     "data": {
      "application/vnd.plotly.v1+json": {
       "config": {
        "linkText": "Export to plot.ly",
        "plotlyServerURL": "https://plot.ly",
        "showLink": true
       },
       "data": [
        {
         "line": {
          "color": "rgba(255, 153, 51, 1.0)",
          "dash": "solid",
          "shape": "linear",
          "width": 1.3
         },
         "mode": "lines",
         "name": "Actual",
         "text": "",
         "type": "scatter",
         "x": [
          "2020-01-03",
          "2020-01-10",
          "2020-01-17",
          "2020-01-24",
          "2020-01-31",
          "2020-02-07",
          "2020-02-14",
          "2020-02-21",
          "2020-02-28",
          "2020-03-06",
          "2020-03-13",
          "2020-03-20",
          "2020-03-27",
          "2020-04-03",
          "2020-04-10",
          "2020-04-17",
          "2020-04-24",
          "2020-05-01",
          "2020-05-08",
          "2020-05-15",
          "2020-05-22",
          "2020-05-29",
          "2020-06-05",
          "2020-06-12",
          "2020-06-19",
          "2020-06-26",
          "2020-07-03",
          "2020-07-10",
          "2020-07-17",
          "2020-07-24",
          "2020-07-31",
          "2020-08-07",
          "2020-08-14",
          "2020-08-21",
          "2020-08-28",
          "2020-09-04",
          "2020-09-11",
          "2020-09-18",
          "2020-09-25",
          "2020-10-02",
          "2020-10-09",
          "2020-10-16",
          "2020-10-23",
          "2020-10-30",
          "2020-11-06",
          "2020-11-13",
          "2020-11-20",
          "2020-11-27",
          "2020-12-04",
          "2020-12-11",
          "2020-12-18",
          "2020-12-25"
         ],
         "y": [
          40.625,
          44.30487804878049,
          39.11111111111111,
          37.39506172839506,
          42.7125,
          44,
          42.20987654320987,
          43.925,
          44.1358024691358,
          43.36585365853659,
          36.15060240963855,
          43,
          41.65714285714286,
          43.03571428571428,
          37.63414634146341,
          43.51898734177215,
          43.48837209302326,
          37.16279069767442,
          42.8,
          43.95294117647059,
          36.98235294117647,
          32.575,
          42.16470588235294,
          42.82142857142857,
          43.41764705882353,
          43.17261904761905,
          42.8433734939759,
          42.51807228915663,
          43.13414634146341,
          43.80952380952381,
          45.01204819277108,
          "",
          "",
          "",
          "",
          "",
          "",
          "",
          "",
          "",
          "",
          "",
          "",
          "",
          "",
          "",
          "",
          "",
          "",
          "",
          "",
          ""
         ]
        },
        {
         "line": {
          "color": "rgba(55, 128, 191, 1.0)",
          "dash": "solid",
          "shape": "linear",
          "width": 1.3
         },
         "mode": "lines",
         "name": "Mean predictions",
         "text": "",
         "type": "scatter",
         "x": [
          "2020-01-03",
          "2020-01-10",
          "2020-01-17",
          "2020-01-24",
          "2020-01-31",
          "2020-02-07",
          "2020-02-14",
          "2020-02-21",
          "2020-02-28",
          "2020-03-06",
          "2020-03-13",
          "2020-03-20",
          "2020-03-27",
          "2020-04-03",
          "2020-04-10",
          "2020-04-17",
          "2020-04-24",
          "2020-05-01",
          "2020-05-08",
          "2020-05-15",
          "2020-05-22",
          "2020-05-29",
          "2020-06-05",
          "2020-06-12",
          "2020-06-19",
          "2020-06-26",
          "2020-07-03",
          "2020-07-10",
          "2020-07-17",
          "2020-07-24",
          "2020-07-31",
          "2020-08-07",
          "2020-08-14",
          "2020-08-21",
          "2020-08-28",
          "2020-09-04",
          "2020-09-11",
          "2020-09-18",
          "2020-09-25",
          "2020-10-02",
          "2020-10-09",
          "2020-10-16",
          "2020-10-23",
          "2020-10-30",
          "2020-11-06",
          "2020-11-13",
          "2020-11-20",
          "2020-11-27",
          "2020-12-04",
          "2020-12-11",
          "2020-12-18",
          "2020-12-25"
         ],
         "y": [
          42.46551664089236,
          42.34825655661422,
          41.20602262780562,
          36.48892212153733,
          43.03590079681941,
          42.827408738753476,
          42.832909356023265,
          42.49326160442685,
          42.24585785861944,
          43.216785426594726,
          37.236886934020845,
          42.717472506383764,
          40.37188891982962,
          43.182405215505824,
          34.752498929008524,
          43.518609026651276,
          43.13415128325385,
          35.25852759186302,
          43.12239377439347,
          42.89501221407515,
          42.57621401425507,
          33.85917259017143,
          42.468476537095,
          42.69260944763202,
          42.38859479338308,
          43.052728042941446,
          42.9549293264343,
          42.86385737107431,
          42.83183330473122,
          43.173408175769666,
          42.66813294403088,
          43.30344535021583,
          39.81844812108781,
          42.6094716430355,
          42.85574687733778,
          42.85893853028075,
          42.508704137042464,
          42.88779491965729,
          42.8863402183613,
          34.885497396514474,
          42.929939367315804,
          43.19180547133023,
          36.77047214424016,
          34.85384024848702,
          41.65236509704163,
          42.52055284655642,
          34.82587443750746,
          42.785009893350285,
          42.43523854227118,
          42.814418172012935,
          42.812980518434536,
          34.812140967652134
         ]
        }
       ],
       "layout": {
        "legend": {
         "bgcolor": "#F5F6F9",
         "font": {
          "color": "#4D5663"
         }
        },
        "paper_bgcolor": "#F5F6F9",
        "plot_bgcolor": "#F5F6F9",
        "template": {
         "data": {
          "bar": [
           {
            "error_x": {
             "color": "#2a3f5f"
            },
            "error_y": {
             "color": "#2a3f5f"
            },
            "marker": {
             "line": {
              "color": "#E5ECF6",
              "width": 0.5
             }
            },
            "type": "bar"
           }
          ],
          "barpolar": [
           {
            "marker": {
             "line": {
              "color": "#E5ECF6",
              "width": 0.5
             }
            },
            "type": "barpolar"
           }
          ],
          "carpet": [
           {
            "aaxis": {
             "endlinecolor": "#2a3f5f",
             "gridcolor": "white",
             "linecolor": "white",
             "minorgridcolor": "white",
             "startlinecolor": "#2a3f5f"
            },
            "baxis": {
             "endlinecolor": "#2a3f5f",
             "gridcolor": "white",
             "linecolor": "white",
             "minorgridcolor": "white",
             "startlinecolor": "#2a3f5f"
            },
            "type": "carpet"
           }
          ],
          "choropleth": [
           {
            "colorbar": {
             "outlinewidth": 0,
             "ticks": ""
            },
            "type": "choropleth"
           }
          ],
          "contour": [
           {
            "colorbar": {
             "outlinewidth": 0,
             "ticks": ""
            },
            "colorscale": [
             [
              0,
              "#0d0887"
             ],
             [
              0.1111111111111111,
              "#46039f"
             ],
             [
              0.2222222222222222,
              "#7201a8"
             ],
             [
              0.3333333333333333,
              "#9c179e"
             ],
             [
              0.4444444444444444,
              "#bd3786"
             ],
             [
              0.5555555555555556,
              "#d8576b"
             ],
             [
              0.6666666666666666,
              "#ed7953"
             ],
             [
              0.7777777777777778,
              "#fb9f3a"
             ],
             [
              0.8888888888888888,
              "#fdca26"
             ],
             [
              1,
              "#f0f921"
             ]
            ],
            "type": "contour"
           }
          ],
          "contourcarpet": [
           {
            "colorbar": {
             "outlinewidth": 0,
             "ticks": ""
            },
            "type": "contourcarpet"
           }
          ],
          "heatmap": [
           {
            "colorbar": {
             "outlinewidth": 0,
             "ticks": ""
            },
            "colorscale": [
             [
              0,
              "#0d0887"
             ],
             [
              0.1111111111111111,
              "#46039f"
             ],
             [
              0.2222222222222222,
              "#7201a8"
             ],
             [
              0.3333333333333333,
              "#9c179e"
             ],
             [
              0.4444444444444444,
              "#bd3786"
             ],
             [
              0.5555555555555556,
              "#d8576b"
             ],
             [
              0.6666666666666666,
              "#ed7953"
             ],
             [
              0.7777777777777778,
              "#fb9f3a"
             ],
             [
              0.8888888888888888,
              "#fdca26"
             ],
             [
              1,
              "#f0f921"
             ]
            ],
            "type": "heatmap"
           }
          ],
          "heatmapgl": [
           {
            "colorbar": {
             "outlinewidth": 0,
             "ticks": ""
            },
            "colorscale": [
             [
              0,
              "#0d0887"
             ],
             [
              0.1111111111111111,
              "#46039f"
             ],
             [
              0.2222222222222222,
              "#7201a8"
             ],
             [
              0.3333333333333333,
              "#9c179e"
             ],
             [
              0.4444444444444444,
              "#bd3786"
             ],
             [
              0.5555555555555556,
              "#d8576b"
             ],
             [
              0.6666666666666666,
              "#ed7953"
             ],
             [
              0.7777777777777778,
              "#fb9f3a"
             ],
             [
              0.8888888888888888,
              "#fdca26"
             ],
             [
              1,
              "#f0f921"
             ]
            ],
            "type": "heatmapgl"
           }
          ],
          "histogram": [
           {
            "marker": {
             "colorbar": {
              "outlinewidth": 0,
              "ticks": ""
             }
            },
            "type": "histogram"
           }
          ],
          "histogram2d": [
           {
            "colorbar": {
             "outlinewidth": 0,
             "ticks": ""
            },
            "colorscale": [
             [
              0,
              "#0d0887"
             ],
             [
              0.1111111111111111,
              "#46039f"
             ],
             [
              0.2222222222222222,
              "#7201a8"
             ],
             [
              0.3333333333333333,
              "#9c179e"
             ],
             [
              0.4444444444444444,
              "#bd3786"
             ],
             [
              0.5555555555555556,
              "#d8576b"
             ],
             [
              0.6666666666666666,
              "#ed7953"
             ],
             [
              0.7777777777777778,
              "#fb9f3a"
             ],
             [
              0.8888888888888888,
              "#fdca26"
             ],
             [
              1,
              "#f0f921"
             ]
            ],
            "type": "histogram2d"
           }
          ],
          "histogram2dcontour": [
           {
            "colorbar": {
             "outlinewidth": 0,
             "ticks": ""
            },
            "colorscale": [
             [
              0,
              "#0d0887"
             ],
             [
              0.1111111111111111,
              "#46039f"
             ],
             [
              0.2222222222222222,
              "#7201a8"
             ],
             [
              0.3333333333333333,
              "#9c179e"
             ],
             [
              0.4444444444444444,
              "#bd3786"
             ],
             [
              0.5555555555555556,
              "#d8576b"
             ],
             [
              0.6666666666666666,
              "#ed7953"
             ],
             [
              0.7777777777777778,
              "#fb9f3a"
             ],
             [
              0.8888888888888888,
              "#fdca26"
             ],
             [
              1,
              "#f0f921"
             ]
            ],
            "type": "histogram2dcontour"
           }
          ],
          "mesh3d": [
           {
            "colorbar": {
             "outlinewidth": 0,
             "ticks": ""
            },
            "type": "mesh3d"
           }
          ],
          "parcoords": [
           {
            "line": {
             "colorbar": {
              "outlinewidth": 0,
              "ticks": ""
             }
            },
            "type": "parcoords"
           }
          ],
          "pie": [
           {
            "automargin": true,
            "type": "pie"
           }
          ],
          "scatter": [
           {
            "marker": {
             "colorbar": {
              "outlinewidth": 0,
              "ticks": ""
             }
            },
            "type": "scatter"
           }
          ],
          "scatter3d": [
           {
            "line": {
             "colorbar": {
              "outlinewidth": 0,
              "ticks": ""
             }
            },
            "marker": {
             "colorbar": {
              "outlinewidth": 0,
              "ticks": ""
             }
            },
            "type": "scatter3d"
           }
          ],
          "scattercarpet": [
           {
            "marker": {
             "colorbar": {
              "outlinewidth": 0,
              "ticks": ""
             }
            },
            "type": "scattercarpet"
           }
          ],
          "scattergeo": [
           {
            "marker": {
             "colorbar": {
              "outlinewidth": 0,
              "ticks": ""
             }
            },
            "type": "scattergeo"
           }
          ],
          "scattergl": [
           {
            "marker": {
             "colorbar": {
              "outlinewidth": 0,
              "ticks": ""
             }
            },
            "type": "scattergl"
           }
          ],
          "scattermapbox": [
           {
            "marker": {
             "colorbar": {
              "outlinewidth": 0,
              "ticks": ""
             }
            },
            "type": "scattermapbox"
           }
          ],
          "scatterpolar": [
           {
            "marker": {
             "colorbar": {
              "outlinewidth": 0,
              "ticks": ""
             }
            },
            "type": "scatterpolar"
           }
          ],
          "scatterpolargl": [
           {
            "marker": {
             "colorbar": {
              "outlinewidth": 0,
              "ticks": ""
             }
            },
            "type": "scatterpolargl"
           }
          ],
          "scatterternary": [
           {
            "marker": {
             "colorbar": {
              "outlinewidth": 0,
              "ticks": ""
             }
            },
            "type": "scatterternary"
           }
          ],
          "surface": [
           {
            "colorbar": {
             "outlinewidth": 0,
             "ticks": ""
            },
            "colorscale": [
             [
              0,
              "#0d0887"
             ],
             [
              0.1111111111111111,
              "#46039f"
             ],
             [
              0.2222222222222222,
              "#7201a8"
             ],
             [
              0.3333333333333333,
              "#9c179e"
             ],
             [
              0.4444444444444444,
              "#bd3786"
             ],
             [
              0.5555555555555556,
              "#d8576b"
             ],
             [
              0.6666666666666666,
              "#ed7953"
             ],
             [
              0.7777777777777778,
              "#fb9f3a"
             ],
             [
              0.8888888888888888,
              "#fdca26"
             ],
             [
              1,
              "#f0f921"
             ]
            ],
            "type": "surface"
           }
          ],
          "table": [
           {
            "cells": {
             "fill": {
              "color": "#EBF0F8"
             },
             "line": {
              "color": "white"
             }
            },
            "header": {
             "fill": {
              "color": "#C8D4E3"
             },
             "line": {
              "color": "white"
             }
            },
            "type": "table"
           }
          ]
         },
         "layout": {
          "annotationdefaults": {
           "arrowcolor": "#2a3f5f",
           "arrowhead": 0,
           "arrowwidth": 1
          },
          "coloraxis": {
           "colorbar": {
            "outlinewidth": 0,
            "ticks": ""
           }
          },
          "colorscale": {
           "diverging": [
            [
             0,
             "#8e0152"
            ],
            [
             0.1,
             "#c51b7d"
            ],
            [
             0.2,
             "#de77ae"
            ],
            [
             0.3,
             "#f1b6da"
            ],
            [
             0.4,
             "#fde0ef"
            ],
            [
             0.5,
             "#f7f7f7"
            ],
            [
             0.6,
             "#e6f5d0"
            ],
            [
             0.7,
             "#b8e186"
            ],
            [
             0.8,
             "#7fbc41"
            ],
            [
             0.9,
             "#4d9221"
            ],
            [
             1,
             "#276419"
            ]
           ],
           "sequential": [
            [
             0,
             "#0d0887"
            ],
            [
             0.1111111111111111,
             "#46039f"
            ],
            [
             0.2222222222222222,
             "#7201a8"
            ],
            [
             0.3333333333333333,
             "#9c179e"
            ],
            [
             0.4444444444444444,
             "#bd3786"
            ],
            [
             0.5555555555555556,
             "#d8576b"
            ],
            [
             0.6666666666666666,
             "#ed7953"
            ],
            [
             0.7777777777777778,
             "#fb9f3a"
            ],
            [
             0.8888888888888888,
             "#fdca26"
            ],
            [
             1,
             "#f0f921"
            ]
           ],
           "sequentialminus": [
            [
             0,
             "#0d0887"
            ],
            [
             0.1111111111111111,
             "#46039f"
            ],
            [
             0.2222222222222222,
             "#7201a8"
            ],
            [
             0.3333333333333333,
             "#9c179e"
            ],
            [
             0.4444444444444444,
             "#bd3786"
            ],
            [
             0.5555555555555556,
             "#d8576b"
            ],
            [
             0.6666666666666666,
             "#ed7953"
            ],
            [
             0.7777777777777778,
             "#fb9f3a"
            ],
            [
             0.8888888888888888,
             "#fdca26"
            ],
            [
             1,
             "#f0f921"
            ]
           ]
          },
          "colorway": [
           "#636efa",
           "#EF553B",
           "#00cc96",
           "#ab63fa",
           "#FFA15A",
           "#19d3f3",
           "#FF6692",
           "#B6E880",
           "#FF97FF",
           "#FECB52"
          ],
          "font": {
           "color": "#2a3f5f"
          },
          "geo": {
           "bgcolor": "white",
           "lakecolor": "white",
           "landcolor": "#E5ECF6",
           "showlakes": true,
           "showland": true,
           "subunitcolor": "white"
          },
          "hoverlabel": {
           "align": "left"
          },
          "hovermode": "closest",
          "mapbox": {
           "style": "light"
          },
          "paper_bgcolor": "white",
          "plot_bgcolor": "#E5ECF6",
          "polar": {
           "angularaxis": {
            "gridcolor": "white",
            "linecolor": "white",
            "ticks": ""
           },
           "bgcolor": "#E5ECF6",
           "radialaxis": {
            "gridcolor": "white",
            "linecolor": "white",
            "ticks": ""
           }
          },
          "scene": {
           "xaxis": {
            "backgroundcolor": "#E5ECF6",
            "gridcolor": "white",
            "gridwidth": 2,
            "linecolor": "white",
            "showbackground": true,
            "ticks": "",
            "zerolinecolor": "white"
           },
           "yaxis": {
            "backgroundcolor": "#E5ECF6",
            "gridcolor": "white",
            "gridwidth": 2,
            "linecolor": "white",
            "showbackground": true,
            "ticks": "",
            "zerolinecolor": "white"
           },
           "zaxis": {
            "backgroundcolor": "#E5ECF6",
            "gridcolor": "white",
            "gridwidth": 2,
            "linecolor": "white",
            "showbackground": true,
            "ticks": "",
            "zerolinecolor": "white"
           }
          },
          "shapedefaults": {
           "line": {
            "color": "#2a3f5f"
           }
          },
          "ternary": {
           "aaxis": {
            "gridcolor": "white",
            "linecolor": "white",
            "ticks": ""
           },
           "baxis": {
            "gridcolor": "white",
            "linecolor": "white",
            "ticks": ""
           },
           "bgcolor": "#E5ECF6",
           "caxis": {
            "gridcolor": "white",
            "linecolor": "white",
            "ticks": ""
           }
          },
          "title": {
           "x": 0.05
          },
          "xaxis": {
           "automargin": true,
           "gridcolor": "white",
           "linecolor": "white",
           "ticks": "",
           "title": {
            "standoff": 15
           },
           "zerolinecolor": "white",
           "zerolinewidth": 2
          },
          "yaxis": {
           "automargin": true,
           "gridcolor": "white",
           "linecolor": "white",
           "ticks": "",
           "title": {
            "standoff": 15
           },
           "zerolinecolor": "white",
           "zerolinewidth": 2
          }
         }
        },
        "title": {
         "font": {
          "color": "#4D5663"
         },
         "text": "Actual vs Forecast ILC for year 2020"
        },
        "xaxis": {
         "gridcolor": "#E1E5ED",
         "showgrid": true,
         "tickfont": {
          "color": "#4D5663"
         },
         "title": {
          "font": {
           "color": "#4D5663"
          },
          "text": "Week"
         },
         "zerolinecolor": "#E1E5ED"
        },
        "yaxis": {
         "gridcolor": "#E1E5ED",
         "showgrid": true,
         "tickfont": {
          "color": "#4D5663"
         },
         "title": {
          "font": {
           "color": "#4D5663"
          },
          "text": "Efforts in hours"
         },
         "zerolinecolor": "#E1E5ED"
        }
       }
      },
      "text/html": [
       "<div>\n",
       "        \n",
       "        \n",
       "            <div id=\"a483918c-dacd-4226-8531-3bf064bdb1b8\" class=\"plotly-graph-div\" style=\"height:525px; width:100%;\"></div>\n",
       "            <script type=\"text/javascript\">\n",
       "                require([\"plotly\"], function(Plotly) {\n",
       "                    window.PLOTLYENV=window.PLOTLYENV || {};\n",
       "                    window.PLOTLYENV.BASE_URL='https://plot.ly';\n",
       "                    \n",
       "                if (document.getElementById(\"a483918c-dacd-4226-8531-3bf064bdb1b8\")) {\n",
       "                    Plotly.newPlot(\n",
       "                        'a483918c-dacd-4226-8531-3bf064bdb1b8',\n",
       "                        [{\"line\": {\"color\": \"rgba(255, 153, 51, 1.0)\", \"dash\": \"solid\", \"shape\": \"linear\", \"width\": 1.3}, \"mode\": \"lines\", \"name\": \"Actual\", \"text\": \"\", \"type\": \"scatter\", \"x\": [\"2020-01-03\", \"2020-01-10\", \"2020-01-17\", \"2020-01-24\", \"2020-01-31\", \"2020-02-07\", \"2020-02-14\", \"2020-02-21\", \"2020-02-28\", \"2020-03-06\", \"2020-03-13\", \"2020-03-20\", \"2020-03-27\", \"2020-04-03\", \"2020-04-10\", \"2020-04-17\", \"2020-04-24\", \"2020-05-01\", \"2020-05-08\", \"2020-05-15\", \"2020-05-22\", \"2020-05-29\", \"2020-06-05\", \"2020-06-12\", \"2020-06-19\", \"2020-06-26\", \"2020-07-03\", \"2020-07-10\", \"2020-07-17\", \"2020-07-24\", \"2020-07-31\", \"2020-08-07\", \"2020-08-14\", \"2020-08-21\", \"2020-08-28\", \"2020-09-04\", \"2020-09-11\", \"2020-09-18\", \"2020-09-25\", \"2020-10-02\", \"2020-10-09\", \"2020-10-16\", \"2020-10-23\", \"2020-10-30\", \"2020-11-06\", \"2020-11-13\", \"2020-11-20\", \"2020-11-27\", \"2020-12-04\", \"2020-12-11\", \"2020-12-18\", \"2020-12-25\"], \"y\": [40.625, 44.30487804878049, 39.11111111111111, 37.39506172839506, 42.7125, 44.0, 42.20987654320987, 43.925, 44.1358024691358, 43.36585365853659, 36.15060240963855, 43.0, 41.65714285714286, 43.03571428571428, 37.63414634146341, 43.51898734177215, 43.48837209302326, 37.16279069767442, 42.8, 43.95294117647059, 36.98235294117647, 32.575, 42.16470588235294, 42.82142857142857, 43.41764705882353, 43.17261904761905, 42.8433734939759, 42.51807228915663, 43.13414634146341, 43.80952380952381, 45.01204819277108, \"\", \"\", \"\", \"\", \"\", \"\", \"\", \"\", \"\", \"\", \"\", \"\", \"\", \"\", \"\", \"\", \"\", \"\", \"\", \"\", \"\"]}, {\"line\": {\"color\": \"rgba(55, 128, 191, 1.0)\", \"dash\": \"solid\", \"shape\": \"linear\", \"width\": 1.3}, \"mode\": \"lines\", \"name\": \"Mean predictions\", \"text\": \"\", \"type\": \"scatter\", \"x\": [\"2020-01-03\", \"2020-01-10\", \"2020-01-17\", \"2020-01-24\", \"2020-01-31\", \"2020-02-07\", \"2020-02-14\", \"2020-02-21\", \"2020-02-28\", \"2020-03-06\", \"2020-03-13\", \"2020-03-20\", \"2020-03-27\", \"2020-04-03\", \"2020-04-10\", \"2020-04-17\", \"2020-04-24\", \"2020-05-01\", \"2020-05-08\", \"2020-05-15\", \"2020-05-22\", \"2020-05-29\", \"2020-06-05\", \"2020-06-12\", \"2020-06-19\", \"2020-06-26\", \"2020-07-03\", \"2020-07-10\", \"2020-07-17\", \"2020-07-24\", \"2020-07-31\", \"2020-08-07\", \"2020-08-14\", \"2020-08-21\", \"2020-08-28\", \"2020-09-04\", \"2020-09-11\", \"2020-09-18\", \"2020-09-25\", \"2020-10-02\", \"2020-10-09\", \"2020-10-16\", \"2020-10-23\", \"2020-10-30\", \"2020-11-06\", \"2020-11-13\", \"2020-11-20\", \"2020-11-27\", \"2020-12-04\", \"2020-12-11\", \"2020-12-18\", \"2020-12-25\"], \"y\": [42.46551664089236, 42.34825655661422, 41.20602262780562, 36.48892212153733, 43.03590079681941, 42.827408738753476, 42.832909356023265, 42.49326160442685, 42.24585785861944, 43.216785426594726, 37.236886934020845, 42.717472506383764, 40.37188891982962, 43.182405215505824, 34.752498929008524, 43.518609026651276, 43.13415128325385, 35.25852759186302, 43.12239377439347, 42.89501221407515, 42.57621401425507, 33.85917259017143, 42.468476537095, 42.69260944763202, 42.38859479338308, 43.052728042941446, 42.9549293264343, 42.86385737107431, 42.83183330473122, 43.173408175769666, 42.66813294403088, 43.30344535021583, 39.81844812108781, 42.6094716430355, 42.85574687733778, 42.85893853028075, 42.508704137042464, 42.88779491965729, 42.8863402183613, 34.885497396514474, 42.929939367315804, 43.19180547133023, 36.77047214424016, 34.85384024848702, 41.65236509704163, 42.52055284655642, 34.82587443750746, 42.785009893350285, 42.43523854227118, 42.814418172012935, 42.812980518434536, 34.812140967652134]}],\n",
       "                        {\"legend\": {\"bgcolor\": \"#F5F6F9\", \"font\": {\"color\": \"#4D5663\"}}, \"paper_bgcolor\": \"#F5F6F9\", \"plot_bgcolor\": \"#F5F6F9\", \"template\": {\"data\": {\"bar\": [{\"error_x\": {\"color\": \"#2a3f5f\"}, \"error_y\": {\"color\": \"#2a3f5f\"}, \"marker\": {\"line\": {\"color\": \"#E5ECF6\", \"width\": 0.5}}, \"type\": \"bar\"}], \"barpolar\": [{\"marker\": {\"line\": {\"color\": \"#E5ECF6\", \"width\": 0.5}}, \"type\": \"barpolar\"}], \"carpet\": [{\"aaxis\": {\"endlinecolor\": \"#2a3f5f\", \"gridcolor\": \"white\", \"linecolor\": \"white\", \"minorgridcolor\": \"white\", \"startlinecolor\": \"#2a3f5f\"}, \"baxis\": {\"endlinecolor\": \"#2a3f5f\", \"gridcolor\": \"white\", \"linecolor\": \"white\", \"minorgridcolor\": \"white\", \"startlinecolor\": \"#2a3f5f\"}, \"type\": \"carpet\"}], \"choropleth\": [{\"colorbar\": {\"outlinewidth\": 0, \"ticks\": \"\"}, \"type\": \"choropleth\"}], \"contour\": [{\"colorbar\": {\"outlinewidth\": 0, \"ticks\": \"\"}, \"colorscale\": [[0.0, \"#0d0887\"], [0.1111111111111111, \"#46039f\"], [0.2222222222222222, \"#7201a8\"], [0.3333333333333333, \"#9c179e\"], [0.4444444444444444, \"#bd3786\"], [0.5555555555555556, \"#d8576b\"], [0.6666666666666666, \"#ed7953\"], [0.7777777777777778, \"#fb9f3a\"], [0.8888888888888888, \"#fdca26\"], [1.0, \"#f0f921\"]], \"type\": \"contour\"}], \"contourcarpet\": [{\"colorbar\": {\"outlinewidth\": 0, \"ticks\": \"\"}, \"type\": \"contourcarpet\"}], \"heatmap\": [{\"colorbar\": {\"outlinewidth\": 0, \"ticks\": \"\"}, \"colorscale\": [[0.0, \"#0d0887\"], [0.1111111111111111, \"#46039f\"], [0.2222222222222222, \"#7201a8\"], [0.3333333333333333, \"#9c179e\"], [0.4444444444444444, \"#bd3786\"], [0.5555555555555556, \"#d8576b\"], [0.6666666666666666, \"#ed7953\"], [0.7777777777777778, \"#fb9f3a\"], [0.8888888888888888, \"#fdca26\"], [1.0, \"#f0f921\"]], \"type\": \"heatmap\"}], \"heatmapgl\": [{\"colorbar\": {\"outlinewidth\": 0, \"ticks\": \"\"}, \"colorscale\": [[0.0, \"#0d0887\"], [0.1111111111111111, \"#46039f\"], [0.2222222222222222, \"#7201a8\"], [0.3333333333333333, \"#9c179e\"], [0.4444444444444444, \"#bd3786\"], [0.5555555555555556, \"#d8576b\"], [0.6666666666666666, \"#ed7953\"], [0.7777777777777778, \"#fb9f3a\"], [0.8888888888888888, \"#fdca26\"], [1.0, \"#f0f921\"]], \"type\": \"heatmapgl\"}], \"histogram\": [{\"marker\": {\"colorbar\": {\"outlinewidth\": 0, \"ticks\": \"\"}}, \"type\": \"histogram\"}], \"histogram2d\": [{\"colorbar\": {\"outlinewidth\": 0, \"ticks\": \"\"}, \"colorscale\": [[0.0, \"#0d0887\"], [0.1111111111111111, \"#46039f\"], [0.2222222222222222, \"#7201a8\"], [0.3333333333333333, \"#9c179e\"], [0.4444444444444444, \"#bd3786\"], [0.5555555555555556, \"#d8576b\"], [0.6666666666666666, \"#ed7953\"], [0.7777777777777778, \"#fb9f3a\"], [0.8888888888888888, \"#fdca26\"], [1.0, \"#f0f921\"]], \"type\": \"histogram2d\"}], \"histogram2dcontour\": [{\"colorbar\": {\"outlinewidth\": 0, \"ticks\": \"\"}, \"colorscale\": [[0.0, \"#0d0887\"], [0.1111111111111111, \"#46039f\"], [0.2222222222222222, \"#7201a8\"], [0.3333333333333333, \"#9c179e\"], [0.4444444444444444, \"#bd3786\"], [0.5555555555555556, \"#d8576b\"], [0.6666666666666666, \"#ed7953\"], [0.7777777777777778, \"#fb9f3a\"], [0.8888888888888888, \"#fdca26\"], [1.0, \"#f0f921\"]], \"type\": \"histogram2dcontour\"}], \"mesh3d\": [{\"colorbar\": {\"outlinewidth\": 0, \"ticks\": \"\"}, \"type\": \"mesh3d\"}], \"parcoords\": [{\"line\": {\"colorbar\": {\"outlinewidth\": 0, \"ticks\": \"\"}}, \"type\": \"parcoords\"}], \"pie\": [{\"automargin\": true, \"type\": \"pie\"}], \"scatter\": [{\"marker\": {\"colorbar\": {\"outlinewidth\": 0, \"ticks\": \"\"}}, \"type\": \"scatter\"}], \"scatter3d\": [{\"line\": {\"colorbar\": {\"outlinewidth\": 0, \"ticks\": \"\"}}, \"marker\": {\"colorbar\": {\"outlinewidth\": 0, \"ticks\": \"\"}}, \"type\": \"scatter3d\"}], \"scattercarpet\": [{\"marker\": {\"colorbar\": {\"outlinewidth\": 0, \"ticks\": \"\"}}, \"type\": \"scattercarpet\"}], \"scattergeo\": [{\"marker\": {\"colorbar\": {\"outlinewidth\": 0, \"ticks\": \"\"}}, \"type\": \"scattergeo\"}], \"scattergl\": [{\"marker\": {\"colorbar\": {\"outlinewidth\": 0, \"ticks\": \"\"}}, \"type\": \"scattergl\"}], \"scattermapbox\": [{\"marker\": {\"colorbar\": {\"outlinewidth\": 0, \"ticks\": \"\"}}, \"type\": \"scattermapbox\"}], \"scatterpolar\": [{\"marker\": {\"colorbar\": {\"outlinewidth\": 0, \"ticks\": \"\"}}, \"type\": \"scatterpolar\"}], \"scatterpolargl\": [{\"marker\": {\"colorbar\": {\"outlinewidth\": 0, \"ticks\": \"\"}}, \"type\": \"scatterpolargl\"}], \"scatterternary\": [{\"marker\": {\"colorbar\": {\"outlinewidth\": 0, \"ticks\": \"\"}}, \"type\": \"scatterternary\"}], \"surface\": [{\"colorbar\": {\"outlinewidth\": 0, \"ticks\": \"\"}, \"colorscale\": [[0.0, \"#0d0887\"], [0.1111111111111111, \"#46039f\"], [0.2222222222222222, \"#7201a8\"], [0.3333333333333333, \"#9c179e\"], [0.4444444444444444, \"#bd3786\"], [0.5555555555555556, \"#d8576b\"], [0.6666666666666666, \"#ed7953\"], [0.7777777777777778, \"#fb9f3a\"], [0.8888888888888888, \"#fdca26\"], [1.0, \"#f0f921\"]], \"type\": \"surface\"}], \"table\": [{\"cells\": {\"fill\": {\"color\": \"#EBF0F8\"}, \"line\": {\"color\": \"white\"}}, \"header\": {\"fill\": {\"color\": \"#C8D4E3\"}, \"line\": {\"color\": \"white\"}}, \"type\": \"table\"}]}, \"layout\": {\"annotationdefaults\": {\"arrowcolor\": \"#2a3f5f\", \"arrowhead\": 0, \"arrowwidth\": 1}, \"coloraxis\": {\"colorbar\": {\"outlinewidth\": 0, \"ticks\": \"\"}}, \"colorscale\": {\"diverging\": [[0, \"#8e0152\"], [0.1, \"#c51b7d\"], [0.2, \"#de77ae\"], [0.3, \"#f1b6da\"], [0.4, \"#fde0ef\"], [0.5, \"#f7f7f7\"], [0.6, \"#e6f5d0\"], [0.7, \"#b8e186\"], [0.8, \"#7fbc41\"], [0.9, \"#4d9221\"], [1, \"#276419\"]], \"sequential\": [[0.0, \"#0d0887\"], [0.1111111111111111, \"#46039f\"], [0.2222222222222222, \"#7201a8\"], [0.3333333333333333, \"#9c179e\"], [0.4444444444444444, \"#bd3786\"], [0.5555555555555556, \"#d8576b\"], [0.6666666666666666, \"#ed7953\"], [0.7777777777777778, \"#fb9f3a\"], [0.8888888888888888, \"#fdca26\"], [1.0, \"#f0f921\"]], \"sequentialminus\": [[0.0, \"#0d0887\"], [0.1111111111111111, \"#46039f\"], [0.2222222222222222, \"#7201a8\"], [0.3333333333333333, \"#9c179e\"], [0.4444444444444444, \"#bd3786\"], [0.5555555555555556, \"#d8576b\"], [0.6666666666666666, \"#ed7953\"], [0.7777777777777778, \"#fb9f3a\"], [0.8888888888888888, \"#fdca26\"], [1.0, \"#f0f921\"]]}, \"colorway\": [\"#636efa\", \"#EF553B\", \"#00cc96\", \"#ab63fa\", \"#FFA15A\", \"#19d3f3\", \"#FF6692\", \"#B6E880\", \"#FF97FF\", \"#FECB52\"], \"font\": {\"color\": \"#2a3f5f\"}, \"geo\": {\"bgcolor\": \"white\", \"lakecolor\": \"white\", \"landcolor\": \"#E5ECF6\", \"showlakes\": true, \"showland\": true, \"subunitcolor\": \"white\"}, \"hoverlabel\": {\"align\": \"left\"}, \"hovermode\": \"closest\", \"mapbox\": {\"style\": \"light\"}, \"paper_bgcolor\": \"white\", \"plot_bgcolor\": \"#E5ECF6\", \"polar\": {\"angularaxis\": {\"gridcolor\": \"white\", \"linecolor\": \"white\", \"ticks\": \"\"}, \"bgcolor\": \"#E5ECF6\", \"radialaxis\": {\"gridcolor\": \"white\", \"linecolor\": \"white\", \"ticks\": \"\"}}, \"scene\": {\"xaxis\": {\"backgroundcolor\": \"#E5ECF6\", \"gridcolor\": \"white\", \"gridwidth\": 2, \"linecolor\": \"white\", \"showbackground\": true, \"ticks\": \"\", \"zerolinecolor\": \"white\"}, \"yaxis\": {\"backgroundcolor\": \"#E5ECF6\", \"gridcolor\": \"white\", \"gridwidth\": 2, \"linecolor\": \"white\", \"showbackground\": true, \"ticks\": \"\", \"zerolinecolor\": \"white\"}, \"zaxis\": {\"backgroundcolor\": \"#E5ECF6\", \"gridcolor\": \"white\", \"gridwidth\": 2, \"linecolor\": \"white\", \"showbackground\": true, \"ticks\": \"\", \"zerolinecolor\": \"white\"}}, \"shapedefaults\": {\"line\": {\"color\": \"#2a3f5f\"}}, \"ternary\": {\"aaxis\": {\"gridcolor\": \"white\", \"linecolor\": \"white\", \"ticks\": \"\"}, \"baxis\": {\"gridcolor\": \"white\", \"linecolor\": \"white\", \"ticks\": \"\"}, \"bgcolor\": \"#E5ECF6\", \"caxis\": {\"gridcolor\": \"white\", \"linecolor\": \"white\", \"ticks\": \"\"}}, \"title\": {\"x\": 0.05}, \"xaxis\": {\"automargin\": true, \"gridcolor\": \"white\", \"linecolor\": \"white\", \"ticks\": \"\", \"title\": {\"standoff\": 15}, \"zerolinecolor\": \"white\", \"zerolinewidth\": 2}, \"yaxis\": {\"automargin\": true, \"gridcolor\": \"white\", \"linecolor\": \"white\", \"ticks\": \"\", \"title\": {\"standoff\": 15}, \"zerolinecolor\": \"white\", \"zerolinewidth\": 2}}}, \"title\": {\"font\": {\"color\": \"#4D5663\"}, \"text\": \"Actual vs Forecast ILC for year 2020\"}, \"xaxis\": {\"gridcolor\": \"#E1E5ED\", \"showgrid\": true, \"tickfont\": {\"color\": \"#4D5663\"}, \"title\": {\"font\": {\"color\": \"#4D5663\"}, \"text\": \"Week\"}, \"zerolinecolor\": \"#E1E5ED\"}, \"yaxis\": {\"gridcolor\": \"#E1E5ED\", \"showgrid\": true, \"tickfont\": {\"color\": \"#4D5663\"}, \"title\": {\"font\": {\"color\": \"#4D5663\"}, \"text\": \"Efforts in hours\"}, \"zerolinecolor\": \"#E1E5ED\"}},\n",
       "                        {\"showLink\": true, \"linkText\": \"Export to plot.ly\", \"plotlyServerURL\": \"https://plot.ly\", \"responsive\": true}\n",
       "                    ).then(function(){\n",
       "                            \n",
       "var gd = document.getElementById('a483918c-dacd-4226-8531-3bf064bdb1b8');\n",
       "var x = new MutationObserver(function (mutations, observer) {{\n",
       "        var display = window.getComputedStyle(gd).display;\n",
       "        if (!display || display === 'none') {{\n",
       "            console.log([gd, 'removed!']);\n",
       "            Plotly.purge(gd);\n",
       "            observer.disconnect();\n",
       "        }}\n",
       "}});\n",
       "\n",
       "// Listen for the removal of the full notebook cells\n",
       "var notebookContainer = gd.closest('#notebook-container');\n",
       "if (notebookContainer) {{\n",
       "    x.observe(notebookContainer, {childList: true});\n",
       "}}\n",
       "\n",
       "// Listen for the clearing of the current output cell\n",
       "var outputEl = gd.closest('.output');\n",
       "if (outputEl) {{\n",
       "    x.observe(outputEl, {childList: true});\n",
       "}}\n",
       "\n",
       "                        })\n",
       "                };\n",
       "                });\n",
       "            </script>\n",
       "        </div>"
      ]
     },
     "metadata": {},
     "output_type": "display_data"
    }
   ],
   "source": [
    "df_concat[['Actual','Mean predictions']].iplot(title='Actual vs Forecast ILC for year 2020',xTitle='Week',yTitle='Efforts in hours')"
   ]
  },
  {
   "cell_type": "code",
   "execution_count": 33,
   "metadata": {},
   "outputs": [
    {
     "data": {
      "text/html": [
       "<div>\n",
       "<style scoped>\n",
       "    .dataframe tbody tr th:only-of-type {\n",
       "        vertical-align: middle;\n",
       "    }\n",
       "\n",
       "    .dataframe tbody tr th {\n",
       "        vertical-align: top;\n",
       "    }\n",
       "\n",
       "    .dataframe thead th {\n",
       "        text-align: right;\n",
       "    }\n",
       "</style>\n",
       "<table border=\"1\" class=\"dataframe\">\n",
       "  <thead>\n",
       "    <tr style=\"text-align: right;\">\n",
       "      <th></th>\n",
       "      <th>Actual</th>\n",
       "      <th>Mean predictions</th>\n",
       "      <th>Lower Predicted Hours</th>\n",
       "      <th>Upper Predicted Hours</th>\n",
       "      <th>Head Count</th>\n",
       "      <th>Actual Chargeable Hours</th>\n",
       "      <th>Available Hours</th>\n",
       "      <th>Actual Util %</th>\n",
       "      <th>Predicted Chargeable hours</th>\n",
       "      <th>Predicted Util Mean%</th>\n",
       "      <th>Predicted Util Lower%</th>\n",
       "      <th>Predicted Util Upper%</th>\n",
       "      <th>Root mean square err 2020 (Mean Weekly ILC)</th>\n",
       "      <th>Diff</th>\n",
       "    </tr>\n",
       "    <tr>\n",
       "      <th>Weekending Date</th>\n",
       "      <th></th>\n",
       "      <th></th>\n",
       "      <th></th>\n",
       "      <th></th>\n",
       "      <th></th>\n",
       "      <th></th>\n",
       "      <th></th>\n",
       "      <th></th>\n",
       "      <th></th>\n",
       "      <th></th>\n",
       "      <th></th>\n",
       "      <th></th>\n",
       "      <th></th>\n",
       "      <th></th>\n",
       "    </tr>\n",
       "  </thead>\n",
       "  <tbody>\n",
       "    <tr>\n",
       "      <th>2020-01-03</th>\n",
       "      <td>40.625000</td>\n",
       "      <td>42.465517</td>\n",
       "      <td>40.058139</td>\n",
       "      <td>44.872894</td>\n",
       "      <td>80</td>\n",
       "      <td>3250.0</td>\n",
       "      <td>3200</td>\n",
       "      <td>101.562500</td>\n",
       "      <td>3397.241331</td>\n",
       "      <td>106.163792</td>\n",
       "      <td>100.145347</td>\n",
       "      <td>112.182236</td>\n",
       "      <td>1.569815</td>\n",
       "      <td>-1.840517</td>\n",
       "    </tr>\n",
       "    <tr>\n",
       "      <th>2020-01-10</th>\n",
       "      <td>44.304878</td>\n",
       "      <td>42.348257</td>\n",
       "      <td>39.941758</td>\n",
       "      <td>44.754755</td>\n",
       "      <td>82</td>\n",
       "      <td>3633.0</td>\n",
       "      <td>3280</td>\n",
       "      <td>110.762195</td>\n",
       "      <td>3472.557038</td>\n",
       "      <td>105.870641</td>\n",
       "      <td>99.854396</td>\n",
       "      <td>111.886887</td>\n",
       "      <td>1.569815</td>\n",
       "      <td>1.956621</td>\n",
       "    </tr>\n",
       "    <tr>\n",
       "      <th>2020-01-17</th>\n",
       "      <td>39.111111</td>\n",
       "      <td>41.206023</td>\n",
       "      <td>38.800358</td>\n",
       "      <td>43.611688</td>\n",
       "      <td>81</td>\n",
       "      <td>3168.0</td>\n",
       "      <td>3240</td>\n",
       "      <td>97.777778</td>\n",
       "      <td>3337.687833</td>\n",
       "      <td>103.015057</td>\n",
       "      <td>97.000894</td>\n",
       "      <td>109.029219</td>\n",
       "      <td>1.569815</td>\n",
       "      <td>-2.094912</td>\n",
       "    </tr>\n",
       "    <tr>\n",
       "      <th>2020-01-24</th>\n",
       "      <td>37.395062</td>\n",
       "      <td>36.488922</td>\n",
       "      <td>34.084048</td>\n",
       "      <td>38.893796</td>\n",
       "      <td>81</td>\n",
       "      <td>3029.0</td>\n",
       "      <td>3240</td>\n",
       "      <td>93.487654</td>\n",
       "      <td>2955.602692</td>\n",
       "      <td>91.222305</td>\n",
       "      <td>85.210120</td>\n",
       "      <td>97.234490</td>\n",
       "      <td>1.569815</td>\n",
       "      <td>0.906140</td>\n",
       "    </tr>\n",
       "    <tr>\n",
       "      <th>2020-01-31</th>\n",
       "      <td>42.712500</td>\n",
       "      <td>43.035901</td>\n",
       "      <td>40.639392</td>\n",
       "      <td>45.432410</td>\n",
       "      <td>80</td>\n",
       "      <td>3417.0</td>\n",
       "      <td>3200</td>\n",
       "      <td>106.781250</td>\n",
       "      <td>3442.872064</td>\n",
       "      <td>107.589752</td>\n",
       "      <td>101.598479</td>\n",
       "      <td>113.581025</td>\n",
       "      <td>1.569815</td>\n",
       "      <td>-0.323401</td>\n",
       "    </tr>\n",
       "    <tr>\n",
       "      <th>2020-02-07</th>\n",
       "      <td>44.000000</td>\n",
       "      <td>42.827409</td>\n",
       "      <td>40.432000</td>\n",
       "      <td>45.222817</td>\n",
       "      <td>79</td>\n",
       "      <td>3476.0</td>\n",
       "      <td>3160</td>\n",
       "      <td>110.000000</td>\n",
       "      <td>3383.365290</td>\n",
       "      <td>107.068522</td>\n",
       "      <td>101.080000</td>\n",
       "      <td>113.057043</td>\n",
       "      <td>1.569815</td>\n",
       "      <td>1.172591</td>\n",
       "    </tr>\n",
       "    <tr>\n",
       "      <th>2020-02-14</th>\n",
       "      <td>42.209877</td>\n",
       "      <td>42.832909</td>\n",
       "      <td>40.438537</td>\n",
       "      <td>45.227282</td>\n",
       "      <td>81</td>\n",
       "      <td>3419.0</td>\n",
       "      <td>3240</td>\n",
       "      <td>105.524691</td>\n",
       "      <td>3469.465658</td>\n",
       "      <td>107.082273</td>\n",
       "      <td>101.096343</td>\n",
       "      <td>113.068204</td>\n",
       "      <td>1.569815</td>\n",
       "      <td>-0.623033</td>\n",
       "    </tr>\n",
       "    <tr>\n",
       "      <th>2020-02-21</th>\n",
       "      <td>43.925000</td>\n",
       "      <td>42.493262</td>\n",
       "      <td>40.099867</td>\n",
       "      <td>44.886656</td>\n",
       "      <td>80</td>\n",
       "      <td>3514.0</td>\n",
       "      <td>3200</td>\n",
       "      <td>109.812500</td>\n",
       "      <td>3399.460928</td>\n",
       "      <td>106.233154</td>\n",
       "      <td>100.249667</td>\n",
       "      <td>112.216641</td>\n",
       "      <td>1.569815</td>\n",
       "      <td>1.431738</td>\n",
       "    </tr>\n",
       "    <tr>\n",
       "      <th>2020-02-28</th>\n",
       "      <td>44.135802</td>\n",
       "      <td>42.245858</td>\n",
       "      <td>39.853387</td>\n",
       "      <td>44.638329</td>\n",
       "      <td>81</td>\n",
       "      <td>3575.0</td>\n",
       "      <td>3240</td>\n",
       "      <td>110.339506</td>\n",
       "      <td>3421.914487</td>\n",
       "      <td>105.614645</td>\n",
       "      <td>99.633467</td>\n",
       "      <td>111.595823</td>\n",
       "      <td>1.569815</td>\n",
       "      <td>1.889945</td>\n",
       "    </tr>\n",
       "    <tr>\n",
       "      <th>2020-03-06</th>\n",
       "      <td>43.365854</td>\n",
       "      <td>43.216785</td>\n",
       "      <td>40.825188</td>\n",
       "      <td>45.608383</td>\n",
       "      <td>82</td>\n",
       "      <td>3556.0</td>\n",
       "      <td>3280</td>\n",
       "      <td>108.414634</td>\n",
       "      <td>3543.776405</td>\n",
       "      <td>108.041964</td>\n",
       "      <td>102.062970</td>\n",
       "      <td>114.020957</td>\n",
       "      <td>1.569815</td>\n",
       "      <td>0.149068</td>\n",
       "    </tr>\n",
       "    <tr>\n",
       "      <th>2020-03-13</th>\n",
       "      <td>36.150602</td>\n",
       "      <td>37.236887</td>\n",
       "      <td>34.846118</td>\n",
       "      <td>39.627656</td>\n",
       "      <td>83</td>\n",
       "      <td>3000.5</td>\n",
       "      <td>3320</td>\n",
       "      <td>90.376506</td>\n",
       "      <td>3090.661616</td>\n",
       "      <td>93.092217</td>\n",
       "      <td>87.115295</td>\n",
       "      <td>99.069140</td>\n",
       "      <td>1.569815</td>\n",
       "      <td>-1.086285</td>\n",
       "    </tr>\n",
       "    <tr>\n",
       "      <th>2020-03-20</th>\n",
       "      <td>43.000000</td>\n",
       "      <td>42.717473</td>\n",
       "      <td>40.327490</td>\n",
       "      <td>45.107455</td>\n",
       "      <td>83</td>\n",
       "      <td>3569.0</td>\n",
       "      <td>3320</td>\n",
       "      <td>107.500000</td>\n",
       "      <td>3545.550218</td>\n",
       "      <td>106.793681</td>\n",
       "      <td>100.818724</td>\n",
       "      <td>112.768639</td>\n",
       "      <td>1.569815</td>\n",
       "      <td>0.282527</td>\n",
       "    </tr>\n",
       "    <tr>\n",
       "      <th>2020-03-27</th>\n",
       "      <td>41.657143</td>\n",
       "      <td>40.371889</td>\n",
       "      <td>37.982653</td>\n",
       "      <td>42.761125</td>\n",
       "      <td>84</td>\n",
       "      <td>3499.2</td>\n",
       "      <td>3360</td>\n",
       "      <td>104.142857</td>\n",
       "      <td>3391.238669</td>\n",
       "      <td>100.929722</td>\n",
       "      <td>94.956632</td>\n",
       "      <td>106.902812</td>\n",
       "      <td>1.569815</td>\n",
       "      <td>1.285254</td>\n",
       "    </tr>\n",
       "    <tr>\n",
       "      <th>2020-04-03</th>\n",
       "      <td>43.035714</td>\n",
       "      <td>43.182405</td>\n",
       "      <td>40.793880</td>\n",
       "      <td>45.570930</td>\n",
       "      <td>84</td>\n",
       "      <td>3615.0</td>\n",
       "      <td>3360</td>\n",
       "      <td>107.589286</td>\n",
       "      <td>3627.322038</td>\n",
       "      <td>107.956013</td>\n",
       "      <td>101.984700</td>\n",
       "      <td>113.927326</td>\n",
       "      <td>1.569815</td>\n",
       "      <td>-0.146691</td>\n",
       "    </tr>\n",
       "    <tr>\n",
       "      <th>2020-04-10</th>\n",
       "      <td>37.634146</td>\n",
       "      <td>34.752499</td>\n",
       "      <td>32.364651</td>\n",
       "      <td>37.140347</td>\n",
       "      <td>82</td>\n",
       "      <td>3086.0</td>\n",
       "      <td>3280</td>\n",
       "      <td>94.085366</td>\n",
       "      <td>2849.704912</td>\n",
       "      <td>86.881247</td>\n",
       "      <td>80.911627</td>\n",
       "      <td>92.850868</td>\n",
       "      <td>1.569815</td>\n",
       "      <td>2.881647</td>\n",
       "    </tr>\n",
       "    <tr>\n",
       "      <th>2020-04-17</th>\n",
       "      <td>43.518987</td>\n",
       "      <td>43.518609</td>\n",
       "      <td>41.131407</td>\n",
       "      <td>45.905811</td>\n",
       "      <td>79</td>\n",
       "      <td>3438.0</td>\n",
       "      <td>3160</td>\n",
       "      <td>108.797468</td>\n",
       "      <td>3437.970113</td>\n",
       "      <td>108.796523</td>\n",
       "      <td>102.828517</td>\n",
       "      <td>114.764528</td>\n",
       "      <td>1.569815</td>\n",
       "      <td>0.000378</td>\n",
       "    </tr>\n",
       "    <tr>\n",
       "      <th>2020-04-24</th>\n",
       "      <td>43.488372</td>\n",
       "      <td>43.134151</td>\n",
       "      <td>40.753672</td>\n",
       "      <td>45.514630</td>\n",
       "      <td>86</td>\n",
       "      <td>3740.0</td>\n",
       "      <td>3440</td>\n",
       "      <td>108.720930</td>\n",
       "      <td>3709.537010</td>\n",
       "      <td>107.835378</td>\n",
       "      <td>101.884181</td>\n",
       "      <td>113.786575</td>\n",
       "      <td>1.569815</td>\n",
       "      <td>0.354221</td>\n",
       "    </tr>\n",
       "    <tr>\n",
       "      <th>2020-05-01</th>\n",
       "      <td>37.162791</td>\n",
       "      <td>35.258528</td>\n",
       "      <td>32.878918</td>\n",
       "      <td>37.638137</td>\n",
       "      <td>86</td>\n",
       "      <td>3196.0</td>\n",
       "      <td>3440</td>\n",
       "      <td>92.906977</td>\n",
       "      <td>3032.233373</td>\n",
       "      <td>88.146319</td>\n",
       "      <td>82.197296</td>\n",
       "      <td>94.095342</td>\n",
       "      <td>1.569815</td>\n",
       "      <td>1.904263</td>\n",
       "    </tr>\n",
       "    <tr>\n",
       "      <th>2020-05-08</th>\n",
       "      <td>42.800000</td>\n",
       "      <td>43.122394</td>\n",
       "      <td>40.743609</td>\n",
       "      <td>45.501179</td>\n",
       "      <td>85</td>\n",
       "      <td>3638.0</td>\n",
       "      <td>3400</td>\n",
       "      <td>107.000000</td>\n",
       "      <td>3665.403471</td>\n",
       "      <td>107.805984</td>\n",
       "      <td>101.859022</td>\n",
       "      <td>113.752947</td>\n",
       "      <td>1.569815</td>\n",
       "      <td>-0.322394</td>\n",
       "    </tr>\n",
       "    <tr>\n",
       "      <th>2020-05-15</th>\n",
       "      <td>43.952941</td>\n",
       "      <td>42.895012</td>\n",
       "      <td>40.517009</td>\n",
       "      <td>45.273015</td>\n",
       "      <td>85</td>\n",
       "      <td>3736.0</td>\n",
       "      <td>3400</td>\n",
       "      <td>109.882353</td>\n",
       "      <td>3646.076038</td>\n",
       "      <td>107.237531</td>\n",
       "      <td>101.292523</td>\n",
       "      <td>113.182538</td>\n",
       "      <td>1.569815</td>\n",
       "      <td>1.057929</td>\n",
       "    </tr>\n",
       "    <tr>\n",
       "      <th>2020-05-22</th>\n",
       "      <td>36.982353</td>\n",
       "      <td>42.576214</td>\n",
       "      <td>40.198954</td>\n",
       "      <td>44.953474</td>\n",
       "      <td>85</td>\n",
       "      <td>3143.5</td>\n",
       "      <td>3400</td>\n",
       "      <td>92.455882</td>\n",
       "      <td>3618.978191</td>\n",
       "      <td>106.440535</td>\n",
       "      <td>100.497386</td>\n",
       "      <td>112.383685</td>\n",
       "      <td>1.569815</td>\n",
       "      <td>-5.593861</td>\n",
       "    </tr>\n",
       "    <tr>\n",
       "      <th>2020-05-29</th>\n",
       "      <td>32.575000</td>\n",
       "      <td>33.859173</td>\n",
       "      <td>31.482620</td>\n",
       "      <td>36.235725</td>\n",
       "      <td>80</td>\n",
       "      <td>2606.0</td>\n",
       "      <td>3200</td>\n",
       "      <td>81.437500</td>\n",
       "      <td>2708.733807</td>\n",
       "      <td>84.647931</td>\n",
       "      <td>78.706550</td>\n",
       "      <td>90.589313</td>\n",
       "      <td>1.569815</td>\n",
       "      <td>-1.284173</td>\n",
       "    </tr>\n",
       "    <tr>\n",
       "      <th>2020-06-05</th>\n",
       "      <td>42.164706</td>\n",
       "      <td>42.468477</td>\n",
       "      <td>40.092598</td>\n",
       "      <td>44.844355</td>\n",
       "      <td>85</td>\n",
       "      <td>3584.0</td>\n",
       "      <td>3400</td>\n",
       "      <td>105.411765</td>\n",
       "      <td>3609.820506</td>\n",
       "      <td>106.171191</td>\n",
       "      <td>100.231494</td>\n",
       "      <td>112.110889</td>\n",
       "      <td>1.569815</td>\n",
       "      <td>-0.303771</td>\n",
       "    </tr>\n",
       "    <tr>\n",
       "      <th>2020-06-12</th>\n",
       "      <td>42.821429</td>\n",
       "      <td>42.692609</td>\n",
       "      <td>40.317373</td>\n",
       "      <td>45.067846</td>\n",
       "      <td>84</td>\n",
       "      <td>3597.0</td>\n",
       "      <td>3360</td>\n",
       "      <td>107.053571</td>\n",
       "      <td>3586.179194</td>\n",
       "      <td>106.731524</td>\n",
       "      <td>100.793433</td>\n",
       "      <td>112.669614</td>\n",
       "      <td>1.569815</td>\n",
       "      <td>0.128819</td>\n",
       "    </tr>\n",
       "    <tr>\n",
       "      <th>2020-06-19</th>\n",
       "      <td>43.417647</td>\n",
       "      <td>42.388595</td>\n",
       "      <td>40.013972</td>\n",
       "      <td>44.763218</td>\n",
       "      <td>85</td>\n",
       "      <td>3690.5</td>\n",
       "      <td>3400</td>\n",
       "      <td>108.544118</td>\n",
       "      <td>3603.030557</td>\n",
       "      <td>105.971487</td>\n",
       "      <td>100.034930</td>\n",
       "      <td>111.908044</td>\n",
       "      <td>1.569815</td>\n",
       "      <td>1.029052</td>\n",
       "    </tr>\n",
       "    <tr>\n",
       "      <th>2020-06-26</th>\n",
       "      <td>43.172619</td>\n",
       "      <td>43.052728</td>\n",
       "      <td>40.678692</td>\n",
       "      <td>45.426764</td>\n",
       "      <td>84</td>\n",
       "      <td>3626.5</td>\n",
       "      <td>3360</td>\n",
       "      <td>107.931548</td>\n",
       "      <td>3616.429156</td>\n",
       "      <td>107.631820</td>\n",
       "      <td>101.696729</td>\n",
       "      <td>113.566911</td>\n",
       "      <td>1.569815</td>\n",
       "      <td>0.119891</td>\n",
       "    </tr>\n",
       "    <tr>\n",
       "      <th>2020-07-03</th>\n",
       "      <td>42.843373</td>\n",
       "      <td>42.954929</td>\n",
       "      <td>40.581454</td>\n",
       "      <td>45.328405</td>\n",
       "      <td>83</td>\n",
       "      <td>3556.0</td>\n",
       "      <td>3320</td>\n",
       "      <td>107.108434</td>\n",
       "      <td>3565.259134</td>\n",
       "      <td>107.387323</td>\n",
       "      <td>101.453635</td>\n",
       "      <td>113.321012</td>\n",
       "      <td>1.569815</td>\n",
       "      <td>-0.111556</td>\n",
       "    </tr>\n",
       "    <tr>\n",
       "      <th>2020-07-10</th>\n",
       "      <td>42.518072</td>\n",
       "      <td>42.863857</td>\n",
       "      <td>40.490919</td>\n",
       "      <td>45.236795</td>\n",
       "      <td>83</td>\n",
       "      <td>3529.0</td>\n",
       "      <td>3320</td>\n",
       "      <td>106.295181</td>\n",
       "      <td>3557.700162</td>\n",
       "      <td>107.159643</td>\n",
       "      <td>101.227298</td>\n",
       "      <td>113.091989</td>\n",
       "      <td>1.569815</td>\n",
       "      <td>-0.345785</td>\n",
       "    </tr>\n",
       "    <tr>\n",
       "      <th>2020-07-17</th>\n",
       "      <td>43.134146</td>\n",
       "      <td>42.831833</td>\n",
       "      <td>40.464417</td>\n",
       "      <td>45.199249</td>\n",
       "      <td>82</td>\n",
       "      <td>3537.0</td>\n",
       "      <td>3280</td>\n",
       "      <td>107.835366</td>\n",
       "      <td>3512.210331</td>\n",
       "      <td>107.079583</td>\n",
       "      <td>101.161043</td>\n",
       "      <td>112.998123</td>\n",
       "      <td>1.569815</td>\n",
       "      <td>0.302313</td>\n",
       "    </tr>\n",
       "    <tr>\n",
       "      <th>2020-07-24</th>\n",
       "      <td>43.809524</td>\n",
       "      <td>43.173408</td>\n",
       "      <td>40.806696</td>\n",
       "      <td>45.540120</td>\n",
       "      <td>84</td>\n",
       "      <td>3680.0</td>\n",
       "      <td>3360</td>\n",
       "      <td>109.523810</td>\n",
       "      <td>3626.566287</td>\n",
       "      <td>107.933520</td>\n",
       "      <td>102.016741</td>\n",
       "      <td>113.850300</td>\n",
       "      <td>1.569815</td>\n",
       "      <td>0.636116</td>\n",
       "    </tr>\n",
       "    <tr>\n",
       "      <th>2020-07-31</th>\n",
       "      <td>45.012048</td>\n",
       "      <td>42.668133</td>\n",
       "      <td>40.302092</td>\n",
       "      <td>45.034174</td>\n",
       "      <td>83</td>\n",
       "      <td>3736.0</td>\n",
       "      <td>3320</td>\n",
       "      <td>112.530120</td>\n",
       "      <td>3541.455034</td>\n",
       "      <td>106.670332</td>\n",
       "      <td>100.755230</td>\n",
       "      <td>112.585434</td>\n",
       "      <td>1.569815</td>\n",
       "      <td>2.343915</td>\n",
       "    </tr>\n",
       "    <tr>\n",
       "      <th>2020-08-07</th>\n",
       "      <td>NaN</td>\n",
       "      <td>43.303445</td>\n",
       "      <td>40.938044</td>\n",
       "      <td>45.668846</td>\n",
       "      <td>83</td>\n",
       "      <td>NaN</td>\n",
       "      <td>3320</td>\n",
       "      <td>NaN</td>\n",
       "      <td>3594.185964</td>\n",
       "      <td>108.258613</td>\n",
       "      <td>102.345111</td>\n",
       "      <td>114.172116</td>\n",
       "      <td>1.569815</td>\n",
       "      <td>NaN</td>\n",
       "    </tr>\n",
       "    <tr>\n",
       "      <th>2020-08-14</th>\n",
       "      <td>NaN</td>\n",
       "      <td>39.818448</td>\n",
       "      <td>37.399788</td>\n",
       "      <td>42.237108</td>\n",
       "      <td>83</td>\n",
       "      <td>NaN</td>\n",
       "      <td>3320</td>\n",
       "      <td>NaN</td>\n",
       "      <td>3304.931194</td>\n",
       "      <td>99.546120</td>\n",
       "      <td>93.499471</td>\n",
       "      <td>105.592770</td>\n",
       "      <td>1.569815</td>\n",
       "      <td>NaN</td>\n",
       "    </tr>\n",
       "    <tr>\n",
       "      <th>2020-08-21</th>\n",
       "      <td>NaN</td>\n",
       "      <td>42.609472</td>\n",
       "      <td>40.186940</td>\n",
       "      <td>45.032003</td>\n",
       "      <td>83</td>\n",
       "      <td>NaN</td>\n",
       "      <td>3320</td>\n",
       "      <td>NaN</td>\n",
       "      <td>3536.586146</td>\n",
       "      <td>106.523679</td>\n",
       "      <td>100.467350</td>\n",
       "      <td>112.580008</td>\n",
       "      <td>1.569815</td>\n",
       "      <td>NaN</td>\n",
       "    </tr>\n",
       "    <tr>\n",
       "      <th>2020-08-28</th>\n",
       "      <td>NaN</td>\n",
       "      <td>42.855747</td>\n",
       "      <td>40.432702</td>\n",
       "      <td>45.278792</td>\n",
       "      <td>83</td>\n",
       "      <td>NaN</td>\n",
       "      <td>3320</td>\n",
       "      <td>NaN</td>\n",
       "      <td>3557.026991</td>\n",
       "      <td>107.139367</td>\n",
       "      <td>101.081755</td>\n",
       "      <td>113.196979</td>\n",
       "      <td>1.569815</td>\n",
       "      <td>NaN</td>\n",
       "    </tr>\n",
       "    <tr>\n",
       "      <th>2020-09-04</th>\n",
       "      <td>NaN</td>\n",
       "      <td>42.858939</td>\n",
       "      <td>40.435804</td>\n",
       "      <td>45.282073</td>\n",
       "      <td>83</td>\n",
       "      <td>NaN</td>\n",
       "      <td>3320</td>\n",
       "      <td>NaN</td>\n",
       "      <td>3557.291898</td>\n",
       "      <td>107.147346</td>\n",
       "      <td>101.089510</td>\n",
       "      <td>113.205183</td>\n",
       "      <td>1.569815</td>\n",
       "      <td>NaN</td>\n",
       "    </tr>\n",
       "    <tr>\n",
       "      <th>2020-09-11</th>\n",
       "      <td>NaN</td>\n",
       "      <td>42.508704</td>\n",
       "      <td>40.085552</td>\n",
       "      <td>44.931856</td>\n",
       "      <td>83</td>\n",
       "      <td>NaN</td>\n",
       "      <td>3320</td>\n",
       "      <td>NaN</td>\n",
       "      <td>3528.222443</td>\n",
       "      <td>106.271760</td>\n",
       "      <td>100.213881</td>\n",
       "      <td>112.329640</td>\n",
       "      <td>1.569815</td>\n",
       "      <td>NaN</td>\n",
       "    </tr>\n",
       "    <tr>\n",
       "      <th>2020-09-18</th>\n",
       "      <td>NaN</td>\n",
       "      <td>42.887795</td>\n",
       "      <td>40.464640</td>\n",
       "      <td>45.310950</td>\n",
       "      <td>83</td>\n",
       "      <td>NaN</td>\n",
       "      <td>3320</td>\n",
       "      <td>NaN</td>\n",
       "      <td>3559.686978</td>\n",
       "      <td>107.219487</td>\n",
       "      <td>101.161600</td>\n",
       "      <td>113.277375</td>\n",
       "      <td>1.569815</td>\n",
       "      <td>NaN</td>\n",
       "    </tr>\n",
       "    <tr>\n",
       "      <th>2020-09-25</th>\n",
       "      <td>NaN</td>\n",
       "      <td>42.886340</td>\n",
       "      <td>40.463185</td>\n",
       "      <td>45.309496</td>\n",
       "      <td>83</td>\n",
       "      <td>NaN</td>\n",
       "      <td>3320</td>\n",
       "      <td>NaN</td>\n",
       "      <td>3559.566238</td>\n",
       "      <td>107.215851</td>\n",
       "      <td>101.157962</td>\n",
       "      <td>113.273739</td>\n",
       "      <td>1.569815</td>\n",
       "      <td>NaN</td>\n",
       "    </tr>\n",
       "    <tr>\n",
       "      <th>2020-10-02</th>\n",
       "      <td>NaN</td>\n",
       "      <td>34.885497</td>\n",
       "      <td>32.462342</td>\n",
       "      <td>37.308653</td>\n",
       "      <td>83</td>\n",
       "      <td>NaN</td>\n",
       "      <td>3320</td>\n",
       "      <td>NaN</td>\n",
       "      <td>2895.496284</td>\n",
       "      <td>87.213743</td>\n",
       "      <td>81.155854</td>\n",
       "      <td>93.271633</td>\n",
       "      <td>1.569815</td>\n",
       "      <td>NaN</td>\n",
       "    </tr>\n",
       "    <tr>\n",
       "      <th>2020-10-09</th>\n",
       "      <td>NaN</td>\n",
       "      <td>42.929939</td>\n",
       "      <td>40.509026</td>\n",
       "      <td>45.350852</td>\n",
       "      <td>83</td>\n",
       "      <td>NaN</td>\n",
       "      <td>3320</td>\n",
       "      <td>NaN</td>\n",
       "      <td>3563.184967</td>\n",
       "      <td>107.324848</td>\n",
       "      <td>101.272566</td>\n",
       "      <td>113.377131</td>\n",
       "      <td>1.569815</td>\n",
       "      <td>NaN</td>\n",
       "    </tr>\n",
       "    <tr>\n",
       "      <th>2020-10-16</th>\n",
       "      <td>NaN</td>\n",
       "      <td>43.191805</td>\n",
       "      <td>40.770065</td>\n",
       "      <td>45.613546</td>\n",
       "      <td>83</td>\n",
       "      <td>NaN</td>\n",
       "      <td>3320</td>\n",
       "      <td>NaN</td>\n",
       "      <td>3584.919854</td>\n",
       "      <td>107.979514</td>\n",
       "      <td>101.925163</td>\n",
       "      <td>114.033864</td>\n",
       "      <td>1.569815</td>\n",
       "      <td>NaN</td>\n",
       "    </tr>\n",
       "    <tr>\n",
       "      <th>2020-10-23</th>\n",
       "      <td>NaN</td>\n",
       "      <td>36.770472</td>\n",
       "      <td>34.348527</td>\n",
       "      <td>39.192417</td>\n",
       "      <td>83</td>\n",
       "      <td>NaN</td>\n",
       "      <td>3320</td>\n",
       "      <td>NaN</td>\n",
       "      <td>3051.949188</td>\n",
       "      <td>91.926180</td>\n",
       "      <td>85.871317</td>\n",
       "      <td>97.981043</td>\n",
       "      <td>1.569815</td>\n",
       "      <td>NaN</td>\n",
       "    </tr>\n",
       "    <tr>\n",
       "      <th>2020-10-30</th>\n",
       "      <td>NaN</td>\n",
       "      <td>34.853840</td>\n",
       "      <td>32.418008</td>\n",
       "      <td>37.289673</td>\n",
       "      <td>83</td>\n",
       "      <td>NaN</td>\n",
       "      <td>3320</td>\n",
       "      <td>NaN</td>\n",
       "      <td>2892.868741</td>\n",
       "      <td>87.134601</td>\n",
       "      <td>81.045019</td>\n",
       "      <td>93.224182</td>\n",
       "      <td>1.569815</td>\n",
       "      <td>NaN</td>\n",
       "    </tr>\n",
       "    <tr>\n",
       "      <th>2020-11-06</th>\n",
       "      <td>NaN</td>\n",
       "      <td>41.652365</td>\n",
       "      <td>39.215042</td>\n",
       "      <td>44.089688</td>\n",
       "      <td>83</td>\n",
       "      <td>NaN</td>\n",
       "      <td>3320</td>\n",
       "      <td>NaN</td>\n",
       "      <td>3457.146303</td>\n",
       "      <td>104.130913</td>\n",
       "      <td>98.037606</td>\n",
       "      <td>110.224220</td>\n",
       "      <td>1.569815</td>\n",
       "      <td>NaN</td>\n",
       "    </tr>\n",
       "    <tr>\n",
       "      <th>2020-11-13</th>\n",
       "      <td>NaN</td>\n",
       "      <td>42.520553</td>\n",
       "      <td>40.082987</td>\n",
       "      <td>44.958119</td>\n",
       "      <td>83</td>\n",
       "      <td>NaN</td>\n",
       "      <td>3320</td>\n",
       "      <td>NaN</td>\n",
       "      <td>3529.205886</td>\n",
       "      <td>106.301382</td>\n",
       "      <td>100.207468</td>\n",
       "      <td>112.395296</td>\n",
       "      <td>1.569815</td>\n",
       "      <td>NaN</td>\n",
       "    </tr>\n",
       "    <tr>\n",
       "      <th>2020-11-20</th>\n",
       "      <td>NaN</td>\n",
       "      <td>34.825874</td>\n",
       "      <td>32.388264</td>\n",
       "      <td>37.263485</td>\n",
       "      <td>83</td>\n",
       "      <td>NaN</td>\n",
       "      <td>3320</td>\n",
       "      <td>NaN</td>\n",
       "      <td>2890.547578</td>\n",
       "      <td>87.064686</td>\n",
       "      <td>80.970659</td>\n",
       "      <td>93.158713</td>\n",
       "      <td>1.569815</td>\n",
       "      <td>NaN</td>\n",
       "    </tr>\n",
       "    <tr>\n",
       "      <th>2020-11-27</th>\n",
       "      <td>NaN</td>\n",
       "      <td>42.785010</td>\n",
       "      <td>40.347391</td>\n",
       "      <td>45.222629</td>\n",
       "      <td>83</td>\n",
       "      <td>NaN</td>\n",
       "      <td>3320</td>\n",
       "      <td>NaN</td>\n",
       "      <td>3551.155821</td>\n",
       "      <td>106.962525</td>\n",
       "      <td>100.868477</td>\n",
       "      <td>113.056573</td>\n",
       "      <td>1.569815</td>\n",
       "      <td>NaN</td>\n",
       "    </tr>\n",
       "    <tr>\n",
       "      <th>2020-12-04</th>\n",
       "      <td>NaN</td>\n",
       "      <td>42.435239</td>\n",
       "      <td>39.997618</td>\n",
       "      <td>44.872859</td>\n",
       "      <td>83</td>\n",
       "      <td>NaN</td>\n",
       "      <td>3320</td>\n",
       "      <td>NaN</td>\n",
       "      <td>3522.124799</td>\n",
       "      <td>106.088096</td>\n",
       "      <td>99.994044</td>\n",
       "      <td>112.182149</td>\n",
       "      <td>1.569815</td>\n",
       "      <td>NaN</td>\n",
       "    </tr>\n",
       "    <tr>\n",
       "      <th>2020-12-11</th>\n",
       "      <td>NaN</td>\n",
       "      <td>42.814418</td>\n",
       "      <td>40.376797</td>\n",
       "      <td>45.252039</td>\n",
       "      <td>83</td>\n",
       "      <td>NaN</td>\n",
       "      <td>3320</td>\n",
       "      <td>NaN</td>\n",
       "      <td>3553.596708</td>\n",
       "      <td>107.036045</td>\n",
       "      <td>100.941992</td>\n",
       "      <td>113.130099</td>\n",
       "      <td>1.569815</td>\n",
       "      <td>NaN</td>\n",
       "    </tr>\n",
       "    <tr>\n",
       "      <th>2020-12-18</th>\n",
       "      <td>NaN</td>\n",
       "      <td>42.812981</td>\n",
       "      <td>40.375359</td>\n",
       "      <td>45.250602</td>\n",
       "      <td>83</td>\n",
       "      <td>NaN</td>\n",
       "      <td>3320</td>\n",
       "      <td>NaN</td>\n",
       "      <td>3553.477383</td>\n",
       "      <td>107.032451</td>\n",
       "      <td>100.938398</td>\n",
       "      <td>113.126505</td>\n",
       "      <td>1.569815</td>\n",
       "      <td>NaN</td>\n",
       "    </tr>\n",
       "    <tr>\n",
       "      <th>2020-12-25</th>\n",
       "      <td>NaN</td>\n",
       "      <td>34.812141</td>\n",
       "      <td>32.374520</td>\n",
       "      <td>37.249762</td>\n",
       "      <td>83</td>\n",
       "      <td>NaN</td>\n",
       "      <td>3320</td>\n",
       "      <td>NaN</td>\n",
       "      <td>2889.407700</td>\n",
       "      <td>87.030352</td>\n",
       "      <td>80.936299</td>\n",
       "      <td>93.124406</td>\n",
       "      <td>1.569815</td>\n",
       "      <td>NaN</td>\n",
       "    </tr>\n",
       "  </tbody>\n",
       "</table>\n",
       "</div>"
      ],
      "text/plain": [
       "                    Actual  Mean predictions  Lower Predicted Hours  \\\n",
       "Weekending Date                                                       \n",
       "2020-01-03       40.625000         42.465517              40.058139   \n",
       "2020-01-10       44.304878         42.348257              39.941758   \n",
       "2020-01-17       39.111111         41.206023              38.800358   \n",
       "2020-01-24       37.395062         36.488922              34.084048   \n",
       "2020-01-31       42.712500         43.035901              40.639392   \n",
       "2020-02-07       44.000000         42.827409              40.432000   \n",
       "2020-02-14       42.209877         42.832909              40.438537   \n",
       "2020-02-21       43.925000         42.493262              40.099867   \n",
       "2020-02-28       44.135802         42.245858              39.853387   \n",
       "2020-03-06       43.365854         43.216785              40.825188   \n",
       "2020-03-13       36.150602         37.236887              34.846118   \n",
       "2020-03-20       43.000000         42.717473              40.327490   \n",
       "2020-03-27       41.657143         40.371889              37.982653   \n",
       "2020-04-03       43.035714         43.182405              40.793880   \n",
       "2020-04-10       37.634146         34.752499              32.364651   \n",
       "2020-04-17       43.518987         43.518609              41.131407   \n",
       "2020-04-24       43.488372         43.134151              40.753672   \n",
       "2020-05-01       37.162791         35.258528              32.878918   \n",
       "2020-05-08       42.800000         43.122394              40.743609   \n",
       "2020-05-15       43.952941         42.895012              40.517009   \n",
       "2020-05-22       36.982353         42.576214              40.198954   \n",
       "2020-05-29       32.575000         33.859173              31.482620   \n",
       "2020-06-05       42.164706         42.468477              40.092598   \n",
       "2020-06-12       42.821429         42.692609              40.317373   \n",
       "2020-06-19       43.417647         42.388595              40.013972   \n",
       "2020-06-26       43.172619         43.052728              40.678692   \n",
       "2020-07-03       42.843373         42.954929              40.581454   \n",
       "2020-07-10       42.518072         42.863857              40.490919   \n",
       "2020-07-17       43.134146         42.831833              40.464417   \n",
       "2020-07-24       43.809524         43.173408              40.806696   \n",
       "2020-07-31       45.012048         42.668133              40.302092   \n",
       "2020-08-07             NaN         43.303445              40.938044   \n",
       "2020-08-14             NaN         39.818448              37.399788   \n",
       "2020-08-21             NaN         42.609472              40.186940   \n",
       "2020-08-28             NaN         42.855747              40.432702   \n",
       "2020-09-04             NaN         42.858939              40.435804   \n",
       "2020-09-11             NaN         42.508704              40.085552   \n",
       "2020-09-18             NaN         42.887795              40.464640   \n",
       "2020-09-25             NaN         42.886340              40.463185   \n",
       "2020-10-02             NaN         34.885497              32.462342   \n",
       "2020-10-09             NaN         42.929939              40.509026   \n",
       "2020-10-16             NaN         43.191805              40.770065   \n",
       "2020-10-23             NaN         36.770472              34.348527   \n",
       "2020-10-30             NaN         34.853840              32.418008   \n",
       "2020-11-06             NaN         41.652365              39.215042   \n",
       "2020-11-13             NaN         42.520553              40.082987   \n",
       "2020-11-20             NaN         34.825874              32.388264   \n",
       "2020-11-27             NaN         42.785010              40.347391   \n",
       "2020-12-04             NaN         42.435239              39.997618   \n",
       "2020-12-11             NaN         42.814418              40.376797   \n",
       "2020-12-18             NaN         42.812981              40.375359   \n",
       "2020-12-25             NaN         34.812141              32.374520   \n",
       "\n",
       "                 Upper Predicted Hours  Head Count  Actual Chargeable Hours  \\\n",
       "Weekending Date                                                               \n",
       "2020-01-03                   44.872894          80                   3250.0   \n",
       "2020-01-10                   44.754755          82                   3633.0   \n",
       "2020-01-17                   43.611688          81                   3168.0   \n",
       "2020-01-24                   38.893796          81                   3029.0   \n",
       "2020-01-31                   45.432410          80                   3417.0   \n",
       "2020-02-07                   45.222817          79                   3476.0   \n",
       "2020-02-14                   45.227282          81                   3419.0   \n",
       "2020-02-21                   44.886656          80                   3514.0   \n",
       "2020-02-28                   44.638329          81                   3575.0   \n",
       "2020-03-06                   45.608383          82                   3556.0   \n",
       "2020-03-13                   39.627656          83                   3000.5   \n",
       "2020-03-20                   45.107455          83                   3569.0   \n",
       "2020-03-27                   42.761125          84                   3499.2   \n",
       "2020-04-03                   45.570930          84                   3615.0   \n",
       "2020-04-10                   37.140347          82                   3086.0   \n",
       "2020-04-17                   45.905811          79                   3438.0   \n",
       "2020-04-24                   45.514630          86                   3740.0   \n",
       "2020-05-01                   37.638137          86                   3196.0   \n",
       "2020-05-08                   45.501179          85                   3638.0   \n",
       "2020-05-15                   45.273015          85                   3736.0   \n",
       "2020-05-22                   44.953474          85                   3143.5   \n",
       "2020-05-29                   36.235725          80                   2606.0   \n",
       "2020-06-05                   44.844355          85                   3584.0   \n",
       "2020-06-12                   45.067846          84                   3597.0   \n",
       "2020-06-19                   44.763218          85                   3690.5   \n",
       "2020-06-26                   45.426764          84                   3626.5   \n",
       "2020-07-03                   45.328405          83                   3556.0   \n",
       "2020-07-10                   45.236795          83                   3529.0   \n",
       "2020-07-17                   45.199249          82                   3537.0   \n",
       "2020-07-24                   45.540120          84                   3680.0   \n",
       "2020-07-31                   45.034174          83                   3736.0   \n",
       "2020-08-07                   45.668846          83                      NaN   \n",
       "2020-08-14                   42.237108          83                      NaN   \n",
       "2020-08-21                   45.032003          83                      NaN   \n",
       "2020-08-28                   45.278792          83                      NaN   \n",
       "2020-09-04                   45.282073          83                      NaN   \n",
       "2020-09-11                   44.931856          83                      NaN   \n",
       "2020-09-18                   45.310950          83                      NaN   \n",
       "2020-09-25                   45.309496          83                      NaN   \n",
       "2020-10-02                   37.308653          83                      NaN   \n",
       "2020-10-09                   45.350852          83                      NaN   \n",
       "2020-10-16                   45.613546          83                      NaN   \n",
       "2020-10-23                   39.192417          83                      NaN   \n",
       "2020-10-30                   37.289673          83                      NaN   \n",
       "2020-11-06                   44.089688          83                      NaN   \n",
       "2020-11-13                   44.958119          83                      NaN   \n",
       "2020-11-20                   37.263485          83                      NaN   \n",
       "2020-11-27                   45.222629          83                      NaN   \n",
       "2020-12-04                   44.872859          83                      NaN   \n",
       "2020-12-11                   45.252039          83                      NaN   \n",
       "2020-12-18                   45.250602          83                      NaN   \n",
       "2020-12-25                   37.249762          83                      NaN   \n",
       "\n",
       "                 Available Hours  Actual Util %  Predicted Chargeable hours  \\\n",
       "Weekending Date                                                               \n",
       "2020-01-03                  3200     101.562500                 3397.241331   \n",
       "2020-01-10                  3280     110.762195                 3472.557038   \n",
       "2020-01-17                  3240      97.777778                 3337.687833   \n",
       "2020-01-24                  3240      93.487654                 2955.602692   \n",
       "2020-01-31                  3200     106.781250                 3442.872064   \n",
       "2020-02-07                  3160     110.000000                 3383.365290   \n",
       "2020-02-14                  3240     105.524691                 3469.465658   \n",
       "2020-02-21                  3200     109.812500                 3399.460928   \n",
       "2020-02-28                  3240     110.339506                 3421.914487   \n",
       "2020-03-06                  3280     108.414634                 3543.776405   \n",
       "2020-03-13                  3320      90.376506                 3090.661616   \n",
       "2020-03-20                  3320     107.500000                 3545.550218   \n",
       "2020-03-27                  3360     104.142857                 3391.238669   \n",
       "2020-04-03                  3360     107.589286                 3627.322038   \n",
       "2020-04-10                  3280      94.085366                 2849.704912   \n",
       "2020-04-17                  3160     108.797468                 3437.970113   \n",
       "2020-04-24                  3440     108.720930                 3709.537010   \n",
       "2020-05-01                  3440      92.906977                 3032.233373   \n",
       "2020-05-08                  3400     107.000000                 3665.403471   \n",
       "2020-05-15                  3400     109.882353                 3646.076038   \n",
       "2020-05-22                  3400      92.455882                 3618.978191   \n",
       "2020-05-29                  3200      81.437500                 2708.733807   \n",
       "2020-06-05                  3400     105.411765                 3609.820506   \n",
       "2020-06-12                  3360     107.053571                 3586.179194   \n",
       "2020-06-19                  3400     108.544118                 3603.030557   \n",
       "2020-06-26                  3360     107.931548                 3616.429156   \n",
       "2020-07-03                  3320     107.108434                 3565.259134   \n",
       "2020-07-10                  3320     106.295181                 3557.700162   \n",
       "2020-07-17                  3280     107.835366                 3512.210331   \n",
       "2020-07-24                  3360     109.523810                 3626.566287   \n",
       "2020-07-31                  3320     112.530120                 3541.455034   \n",
       "2020-08-07                  3320            NaN                 3594.185964   \n",
       "2020-08-14                  3320            NaN                 3304.931194   \n",
       "2020-08-21                  3320            NaN                 3536.586146   \n",
       "2020-08-28                  3320            NaN                 3557.026991   \n",
       "2020-09-04                  3320            NaN                 3557.291898   \n",
       "2020-09-11                  3320            NaN                 3528.222443   \n",
       "2020-09-18                  3320            NaN                 3559.686978   \n",
       "2020-09-25                  3320            NaN                 3559.566238   \n",
       "2020-10-02                  3320            NaN                 2895.496284   \n",
       "2020-10-09                  3320            NaN                 3563.184967   \n",
       "2020-10-16                  3320            NaN                 3584.919854   \n",
       "2020-10-23                  3320            NaN                 3051.949188   \n",
       "2020-10-30                  3320            NaN                 2892.868741   \n",
       "2020-11-06                  3320            NaN                 3457.146303   \n",
       "2020-11-13                  3320            NaN                 3529.205886   \n",
       "2020-11-20                  3320            NaN                 2890.547578   \n",
       "2020-11-27                  3320            NaN                 3551.155821   \n",
       "2020-12-04                  3320            NaN                 3522.124799   \n",
       "2020-12-11                  3320            NaN                 3553.596708   \n",
       "2020-12-18                  3320            NaN                 3553.477383   \n",
       "2020-12-25                  3320            NaN                 2889.407700   \n",
       "\n",
       "                 Predicted Util Mean%  Predicted Util Lower%  \\\n",
       "Weekending Date                                                \n",
       "2020-01-03                 106.163792             100.145347   \n",
       "2020-01-10                 105.870641              99.854396   \n",
       "2020-01-17                 103.015057              97.000894   \n",
       "2020-01-24                  91.222305              85.210120   \n",
       "2020-01-31                 107.589752             101.598479   \n",
       "2020-02-07                 107.068522             101.080000   \n",
       "2020-02-14                 107.082273             101.096343   \n",
       "2020-02-21                 106.233154             100.249667   \n",
       "2020-02-28                 105.614645              99.633467   \n",
       "2020-03-06                 108.041964             102.062970   \n",
       "2020-03-13                  93.092217              87.115295   \n",
       "2020-03-20                 106.793681             100.818724   \n",
       "2020-03-27                 100.929722              94.956632   \n",
       "2020-04-03                 107.956013             101.984700   \n",
       "2020-04-10                  86.881247              80.911627   \n",
       "2020-04-17                 108.796523             102.828517   \n",
       "2020-04-24                 107.835378             101.884181   \n",
       "2020-05-01                  88.146319              82.197296   \n",
       "2020-05-08                 107.805984             101.859022   \n",
       "2020-05-15                 107.237531             101.292523   \n",
       "2020-05-22                 106.440535             100.497386   \n",
       "2020-05-29                  84.647931              78.706550   \n",
       "2020-06-05                 106.171191             100.231494   \n",
       "2020-06-12                 106.731524             100.793433   \n",
       "2020-06-19                 105.971487             100.034930   \n",
       "2020-06-26                 107.631820             101.696729   \n",
       "2020-07-03                 107.387323             101.453635   \n",
       "2020-07-10                 107.159643             101.227298   \n",
       "2020-07-17                 107.079583             101.161043   \n",
       "2020-07-24                 107.933520             102.016741   \n",
       "2020-07-31                 106.670332             100.755230   \n",
       "2020-08-07                 108.258613             102.345111   \n",
       "2020-08-14                  99.546120              93.499471   \n",
       "2020-08-21                 106.523679             100.467350   \n",
       "2020-08-28                 107.139367             101.081755   \n",
       "2020-09-04                 107.147346             101.089510   \n",
       "2020-09-11                 106.271760             100.213881   \n",
       "2020-09-18                 107.219487             101.161600   \n",
       "2020-09-25                 107.215851             101.157962   \n",
       "2020-10-02                  87.213743              81.155854   \n",
       "2020-10-09                 107.324848             101.272566   \n",
       "2020-10-16                 107.979514             101.925163   \n",
       "2020-10-23                  91.926180              85.871317   \n",
       "2020-10-30                  87.134601              81.045019   \n",
       "2020-11-06                 104.130913              98.037606   \n",
       "2020-11-13                 106.301382             100.207468   \n",
       "2020-11-20                  87.064686              80.970659   \n",
       "2020-11-27                 106.962525             100.868477   \n",
       "2020-12-04                 106.088096              99.994044   \n",
       "2020-12-11                 107.036045             100.941992   \n",
       "2020-12-18                 107.032451             100.938398   \n",
       "2020-12-25                  87.030352              80.936299   \n",
       "\n",
       "                 Predicted Util Upper%  \\\n",
       "Weekending Date                          \n",
       "2020-01-03                  112.182236   \n",
       "2020-01-10                  111.886887   \n",
       "2020-01-17                  109.029219   \n",
       "2020-01-24                   97.234490   \n",
       "2020-01-31                  113.581025   \n",
       "2020-02-07                  113.057043   \n",
       "2020-02-14                  113.068204   \n",
       "2020-02-21                  112.216641   \n",
       "2020-02-28                  111.595823   \n",
       "2020-03-06                  114.020957   \n",
       "2020-03-13                   99.069140   \n",
       "2020-03-20                  112.768639   \n",
       "2020-03-27                  106.902812   \n",
       "2020-04-03                  113.927326   \n",
       "2020-04-10                   92.850868   \n",
       "2020-04-17                  114.764528   \n",
       "2020-04-24                  113.786575   \n",
       "2020-05-01                   94.095342   \n",
       "2020-05-08                  113.752947   \n",
       "2020-05-15                  113.182538   \n",
       "2020-05-22                  112.383685   \n",
       "2020-05-29                   90.589313   \n",
       "2020-06-05                  112.110889   \n",
       "2020-06-12                  112.669614   \n",
       "2020-06-19                  111.908044   \n",
       "2020-06-26                  113.566911   \n",
       "2020-07-03                  113.321012   \n",
       "2020-07-10                  113.091989   \n",
       "2020-07-17                  112.998123   \n",
       "2020-07-24                  113.850300   \n",
       "2020-07-31                  112.585434   \n",
       "2020-08-07                  114.172116   \n",
       "2020-08-14                  105.592770   \n",
       "2020-08-21                  112.580008   \n",
       "2020-08-28                  113.196979   \n",
       "2020-09-04                  113.205183   \n",
       "2020-09-11                  112.329640   \n",
       "2020-09-18                  113.277375   \n",
       "2020-09-25                  113.273739   \n",
       "2020-10-02                   93.271633   \n",
       "2020-10-09                  113.377131   \n",
       "2020-10-16                  114.033864   \n",
       "2020-10-23                   97.981043   \n",
       "2020-10-30                   93.224182   \n",
       "2020-11-06                  110.224220   \n",
       "2020-11-13                  112.395296   \n",
       "2020-11-20                   93.158713   \n",
       "2020-11-27                  113.056573   \n",
       "2020-12-04                  112.182149   \n",
       "2020-12-11                  113.130099   \n",
       "2020-12-18                  113.126505   \n",
       "2020-12-25                   93.124406   \n",
       "\n",
       "                 Root mean square err 2020 (Mean Weekly ILC)      Diff  \n",
       "Weekending Date                                                         \n",
       "2020-01-03                                          1.569815 -1.840517  \n",
       "2020-01-10                                          1.569815  1.956621  \n",
       "2020-01-17                                          1.569815 -2.094912  \n",
       "2020-01-24                                          1.569815  0.906140  \n",
       "2020-01-31                                          1.569815 -0.323401  \n",
       "2020-02-07                                          1.569815  1.172591  \n",
       "2020-02-14                                          1.569815 -0.623033  \n",
       "2020-02-21                                          1.569815  1.431738  \n",
       "2020-02-28                                          1.569815  1.889945  \n",
       "2020-03-06                                          1.569815  0.149068  \n",
       "2020-03-13                                          1.569815 -1.086285  \n",
       "2020-03-20                                          1.569815  0.282527  \n",
       "2020-03-27                                          1.569815  1.285254  \n",
       "2020-04-03                                          1.569815 -0.146691  \n",
       "2020-04-10                                          1.569815  2.881647  \n",
       "2020-04-17                                          1.569815  0.000378  \n",
       "2020-04-24                                          1.569815  0.354221  \n",
       "2020-05-01                                          1.569815  1.904263  \n",
       "2020-05-08                                          1.569815 -0.322394  \n",
       "2020-05-15                                          1.569815  1.057929  \n",
       "2020-05-22                                          1.569815 -5.593861  \n",
       "2020-05-29                                          1.569815 -1.284173  \n",
       "2020-06-05                                          1.569815 -0.303771  \n",
       "2020-06-12                                          1.569815  0.128819  \n",
       "2020-06-19                                          1.569815  1.029052  \n",
       "2020-06-26                                          1.569815  0.119891  \n",
       "2020-07-03                                          1.569815 -0.111556  \n",
       "2020-07-10                                          1.569815 -0.345785  \n",
       "2020-07-17                                          1.569815  0.302313  \n",
       "2020-07-24                                          1.569815  0.636116  \n",
       "2020-07-31                                          1.569815  2.343915  \n",
       "2020-08-07                                          1.569815       NaN  \n",
       "2020-08-14                                          1.569815       NaN  \n",
       "2020-08-21                                          1.569815       NaN  \n",
       "2020-08-28                                          1.569815       NaN  \n",
       "2020-09-04                                          1.569815       NaN  \n",
       "2020-09-11                                          1.569815       NaN  \n",
       "2020-09-18                                          1.569815       NaN  \n",
       "2020-09-25                                          1.569815       NaN  \n",
       "2020-10-02                                          1.569815       NaN  \n",
       "2020-10-09                                          1.569815       NaN  \n",
       "2020-10-16                                          1.569815       NaN  \n",
       "2020-10-23                                          1.569815       NaN  \n",
       "2020-10-30                                          1.569815       NaN  \n",
       "2020-11-06                                          1.569815       NaN  \n",
       "2020-11-13                                          1.569815       NaN  \n",
       "2020-11-20                                          1.569815       NaN  \n",
       "2020-11-27                                          1.569815       NaN  \n",
       "2020-12-04                                          1.569815       NaN  \n",
       "2020-12-11                                          1.569815       NaN  \n",
       "2020-12-18                                          1.569815       NaN  \n",
       "2020-12-25                                          1.569815       NaN  "
      ]
     },
     "execution_count": 33,
     "metadata": {},
     "output_type": "execute_result"
    }
   ],
   "source": [
    "df_concat['Head Count'] = df_ilc_holidays.loc[first_index_cur_year:df_predictions_last_index]['Head Count']\n",
    "df_concat['Actual Chargeable Hours'] = df_concat['Actual'] * df_concat['Head Count']\n",
    "df_concat['Available Hours'] = df_concat['Head Count'] * 40\n",
    "df_concat['Actual Util %'] = df_concat['Actual Chargeable Hours']/df_concat['Available Hours'] * 100\n",
    "df_concat['Predicted Chargeable hours'] = df_concat['Mean predictions'] * df_concat['Head Count']\n",
    "df_concat['Predicted Util Mean%'] = df_concat['Predicted Chargeable hours']/df_concat['Available Hours'] * 100\n",
    "df_concat['Predicted Util Lower%'] = df_concat['Lower Predicted Hours']* df_concat['Head Count']/df_concat['Available Hours'] * 100\n",
    "df_concat['Predicted Util Upper%'] = df_concat['Upper Predicted Hours']* df_concat['Head Count']/df_concat['Available Hours'] * 100\n",
    "df_concat['Root mean square err 2020 (Mean Weekly ILC)'] = rmse_2020\n",
    "df_concat['Diff'] = df_concat['Actual'] - df_concat['Mean predictions']\n",
    "df_concat"
   ]
  },
  {
   "cell_type": "code",
   "execution_count": 34,
   "metadata": {},
   "outputs": [],
   "source": [
    "df_concat.to_csv('BI Actual vs Forecast ILC 2020_20200806.csv')"
   ]
  },
  {
   "cell_type": "code",
   "execution_count": null,
   "metadata": {},
   "outputs": [],
   "source": []
  }
 ],
 "metadata": {
  "kernelspec": {
   "display_name": "Python 3",
   "language": "python",
   "name": "python3"
  },
  "language_info": {
   "codemirror_mode": {
    "name": "ipython",
    "version": 3
   },
   "file_extension": ".py",
   "mimetype": "text/x-python",
   "name": "python",
   "nbconvert_exporter": "python",
   "pygments_lexer": "ipython3",
   "version": "3.7.6"
  }
 },
 "nbformat": 4,
 "nbformat_minor": 4
}
